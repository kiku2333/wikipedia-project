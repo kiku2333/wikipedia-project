{
 "cells": [
  {
   "cell_type": "code",
   "execution_count": 1,
   "metadata": {},
   "outputs": [],
   "source": [
    "import pandas as pd\n",
    "import numpy as np\n",
    "import dask\n",
    "import dask.dataframe as dd"
   ]
  },
  {
   "cell_type": "code",
   "execution_count": 2,
   "metadata": {},
   "outputs": [],
   "source": [
    "path = '/home/ubuntu/scratch/xinrui/intermediate-result/all-data/sig-contributions-all-data/'"
   ]
  },
  {
   "cell_type": "code",
   "execution_count": 3,
   "metadata": {},
   "outputs": [],
   "source": [
    "df = pd.read_parquet(path)"
   ]
  },
  {
   "cell_type": "code",
   "execution_count": 4,
   "metadata": {},
   "outputs": [],
   "source": [
    "x = df.groupby('contributor.username').agg({'added_len':'count'}).rename(columns={'added_len':'num_sig_contributions'})"
   ]
  },
  {
   "cell_type": "code",
   "execution_count": 5,
   "metadata": {},
   "outputs": [
    {
     "data": {
      "image/png": "[encoded data removed]",
      "text/plain": [
       "<Figure size 432x288 with 1 Axes>"
      ]
     },
     "metadata": {
      "needs_background": "light"
     },
     "output_type": "display_data"
    }
   ],
   "source": [
    "import matplotlib.pyplot as plt\n",
    "x.hist()\n",
    "plt.yscale('log')"
   ]
  },
  {
   "cell_type": "code",
   "execution_count": 6,
   "metadata": {},
   "outputs": [],
   "source": [
    "test = [100000,10000,1000,500,400,300,200,100,10,1]  "
   ]
  },
  {
   "cell_type": "code",
   "execution_count": 7,
   "metadata": {},
   "outputs": [
    {
     "name": "stdout",
     "output_type": "stream",
     "text": [
      "There are 4 editors with a significant contributions greater than or equal to 100000\n",
      "There are 302 editors with a significant contributions greater than or equal to 10000\n",
      "There are 6739 editors with a significant contributions greater than or equal to 1000\n",
      "There are 12740 editors with a significant contributions greater than or equal to 500\n",
      "There are 15415 editors with a significant contributions greater than or equal to 400\n",
      "There are 19457 editors with a significant contributions greater than or equal to 300\n",
      "There are 26610 editors with a significant contributions greater than or equal to 200\n",
      "There are 44552 editors with a significant contributions greater than or equal to 100\n",
      "There are 302222 editors with a significant contributions greater than or equal to 10\n",
      "There are 3367173 editors with a significant contributions greater than or equal to 1\n"
     ]
    }
   ],
   "source": [
    "for i in test:\n",
    "    tmp = x[x['num_sig_contributions']>=i]\n",
    "    print('There are {0} editors with a significant contributions greater than or equal to {1}'.format(len(tmp),i))"
   ]
  },
  {
   "cell_type": "code",
   "execution_count": 8,
   "metadata": {},
   "outputs": [],
   "source": [
    "res = x[x['num_sig_contributions'] >= 500]"
   ]
  },
  {
   "cell_type": "code",
   "execution_count": 10,
   "metadata": {},
   "outputs": [],
   "source": [
    "# filter out bots\n",
    "def is_bot(text):\n",
    "    text = text.split(' ')\n",
    "    for item in text:\n",
    "        if item.lower().endswith('bot'):\n",
    "            return True\n",
    "    return False"
   ]
  },
  {
   "cell_type": "code",
   "execution_count": 18,
   "metadata": {},
   "outputs": [],
   "source": [
    "res = res[res.index.map(is_bot) == False]"
   ]
  },
  {
   "cell_type": "code",
   "execution_count": 19,
   "metadata": {},
   "outputs": [],
   "source": [
    "res.to_parquet('../../intermediate-result/all-data/editors_sig_contribution_above_500')"
   ]
  },
  {
   "cell_type": "code",
   "execution_count": null,
   "metadata": {},
   "outputs": [],
   "source": []
  },
  {
   "cell_type": "code",
   "execution_count": null,
   "metadata": {},
   "outputs": [],
   "source": []
  }
 ],
 "metadata": {
  "kernelspec": {
   "display_name": "Python 3",
   "language": "python",
   "name": "python3"
  },
  "language_info": {
   "codemirror_mode": {
    "name": "ipython",
    "version": 3
   },
   "file_extension": ".py",
   "mimetype": "text/x-python",
   "name": "python",
   "nbconvert_exporter": "python",
   "pygments_lexer": "ipython3",
   "version": "3.8.10"
  }
 },
 "nbformat": 4,
 "nbformat_minor": 5
}
