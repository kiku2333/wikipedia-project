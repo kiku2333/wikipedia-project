{
 "cells": [
  {
   "cell_type": "code",
   "execution_count": 1,
   "metadata": {},
   "outputs": [],
   "source": [
    "import dask\n",
    "import dask.dataframe as ddf\n",
    "import os\n",
    "from glob import glob\n",
    "import re\n",
    "import pandas as pd\n",
    "import numpy as np\n",
    "import time\n",
    "import pickle\n",
    "import hashlib\n",
    "import mwparserfromhell\n",
    "import json"
   ]
  },
  {
   "cell_type": "code",
   "execution_count": 2,
   "metadata": {},
   "outputs": [],
   "source": [
    "controversial_title_dir = '/home/ubuntu/intermediate-result/controversial_titles/'"
   ]
  },
  {
   "cell_type": "code",
   "execution_count": 3,
   "metadata": {},
   "outputs": [],
   "source": [
    "all_title_files = glob(controversial_title_dir + '*')"
   ]
  },
  {
   "cell_type": "code",
   "execution_count": 4,
   "metadata": {},
   "outputs": [],
   "source": [
    "metric_path = '../../process-all-wiki/intermediate-result/'"
   ]
  },
  {
   "cell_type": "code",
   "execution_count": 5,
   "metadata": {},
   "outputs": [],
   "source": [
    "all_files = glob(metric_path + '*')"
   ]
  },
  {
   "cell_type": "code",
   "execution_count": null,
   "metadata": {},
   "outputs": [],
   "source": []
  },
  {
   "cell_type": "code",
   "execution_count": null,
   "metadata": {},
   "outputs": [],
   "source": [
    "# get all controversial titles (talk pages)"
   ]
  },
  {
   "cell_type": "code",
   "execution_count": 6,
   "metadata": {},
   "outputs": [],
   "source": [
    "talks = []\n",
    "for i in all_title_files:\n",
    "    with open(i, 'rb') as f:\n",
    "        c_titles = pickle.load(f)\n",
    "        talks += c_titles"
   ]
  },
  {
   "cell_type": "code",
   "execution_count": 7,
   "metadata": {},
   "outputs": [],
   "source": [
    "# get corresponding article pages\n",
    "articles = list(map(lambda x: str(x).replace('Talk:', ''), talks))"
   ]
  },
  {
   "cell_type": "code",
   "execution_count": 8,
   "metadata": {},
   "outputs": [],
   "source": [
    "controversial_articles = articles + talks"
   ]
  },
  {
   "cell_type": "code",
   "execution_count": 9,
   "metadata": {},
   "outputs": [],
   "source": [
    "# with open('result/' + 'controversial_articles.txt', \"wb\") as fp:   #Pickling\n",
    "#     pickle.dump(controversial_articles, fp)"
   ]
  },
  {
   "cell_type": "code",
   "execution_count": null,
   "metadata": {},
   "outputs": [],
   "source": [
    "# read all folders\n",
    "# for controversial articles, get all metrics, and append it to a csv file"
   ]
  },
  {
   "cell_type": "code",
   "execution_count": 10,
   "metadata": {},
   "outputs": [],
   "source": [
    "for file in all_files:\n",
    "    test = ddf.read_parquet(os.path.join(metric_path,file,'revision.count')).compute()\n",
    "    test = test.loc[test.index.isin(controversial_articles)]\n",
    "    if test.empty:\n",
    "        continue\n",
    "    test = test.join(ddf.read_parquet(os.path.join(metric_path,file,'page.length')).compute())\n",
    "\n",
    "    test = test.join(ddf.read_parquet(os.path.join(metric_path,file,'unique.editors')).compute())\n",
    "\n",
    "    test = test.join(ddf.read_parquet(os.path.join(metric_path,file,'links.count')).compute())\n",
    "\n",
    "    test = test.join(ddf.read_parquet(os.path.join(metric_path,file,'anon.edits')).compute())\n",
    "\n",
    "    test = test.join(ddf.read_parquet(os.path.join(metric_path,file,'minor')).compute())\n",
    "\n",
    "    test = test.join(ddf.read_parquet(os.path.join(metric_path,file,'reverts_new')).compute())\n",
    "\n",
    "    test = test.join(ddf.read_parquet(os.path.join(metric_path,file,'crc')).compute())\n",
    "    \n",
    "    test.to_csv('controversial_articles.csv', mode='a', header=False)"
   ]
  },
  {
   "cell_type": "code",
   "execution_count": null,
   "metadata": {},
   "outputs": [],
   "source": []
  },
  {
   "cell_type": "code",
   "execution_count": null,
   "metadata": {},
   "outputs": [],
   "source": [
    "# convert the csv to pandas"
   ]
  },
  {
   "cell_type": "code",
   "execution_count": 11,
   "metadata": {},
   "outputs": [],
   "source": [
    "data = pd.read_csv('controversial_articles.csv',names=['revision.count','page.length','unique.editors','links.count','anon.edits',\n",
    "                                                       'minor','reverts','crc'])"
   ]
  },
  {
   "cell_type": "code",
   "execution_count": null,
   "metadata": {},
   "outputs": [],
   "source": []
  },
  {
   "cell_type": "code",
   "execution_count": null,
   "metadata": {},
   "outputs": [],
   "source": [
    "# merge article and talk pages\n",
    "# rename metrics for talk pages (add prefix 'talk.')\n",
    "# remove the leading 'Talk:' for talk pages\n",
    "# then join talk and article pages to get all info for an article page"
   ]
  },
  {
   "cell_type": "code",
   "execution_count": 12,
   "metadata": {},
   "outputs": [],
   "source": [
    "article = data[data['crc'].isnull()].drop(columns={'crc'})"
   ]
  },
  {
   "cell_type": "code",
   "execution_count": 13,
   "metadata": {},
   "outputs": [],
   "source": [
    "talk = data[data['crc'].notnull()]"
   ]
  },
  {
   "cell_type": "code",
   "execution_count": 14,
   "metadata": {},
   "outputs": [],
   "source": [
    "talk.index = talk.index.str.replace('Talk:','')"
   ]
  },
  {
   "cell_type": "code",
   "execution_count": 15,
   "metadata": {},
   "outputs": [],
   "source": [
    "talk.columns = ['talk.' + str(col) for col in talk.columns]"
   ]
  },
  {
   "cell_type": "code",
   "execution_count": null,
   "metadata": {},
   "outputs": [],
   "source": []
  },
  {
   "cell_type": "code",
   "execution_count": 16,
   "metadata": {},
   "outputs": [],
   "source": [
    "final = article.join(talk).fillna(0).astype('int')"
   ]
  },
  {
   "cell_type": "code",
   "execution_count": 17,
   "metadata": {},
   "outputs": [],
   "source": [
    "final.to_csv('final_data.csv',index=True)"
   ]
  },
  {
   "cell_type": "code",
   "execution_count": null,
   "metadata": {},
   "outputs": [],
   "source": []
  },
  {
   "cell_type": "code",
   "execution_count": null,
   "metadata": {},
   "outputs": [],
   "source": []
  },
  {
   "cell_type": "code",
   "execution_count": null,
   "metadata": {},
   "outputs": [],
   "source": []
  },
  {
   "cell_type": "code",
   "execution_count": null,
   "metadata": {},
   "outputs": [],
   "source": []
  }
 ],
 "metadata": {
  "kernelspec": {
   "display_name": "Python 3",
   "language": "python",
   "name": "python3"
  },
  "language_info": {
   "codemirror_mode": {
    "name": "ipython",
    "version": 3
   },
   "file_extension": ".py",
   "mimetype": "text/x-python",
   "name": "python",
   "nbconvert_exporter": "python",
   "pygments_lexer": "ipython3",
   "version": "3.8.10"
  }
 },
 "nbformat": 4,
 "nbformat_minor": 4
}
