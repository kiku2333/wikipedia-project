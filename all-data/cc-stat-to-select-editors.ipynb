{
 "cells": [
  {
   "cell_type": "code",
   "execution_count": 1,
   "metadata": {},
   "outputs": [
    {
     "name": "stderr",
     "output_type": "stream",
     "text": [
      "/home/ubuntu/.local/lib/python3.8/site-packages/dask/dataframe/utils.py:374: FutureWarning: pandas.Int64Index is deprecated and will be removed from pandas in a future version. Use pandas.Index with the appropriate dtype instead.\n",
      "  _numeric_index_types = (pd.Int64Index, pd.Float64Index, pd.UInt64Index)\n",
      "/home/ubuntu/.local/lib/python3.8/site-packages/dask/dataframe/utils.py:374: FutureWarning: pandas.Float64Index is deprecated and will be removed from pandas in a future version. Use pandas.Index with the appropriate dtype instead.\n",
      "  _numeric_index_types = (pd.Int64Index, pd.Float64Index, pd.UInt64Index)\n",
      "/home/ubuntu/.local/lib/python3.8/site-packages/dask/dataframe/utils.py:374: FutureWarning: pandas.UInt64Index is deprecated and will be removed from pandas in a future version. Use pandas.Index with the appropriate dtype instead.\n",
      "  _numeric_index_types = (pd.Int64Index, pd.Float64Index, pd.UInt64Index)\n"
     ]
    }
   ],
   "source": [
    "import pandas as pd\n",
    "import numpy as np\n",
    "import dask\n",
    "import dask.dataframe as dd"
   ]
  },
  {
   "cell_type": "code",
   "execution_count": 2,
   "metadata": {},
   "outputs": [],
   "source": [
    "a = pd.read_csv('cc-score-new-1.csv',sep='\\t',header=None)"
   ]
  },
  {
   "cell_type": "code",
   "execution_count": 3,
   "metadata": {},
   "outputs": [],
   "source": [
    "a[['editor','cc']] = pd.DataFrame(a[0].apply(lambda x: x.rsplit(',',1)).to_list())"
   ]
  },
  {
   "cell_type": "code",
   "execution_count": 4,
   "metadata": {},
   "outputs": [],
   "source": [
    "x = a.drop(columns={0}).set_index('editor')"
   ]
  },
  {
   "cell_type": "code",
   "execution_count": 5,
   "metadata": {},
   "outputs": [],
   "source": [
    "x['cc'] = x['cc'].astype(float)"
   ]
  },
  {
   "cell_type": "code",
   "execution_count": 6,
   "metadata": {},
   "outputs": [
    {
     "data": {
      "image/png": "[encoded data removed]",
      "text/plain": [
       "<Figure size 432x288 with 1 Axes>"
      ]
     },
     "metadata": {
      "needs_background": "light"
     },
     "output_type": "display_data"
    }
   ],
   "source": [
    "import matplotlib.pyplot as plt\n",
    "x.hist()\n",
    "plt.yscale('log')"
   ]
  },
  {
   "cell_type": "code",
   "execution_count": 7,
   "metadata": {},
   "outputs": [],
   "source": [
    "test = [1000,500,200,100,50,40,30,20,10,1]  "
   ]
  },
  {
   "cell_type": "code",
   "execution_count": 8,
   "metadata": {},
   "outputs": [],
   "source": [
    "with open(\"all-kept-editors-by-sig-contrib.txt\") as file_in:\n",
    "    all_editors = []\n",
    "    for line in file_in:\n",
    "        all_editors.append(line.rstrip())"
   ]
  },
  {
   "cell_type": "code",
   "execution_count": 9,
   "metadata": {},
   "outputs": [
    {
     "name": "stdout",
     "output_type": "stream",
     "text": [
      "There are 12662 selected editors\n",
      "There are 7 editors with a cc score greater than or equal to 1000\n",
      "There are 48 editors with a cc score greater than or equal to 500\n",
      "There are 313 editors with a cc score greater than or equal to 200\n",
      "There are 1021 editors with a cc score greater than or equal to 100\n",
      "There are 2590 editors with a cc score greater than or equal to 50\n",
      "There are 3348 editors with a cc score greater than or equal to 40\n",
      "There are 4593 editors with a cc score greater than or equal to 30\n",
      "There are 6521 editors with a cc score greater than or equal to 20\n",
      "There are 9688 editors with a cc score greater than or equal to 10\n",
      "There are 12602 editors with a cc score greater than or equal to 1\n"
     ]
    }
   ],
   "source": [
    "print('There are {0} selected editors'.format(len(all_editors)))\n",
    "for i in test:\n",
    "    tmp = x[x['cc']>=i]\n",
    "    print('There are {0} editors with a cc score greater than or equal to {1}'.format(len(tmp),i))"
   ]
  },
  {
   "cell_type": "code",
   "execution_count": 10,
   "metadata": {},
   "outputs": [],
   "source": [
    "res = x[x['cc'] >= 25]"
   ]
  },
  {
   "cell_type": "code",
   "execution_count": 11,
   "metadata": {},
   "outputs": [],
   "source": [
    "res.to_parquet('/home/ubuntu/xinrui/selected-editors-based-on-cc')"
   ]
  },
  {
   "cell_type": "code",
   "execution_count": 2,
   "metadata": {},
   "outputs": [
    {
     "data": {
      "text/html": [
       "<div>\n",
       "<style scoped>\n",
       "    .dataframe tbody tr th:only-of-type {\n",
       "        vertical-align: middle;\n",
       "    }\n",
       "\n",
       "    .dataframe tbody tr th {\n",
       "        vertical-align: top;\n",
       "    }\n",
       "\n",
       "    .dataframe thead th {\n",
       "        text-align: right;\n",
       "    }\n",
       "</style>\n",
       "<table border=\"1\" class=\"dataframe\">\n",
       "  <thead>\n",
       "    <tr style=\"text-align: right;\">\n",
       "      <th></th>\n",
       "      <th>cc</th>\n",
       "    </tr>\n",
       "    <tr>\n",
       "      <th>editor</th>\n",
       "      <th></th>\n",
       "    </tr>\n",
       "  </thead>\n",
       "  <tbody>\n",
       "    <tr>\n",
       "      <th>Mkmcconn</th>\n",
       "      <td>84.315868</td>\n",
       "    </tr>\n",
       "    <tr>\n",
       "      <th>Tyrol5</th>\n",
       "      <td>41.326328</td>\n",
       "    </tr>\n",
       "    <tr>\n",
       "      <th>Wadewitz</th>\n",
       "      <td>103.459992</td>\n",
       "    </tr>\n",
       "    <tr>\n",
       "      <th>LeadSongDog</th>\n",
       "      <td>37.256150</td>\n",
       "    </tr>\n",
       "    <tr>\n",
       "      <th>Geographyinitiative</th>\n",
       "      <td>25.898286</td>\n",
       "    </tr>\n",
       "    <tr>\n",
       "      <th>...</th>\n",
       "      <td>...</td>\n",
       "    </tr>\n",
       "    <tr>\n",
       "      <th>Joao10Siamun</th>\n",
       "      <td>48.792149</td>\n",
       "    </tr>\n",
       "    <tr>\n",
       "      <th>Valmir144</th>\n",
       "      <td>217.407343</td>\n",
       "    </tr>\n",
       "    <tr>\n",
       "      <th>Dsp13</th>\n",
       "      <td>38.726995</td>\n",
       "    </tr>\n",
       "    <tr>\n",
       "      <th>Natg 19</th>\n",
       "      <td>25.707867</td>\n",
       "    </tr>\n",
       "    <tr>\n",
       "      <th>Zafonic</th>\n",
       "      <td>403.110221</td>\n",
       "    </tr>\n",
       "  </tbody>\n",
       "</table>\n",
       "<p>5414 rows × 1 columns</p>\n",
       "</div>"
      ],
      "text/plain": [
       "                             cc\n",
       "editor                         \n",
       "Mkmcconn              84.315868\n",
       "Tyrol5                41.326328\n",
       "Wadewitz             103.459992\n",
       "LeadSongDog           37.256150\n",
       "Geographyinitiative   25.898286\n",
       "...                         ...\n",
       "Joao10Siamun          48.792149\n",
       "Valmir144            217.407343\n",
       "Dsp13                 38.726995\n",
       "Natg 19               25.707867\n",
       "Zafonic              403.110221\n",
       "\n",
       "[5414 rows x 1 columns]"
      ]
     },
     "execution_count": 2,
     "metadata": {},
     "output_type": "execute_result"
    }
   ],
   "source": [
    "pd.read_parquet('../mount-files/selected-editors-based-on-cc')"
   ]
  },
  {
   "cell_type": "code",
   "execution_count": null,
   "metadata": {},
   "outputs": [],
   "source": []
  }
 ],
 "metadata": {
  "kernelspec": {
   "display_name": "Python 3",
   "language": "python",
   "name": "python3"
  },
  "language_info": {
   "codemirror_mode": {
    "name": "ipython",
    "version": 3
   },
   "file_extension": ".py",
   "mimetype": "text/x-python",
   "name": "python",
   "nbconvert_exporter": "python",
   "pygments_lexer": "ipython3",
   "version": "3.8.10"
  }
 },
 "nbformat": 4,
 "nbformat_minor": 5
}
