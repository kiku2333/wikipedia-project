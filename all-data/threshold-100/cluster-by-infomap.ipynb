{
 "cells": [
  {
   "cell_type": "code",
   "execution_count": 1,
   "id": "downtown-polls",
   "metadata": {},
   "outputs": [
    {
     "name": "stderr",
     "output_type": "stream",
     "text": [
      "/home/ubuntu/.local/lib/python3.8/site-packages/dask/dataframe/utils.py:374: FutureWarning: pandas.Int64Index is deprecated and will be removed from pandas in a future version. Use pandas.Index with the appropriate dtype instead.\n",
      "  _numeric_index_types = (pd.Int64Index, pd.Float64Index, pd.UInt64Index)\n",
      "/home/ubuntu/.local/lib/python3.8/site-packages/dask/dataframe/utils.py:374: FutureWarning: pandas.Float64Index is deprecated and will be removed from pandas in a future version. Use pandas.Index with the appropriate dtype instead.\n",
      "  _numeric_index_types = (pd.Int64Index, pd.Float64Index, pd.UInt64Index)\n",
      "/home/ubuntu/.local/lib/python3.8/site-packages/dask/dataframe/utils.py:374: FutureWarning: pandas.UInt64Index is deprecated and will be removed from pandas in a future version. Use pandas.Index with the appropriate dtype instead.\n",
      "  _numeric_index_types = (pd.Int64Index, pd.Float64Index, pd.UInt64Index)\n"
     ]
    }
   ],
   "source": [
    "import dask.dataframe as ddf\n",
    "import pandas as pd\n",
    "import numpy as np\n",
    "from infomap import Infomap\n",
    "import networkx as nx"
   ]
  },
  {
   "cell_type": "code",
   "execution_count": 2,
   "id": "monthly-south",
   "metadata": {},
   "outputs": [],
   "source": [
    "sim_matrix = pd.read_parquet('result/user-similarity')"
   ]
  },
  {
   "cell_type": "code",
   "execution_count": 4,
   "id": "annual-organic",
   "metadata": {},
   "outputs": [],
   "source": [
    "sim = sim_matrix.values"
   ]
  },
  {
   "cell_type": "code",
   "execution_count": 5,
   "id": "billion-export",
   "metadata": {},
   "outputs": [],
   "source": [
    "sim = sim - 0.01"
   ]
  },
  {
   "cell_type": "code",
   "execution_count": null,
   "id": "persistent-geometry",
   "metadata": {},
   "outputs": [],
   "source": []
  },
  {
   "cell_type": "code",
   "execution_count": 6,
   "id": "hawaiian-screw",
   "metadata": {},
   "outputs": [],
   "source": [
    "editors = list(sim_matrix.index)\n",
    "\n",
    "editor_info = pd.DataFrame(editors).reset_index().rename(columns={'index':'name',0:'contributor.username'})\n",
    "\n",
    "res = pd.DataFrame()"
   ]
  },
  {
   "cell_type": "code",
   "execution_count": 9,
   "id": "original-attention",
   "metadata": {},
   "outputs": [],
   "source": [
    "def param_test(threshold, method):\n",
    "    if method == 'sin':\n",
    "        dis = np.arccos(sim)/pi\n",
    "    else:\n",
    "        dis = 1 - sim\n",
    "    G = nx.from_numpy_matrix(dis) \n",
    "    edge_weights = nx.get_edge_attributes(G,'weight')\n",
    "    G.remove_edges_from((e for e, w in edge_weights.items() if w > threshold))\n",
    "    im = Infomap(silent=True, num_trials=10,include_self_links=False)   \n",
    "    mapping = im.add_networkx_graph(G)\n",
    "    im.run()\n",
    "    df = im.get_dataframe(columns=[\"name\",\"node_id\", \"module_id\"])\n",
    "    num_modules = len(df['module_id'].unique())\n",
    "    a = df.groupby('module_id').count()\n",
    "    num_singe_editor_groups = len(a[a['name'] == 1])\n",
    "    max_ = a['name'].max()\n",
    "    min_ = a['name'].min()\n",
    "    greater_than_50 = len(a[a['name']>50])\n",
    "    ans = 'threshold is {}, number of groups is {}, number of single editor groups is {}, '\n",
    "    ans += 'max group contains {} editors, {} groups contains more than 50 editors'\n",
    "    print(ans.format(threshold,num_modules,num_singe_editor_groups,max_,greater_than_50))\n",
    "    \n",
    "    fin = df.merge(editor_info,on='name')\n",
    "    fin = fin.rename(columns={'module_id':'group'}).set_index('contributor.username')[['group']]\n",
    "    res['threshold-' + str(threshold)] = fin['group']"
   ]
  },
  {
   "cell_type": "code",
   "execution_count": 10,
   "id": "dressed-going",
   "metadata": {},
   "outputs": [],
   "source": [
    "test = np.arange(0,1.1,0.1).round(2)"
   ]
  },
  {
   "cell_type": "code",
   "execution_count": 11,
   "id": "incredible-interest",
   "metadata": {},
   "outputs": [
    {
     "name": "stdout",
     "output_type": "stream",
     "text": [
      "threshold is 0.0, number of groups is 4631, number of single editor groups is 4631, max group contains 1 editors, 0 groups contains more than 50 editors\n",
      "threshold is 0.1, number of groups is 4517, number of single editor groups is 4438, max group contains 7 editors, 0 groups contains more than 50 editors\n",
      "threshold is 0.2, number of groups is 4374, number of single editor groups is 4234, max group contains 11 editors, 0 groups contains more than 50 editors\n",
      "threshold is 0.3, number of groups is 4181, number of single editor groups is 3979, max group contains 14 editors, 0 groups contains more than 50 editors\n",
      "threshold is 0.4, number of groups is 3715, number of single editor groups is 3441, max group contains 72 editors, 1 groups contains more than 50 editors\n",
      "threshold is 0.5, number of groups is 3027, number of single editor groups is 2745, max group contains 315 editors, 6 groups contains more than 50 editors\n",
      "threshold is 0.6, number of groups is 2057, number of single editor groups is 1817, max group contains 258 editors, 17 groups contains more than 50 editors\n",
      "threshold is 0.7, number of groups is 891, number of single editor groups is 798, max group contains 1300 editors, 12 groups contains more than 50 editors\n",
      "threshold is 0.8, number of groups is 324, number of single editor groups is 122, max group contains 119 editors, 20 groups contains more than 50 editors\n",
      "threshold is 0.9, number of groups is 87, number of single editor groups is 15, max group contains 270 editors, 34 groups contains more than 50 editors\n",
      "threshold is 1.0, number of groups is 2, number of single editor groups is 1, max group contains 4630 editors, 1 groups contains more than 50 editors\n"
     ]
    }
   ],
   "source": [
    "for i in test:\n",
    "    b = param_test(i,'original')"
   ]
  },
  {
   "cell_type": "code",
   "execution_count": 13,
   "id": "revolutionary-child",
   "metadata": {},
   "outputs": [],
   "source": [
    "res.to_csv('result/all-data-cluster-param-test-by-revert-graph.csv',encoding='utf-16', sep=\"\\t\")"
   ]
  },
  {
   "cell_type": "code",
   "execution_count": null,
   "id": "worst-bangkok",
   "metadata": {},
   "outputs": [],
   "source": []
  },
  {
   "cell_type": "code",
   "execution_count": null,
   "id": "medieval-grave",
   "metadata": {},
   "outputs": [],
   "source": []
  }
 ],
 "metadata": {
  "kernelspec": {
   "display_name": "Python 3",
   "language": "python",
   "name": "python3"
  },
  "language_info": {
   "codemirror_mode": {
    "name": "ipython",
    "version": 3
   },
   "file_extension": ".py",
   "mimetype": "text/x-python",
   "name": "python",
   "nbconvert_exporter": "python",
   "pygments_lexer": "ipython3",
   "version": "3.8.10"
  }
 },
 "nbformat": 4,
 "nbformat_minor": 5
}
