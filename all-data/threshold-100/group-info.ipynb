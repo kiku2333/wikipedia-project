{
 "cells": [
  {
   "cell_type": "code",
   "execution_count": 17,
   "metadata": {},
   "outputs": [],
   "source": [
    "import dask.dataframe as ddf\n",
    "import pandas as pd\n",
    "import json\n",
    "import os\n",
    "import numpy as np\n",
    "import hashlib\n",
    "import re\n",
    "import pickle\n",
    "import itertools"
   ]
  },
  {
   "cell_type": "code",
   "execution_count": 2,
   "metadata": {},
   "outputs": [],
   "source": [
    "graph = pd.read_csv('result/global_RG-threshold-100.csv', sep=\"\\t\",encoding='utf-16').set_index('Unnamed: 0')"
   ]
  },
  {
   "cell_type": "code",
   "execution_count": 3,
   "metadata": {},
   "outputs": [],
   "source": [
    "user_group = pd.read_csv('result/all-data-editor-cluster-result.csv', sep=\"\\t\",encoding='utf-16').set_index('contributor.username')"
   ]
  },
  {
   "cell_type": "code",
   "execution_count": 4,
   "metadata": {},
   "outputs": [],
   "source": [
    "# minus 1 so the group number starts from 0, so no index issue in future steps. \n",
    "# at the end, add one to group number to match with the original group result\n",
    "user_group['group'] = user_group['group'] - 1"
   ]
  },
  {
   "cell_type": "code",
   "execution_count": 5,
   "metadata": {},
   "outputs": [],
   "source": [
    "kept_editors = user_group.index.to_list()"
   ]
  },
  {
   "cell_type": "code",
   "execution_count": 6,
   "metadata": {},
   "outputs": [],
   "source": [
    "n_groups = len(user_group['group'].unique())"
   ]
  },
  {
   "cell_type": "code",
   "execution_count": 7,
   "metadata": {},
   "outputs": [],
   "source": [
    "group_revert_graph = np.zeros((n_groups,n_groups))"
   ]
  },
  {
   "cell_type": "code",
   "execution_count": 8,
   "metadata": {},
   "outputs": [],
   "source": [
    "def get_group(user):\n",
    "    return user_group.loc[user]['group']"
   ]
  },
  {
   "cell_type": "code",
   "execution_count": 9,
   "metadata": {},
   "outputs": [],
   "source": [
    "for user in kept_editors:\n",
    "    user_g = get_group(user)\n",
    "    if user in graph.index:\n",
    "        x = graph.loc[user]\n",
    "        revert_users = x[x>0].index\n",
    "        for u in revert_users:\n",
    "            curr_group = get_group(u)\n",
    "            group_revert_graph[user_g][curr_group] += x[u]"
   ]
  },
  {
   "cell_type": "code",
   "execution_count": 10,
   "metadata": {},
   "outputs": [],
   "source": [
    "group_rv = pd.DataFrame(group_revert_graph)"
   ]
  },
  {
   "cell_type": "code",
   "execution_count": 11,
   "metadata": {},
   "outputs": [],
   "source": [
    "group_rv = group_rv.loc[~(group_rv==0).all(axis=1)]\n",
    "group_rv = group_rv.loc[:, ~(group_rv == 0).all(axis=0)]"
   ]
  },
  {
   "cell_type": "code",
   "execution_count": 12,
   "metadata": {},
   "outputs": [],
   "source": [
    "group_rv.columns = group_rv.columns + 1"
   ]
  },
  {
   "cell_type": "code",
   "execution_count": 13,
   "metadata": {},
   "outputs": [],
   "source": [
    "group_rv.index = group_rv.index + 1"
   ]
  },
  {
   "cell_type": "code",
   "execution_count": 14,
   "metadata": {},
   "outputs": [],
   "source": [
    "group_rv.to_csv('result/group-revert-graph.csv',encoding='utf-16', sep=\"\\t\")"
   ]
  },
  {
   "cell_type": "code",
   "execution_count": null,
   "metadata": {},
   "outputs": [],
   "source": [
    "# group consine similarity"
   ]
  },
  {
   "cell_type": "code",
   "execution_count": 33,
   "metadata": {},
   "outputs": [],
   "source": [
    "all_groups = list(set(group_rv.index.to_list() + group_rv.columns.map(int).to_list()))"
   ]
  },
  {
   "cell_type": "code",
   "execution_count": 34,
   "metadata": {},
   "outputs": [],
   "source": [
    "res = {}"
   ]
  },
  {
   "cell_type": "code",
   "execution_count": 35,
   "metadata": {},
   "outputs": [],
   "source": [
    "# create the list for comparsion, add up columns and rows for each user\n",
    "def revert_list(user):\n",
    "    col_len = len(group_rv)\n",
    "    cols = []\n",
    "    row_len = len(group_rv.columns)\n",
    "    rows = []\n",
    "    if user not in group_rv.index:\n",
    "        rows = [0.0] * row_len\n",
    "    else:\n",
    "        rows = group_rv.loc[user].to_list()\n",
    "    if user not in group_rv:\n",
    "        cols = [0.0] * col_len\n",
    "    else:\n",
    "        cols = group_rv[user].to_list()\n",
    "    res[user] = rows + cols"
   ]
  },
  {
   "cell_type": "code",
   "execution_count": 36,
   "metadata": {},
   "outputs": [],
   "source": [
    "result = [revert_list(i) for i in all_groups]"
   ]
  },
  {
   "cell_type": "code",
   "execution_count": 37,
   "metadata": {},
   "outputs": [],
   "source": [
    "from sklearn.metrics.pairwise import cosine_similarity"
   ]
  },
  {
   "cell_type": "code",
   "execution_count": 38,
   "metadata": {},
   "outputs": [],
   "source": [
    "num_groups = len(all_groups)"
   ]
  },
  {
   "cell_type": "code",
   "execution_count": 39,
   "metadata": {},
   "outputs": [],
   "source": [
    "sim_matrix = np.empty((num_groups,num_groups))\n",
    "# np.fill_diagonal(sim_matrix,np.nan)\n",
    "np.fill_diagonal(sim_matrix,1)"
   ]
  },
  {
   "cell_type": "code",
   "execution_count": 40,
   "metadata": {},
   "outputs": [],
   "source": [
    "for i in range(num_groups - 1):\n",
    "    for j in range(i + 1, num_groups):\n",
    "        u1 = all_groups[i]\n",
    "        u2 = all_groups[j]\n",
    "        sim = cosine_similarity([res[u1]],[res[u2]])\n",
    "        sim_matrix[i][j] = sim\n",
    "        sim_matrix[j][i] = sim"
   ]
  },
  {
   "cell_type": "code",
   "execution_count": 41,
   "metadata": {},
   "outputs": [],
   "source": [
    "df = pd.DataFrame(sim_matrix,index=all_groups,columns=all_groups)"
   ]
  },
  {
   "cell_type": "code",
   "execution_count": 42,
   "metadata": {},
   "outputs": [],
   "source": [
    "# must have string col names\n",
    "df.columns = df.columns.map(str)"
   ]
  },
  {
   "cell_type": "code",
   "execution_count": 44,
   "metadata": {},
   "outputs": [],
   "source": [
    "df.to_csv('result/group-similarity.csv', index=False,sep=\"\\t\",encoding='utf-16')"
   ]
  },
  {
   "cell_type": "code",
   "execution_count": null,
   "metadata": {},
   "outputs": [],
   "source": []
  },
  {
   "cell_type": "code",
   "execution_count": null,
   "metadata": {},
   "outputs": [],
   "source": [
    "# mutual and min revert"
   ]
  },
  {
   "cell_type": "code",
   "execution_count": 15,
   "metadata": {},
   "outputs": [],
   "source": [
    "all_groups = list(set(list(group_rv.index) + list(group_rv.columns)))"
   ]
  },
  {
   "cell_type": "code",
   "execution_count": 18,
   "metadata": {},
   "outputs": [],
   "source": [
    "all_possible_pairs = list(itertools.combinations(all_groups,2))"
   ]
  },
  {
   "cell_type": "code",
   "execution_count": 19,
   "metadata": {},
   "outputs": [],
   "source": [
    "in_group = [(g,g) for g in all_groups]"
   ]
  },
  {
   "cell_type": "code",
   "execution_count": 20,
   "metadata": {},
   "outputs": [],
   "source": [
    "all_possible_pairs = all_possible_pairs + in_group"
   ]
  },
  {
   "cell_type": "code",
   "execution_count": 21,
   "metadata": {},
   "outputs": [],
   "source": [
    "df = pd.DataFrame(all_possible_pairs, columns =['group1', 'group2'])"
   ]
  },
  {
   "cell_type": "code",
   "execution_count": 22,
   "metadata": {},
   "outputs": [],
   "source": [
    "def find_mutual_revert(d):\n",
    "    g1 = d['group1']\n",
    "    g2 = d['group2']\n",
    "    r1 = 0\n",
    "    r2 = 0\n",
    "    if g1 in group_rv.index and g2 in group_rv.columns:\n",
    "        r1 = group_rv.loc[g1][g2]\n",
    "    if g1 in group_rv.columns and g2 in group_rv.index:\n",
    "        r2 = group_rv[g1][g2]\n",
    "    return r1 + r2"
   ]
  },
  {
   "cell_type": "code",
   "execution_count": 23,
   "metadata": {},
   "outputs": [],
   "source": [
    "df['mutual_revert'] =  df.apply(find_mutual_revert,axis=1)"
   ]
  },
  {
   "cell_type": "code",
   "execution_count": 24,
   "metadata": {},
   "outputs": [],
   "source": [
    "df = df.sort_values(['mutual_revert'],ascending=False)"
   ]
  },
  {
   "cell_type": "code",
   "execution_count": 25,
   "metadata": {},
   "outputs": [],
   "source": [
    "def find_min_revert(d):\n",
    "    g1 = d['group1']\n",
    "    g2 = d['group2']\n",
    "    r1 = 0\n",
    "    r2 = 0\n",
    "    if g1 in group_rv.index and g2 in group_rv.columns:\n",
    "        r1 = group_rv.loc[g1][g2]\n",
    "    if g1 in group_rv.columns and g2 in group_rv.index:\n",
    "        r2 = group_rv[g1][g2]\n",
    "    return min(r1,r2)"
   ]
  },
  {
   "cell_type": "code",
   "execution_count": 26,
   "metadata": {},
   "outputs": [],
   "source": [
    "df['min_revert'] =  df.apply(find_min_revert,axis=1)"
   ]
  },
  {
   "cell_type": "code",
   "execution_count": 27,
   "metadata": {},
   "outputs": [],
   "source": [
    "df_greater_than_0 = df[df['mutual_revert']>0]"
   ]
  },
  {
   "cell_type": "code",
   "execution_count": 29,
   "metadata": {},
   "outputs": [],
   "source": [
    "df_greater_than_0.to_csv('result/mutual-and-min-revert.csv', index=False,sep=\"\\t\",encoding='utf-16')"
   ]
  },
  {
   "cell_type": "code",
   "execution_count": null,
   "metadata": {},
   "outputs": [],
   "source": []
  },
  {
   "cell_type": "code",
   "execution_count": null,
   "metadata": {},
   "outputs": [],
   "source": []
  }
 ],
 "metadata": {
  "kernelspec": {
   "display_name": "Python 3",
   "language": "python",
   "name": "python3"
  },
  "language_info": {
   "codemirror_mode": {
    "name": "ipython",
    "version": 3
   },
   "file_extension": ".py",
   "mimetype": "text/x-python",
   "name": "python",
   "nbconvert_exporter": "python",
   "pygments_lexer": "ipython3",
   "version": "3.8.10"
  }
 },
 "nbformat": 4,
 "nbformat_minor": 4
}
