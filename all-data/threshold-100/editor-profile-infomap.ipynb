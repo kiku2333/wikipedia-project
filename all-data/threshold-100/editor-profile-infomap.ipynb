{
 "cells": [
  {
   "cell_type": "code",
   "execution_count": 1,
   "metadata": {},
   "outputs": [],
   "source": [
    "import dask.dataframe as ddf\n",
    "import pandas as pd\n",
    "import json\n",
    "import os\n",
    "import numpy as np\n",
    "import hashlib\n",
    "import re\n",
    "from sklearn.metrics.pairwise import cosine_similarity\n",
    "import networkx as nx\n",
    "from infomap import Infomap\n",
    "from math import pi"
   ]
  },
  {
   "cell_type": "code",
   "execution_count": 2,
   "metadata": {},
   "outputs": [],
   "source": [
    "editor_profile = pd.read_parquet('../bibliography/result/bibliography.parquet')"
   ]
  },
  {
   "cell_type": "code",
   "execution_count": 4,
   "metadata": {},
   "outputs": [],
   "source": [
    "# editor_profile = editor_profile.rename(columns={'Unnamed: 0':'index'}).set_index('index')"
   ]
  },
  {
   "cell_type": "code",
   "execution_count": null,
   "metadata": {},
   "outputs": [],
   "source": []
  },
  {
   "cell_type": "code",
   "execution_count": 6,
   "metadata": {},
   "outputs": [],
   "source": [
    "all_users = list(editor_profile.columns)"
   ]
  },
  {
   "cell_type": "code",
   "execution_count": 7,
   "metadata": {},
   "outputs": [],
   "source": [
    "res = {}"
   ]
  },
  {
   "cell_type": "code",
   "execution_count": 8,
   "metadata": {},
   "outputs": [],
   "source": [
    "np.fill_diagonal(editor_profile.values,0)"
   ]
  },
  {
   "cell_type": "code",
   "execution_count": 9,
   "metadata": {},
   "outputs": [],
   "source": [
    "def revert_list(user):\n",
    "    res[user] = editor_profile[user].to_list()"
   ]
  },
  {
   "cell_type": "code",
   "execution_count": 10,
   "metadata": {},
   "outputs": [],
   "source": [
    "result = [revert_list(i) for i in all_users]"
   ]
  },
  {
   "cell_type": "code",
   "execution_count": 11,
   "metadata": {},
   "outputs": [],
   "source": [
    "num_users = len(all_users)"
   ]
  },
  {
   "cell_type": "code",
   "execution_count": 12,
   "metadata": {},
   "outputs": [],
   "source": [
    "sim_matrix = np.empty((num_users,num_users))\n",
    "# np.fill_diagonal(sim_matrix,np.nan)\n",
    "np.fill_diagonal(sim_matrix,1)"
   ]
  },
  {
   "cell_type": "code",
   "execution_count": null,
   "metadata": {},
   "outputs": [],
   "source": []
  },
  {
   "cell_type": "code",
   "execution_count": 16,
   "metadata": {},
   "outputs": [],
   "source": [
    "for i in range(num_users - 1):\n",
    "    for j in range(i + 1, num_users):\n",
    "        u1 = all_users[i]\n",
    "        u2 = all_users[j]\n",
    "        sim = cosine_similarity([res[u1]],[res[u2]])\n",
    "        sim_matrix[i][j] = sim\n",
    "        sim_matrix[j][i] = sim"
   ]
  },
  {
   "cell_type": "code",
   "execution_count": null,
   "metadata": {},
   "outputs": [],
   "source": []
  },
  {
   "cell_type": "code",
   "execution_count": 12,
   "metadata": {},
   "outputs": [],
   "source": [
    "all_data_sim = pd.DataFrame(sim_matrix,index=all_users,columns=all_users)"
   ]
  },
  {
   "cell_type": "code",
   "execution_count": null,
   "metadata": {},
   "outputs": [],
   "source": []
  },
  {
   "cell_type": "code",
   "execution_count": 13,
   "metadata": {},
   "outputs": [],
   "source": [
    "# all_data_sim.to_parquet('result/sim-matrix-based-on-editor-profile')"
   ]
  },
  {
   "cell_type": "code",
   "execution_count": 14,
   "metadata": {},
   "outputs": [],
   "source": [
    "# all_data_sim = pd.read_parquet('result/sim-matrix-based-on-editor-profile')"
   ]
  },
  {
   "cell_type": "code",
   "execution_count": 15,
   "metadata": {},
   "outputs": [],
   "source": [
    "x = pd.DataFrame(all_data_sim.reset_index().melt('index').loc[lambda x : x['value']> 0].groupby('variable')['value'].apply(list))"
   ]
  },
  {
   "cell_type": "code",
   "execution_count": 16,
   "metadata": {},
   "outputs": [],
   "source": [
    "x['len'] = x['value'].apply(len)"
   ]
  },
  {
   "cell_type": "code",
   "execution_count": 17,
   "metadata": {},
   "outputs": [],
   "source": [
    "x = x[x['len']!=1]"
   ]
  },
  {
   "cell_type": "code",
   "execution_count": 18,
   "metadata": {},
   "outputs": [],
   "source": [
    "all_data_sim = all_data_sim[all_data_sim.index.isin(x.index)]\n",
    "\n",
    "all_data_sim = all_data_sim[all_data_sim.columns & x.index]"
   ]
  },
  {
   "cell_type": "code",
   "execution_count": 19,
   "metadata": {},
   "outputs": [],
   "source": [
    "sim_matrix = all_data_sim"
   ]
  },
  {
   "cell_type": "code",
   "execution_count": null,
   "metadata": {},
   "outputs": [],
   "source": []
  },
  {
   "cell_type": "code",
   "execution_count": 20,
   "metadata": {},
   "outputs": [],
   "source": [
    "sim = sim_matrix.values"
   ]
  },
  {
   "cell_type": "code",
   "execution_count": 21,
   "metadata": {},
   "outputs": [],
   "source": [
    "sim = sim - 0.01"
   ]
  },
  {
   "cell_type": "code",
   "execution_count": 22,
   "metadata": {},
   "outputs": [],
   "source": [
    "editor_info = pd.DataFrame(all_users).reset_index().rename(columns={'index':'name',0:'contributor.username'})"
   ]
  },
  {
   "cell_type": "code",
   "execution_count": 23,
   "metadata": {},
   "outputs": [],
   "source": [
    "res = pd.DataFrame()"
   ]
  },
  {
   "cell_type": "code",
   "execution_count": 24,
   "metadata": {},
   "outputs": [],
   "source": [
    "def param_test(threshold, method):\n",
    "    if method == 'sin':\n",
    "        dis = np.arccos(sim)/pi\n",
    "    else:\n",
    "        dis = 1 - sim\n",
    "    G = nx.from_numpy_matrix(dis) \n",
    "    edge_weights = nx.get_edge_attributes(G,'weight')\n",
    "    G.remove_edges_from((e for e, w in edge_weights.items() if w > threshold))\n",
    "    im = Infomap(silent=True, num_trials=100,include_self_links=False)   \n",
    "    mapping = im.add_networkx_graph(G)\n",
    "    im.run()\n",
    "    df = im.get_dataframe(columns=[\"name\",\"node_id\", \"module_id\"])\n",
    "    num_modules = len(df['module_id'].unique())\n",
    "    a = df.groupby('module_id').count()\n",
    "    num_singe_editor_groups = len(a[a['name'] == 1])\n",
    "    max_ = a['name'].max()\n",
    "    min_ = a['name'].min()\n",
    "    greater_than_50 = len(a[a['name']>50])\n",
    "    ans = 'threshold is {}, number of groups is {}, number of single editor groups is {}, '\n",
    "    ans += 'max group contains {} editors, {} groups contains more than 50 editors'\n",
    "    print(ans.format(threshold,num_modules,num_singe_editor_groups,max_,greater_than_50))\n",
    "    \n",
    "    fin = df.merge(editor_info,on='name')\n",
    "    fin = fin.rename(columns={'module_id':'group'}).set_index('contributor.username')[['group']]\n",
    "    res['threshold-' + str(threshold)] = fin['group']"
   ]
  },
  {
   "cell_type": "code",
   "execution_count": 25,
   "metadata": {},
   "outputs": [],
   "source": [
    "test = np.arange(0,0.5,0.1).round(2)"
   ]
  },
  {
   "cell_type": "code",
   "execution_count": null,
   "metadata": {},
   "outputs": [
    {
     "name": "stdout",
     "output_type": "stream",
     "text": [
      "threshold is 0.0, number of groups is 5295, number of single editor groups is 5295, max group contains 1 editors, 0 groups contains more than 50 editors\n",
      "threshold is 0.1, number of groups is 1487, number of single editor groups is 1445, max group contains 3120 editors, 6 groups contains more than 50 editors\n",
      "threshold is 0.2, number of groups is 578, number of single editor groups is 546, max group contains 4479 editors, 2 groups contains more than 50 editors\n"
     ]
    }
   ],
   "source": [
    "for i in test:\n",
    "    b = param_test(i,'original')"
   ]
  },
  {
   "cell_type": "code",
   "execution_count": null,
   "metadata": {},
   "outputs": [],
   "source": [
    "# res.to_csv('result/cluster-param-test-by-editor-profile.csv',encoding='utf-16', sep=\"\\t\")"
   ]
  },
  {
   "cell_type": "code",
   "execution_count": null,
   "metadata": {},
   "outputs": [],
   "source": [
    "test1 = np.arange(0,0.4,0.02).round(2)"
   ]
  },
  {
   "cell_type": "code",
   "execution_count": null,
   "metadata": {},
   "outputs": [],
   "source": []
  },
  {
   "cell_type": "code",
   "execution_count": null,
   "metadata": {},
   "outputs": [],
   "source": []
  }
 ],
 "metadata": {
  "kernelspec": {
   "display_name": "Python 3",
   "language": "python",
   "name": "python3"
  },
  "language_info": {
   "codemirror_mode": {
    "name": "ipython",
    "version": 3
   },
   "file_extension": ".py",
   "mimetype": "text/x-python",
   "name": "python",
   "nbconvert_exporter": "python",
   "pygments_lexer": "ipython3",
   "version": "3.8.10"
  }
 },
 "nbformat": 4,
 "nbformat_minor": 4
}
