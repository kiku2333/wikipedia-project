{
 "cells": [
  {
   "cell_type": "code",
   "execution_count": 5,
   "id": "accompanied-return",
   "metadata": {},
   "outputs": [],
   "source": [
    "import dask\n",
    "import dask.dataframe as ddf\n",
    "import os\n",
    "from glob import glob\n",
    "import re\n",
    "import pandas as pd\n",
    "import numpy as np\n",
    "import pickle"
   ]
  },
  {
   "cell_type": "code",
   "execution_count": 2,
   "id": "matched-insight",
   "metadata": {},
   "outputs": [],
   "source": [
    "df = pd.read_parquet('../../../../intermediate-result-new-select-editors/editor-profile/later-info/')"
   ]
  },
  {
   "cell_type": "code",
   "execution_count": 6,
   "id": "baking-copper",
   "metadata": {},
   "outputs": [],
   "source": [
    "with open('../../all-data-article-clustering/articles-100-threshold.pkl' ,'rb') as f:\n",
    "    selected_articles = pickle.load(f)"
   ]
  },
  {
   "cell_type": "code",
   "execution_count": 8,
   "id": "lasting-passenger",
   "metadata": {},
   "outputs": [],
   "source": [
    "selected_talks = {'Talk:' + i for i in selected_articles}"
   ]
  },
  {
   "cell_type": "code",
   "execution_count": 11,
   "id": "bearing-breathing",
   "metadata": {},
   "outputs": [],
   "source": [
    "df = df[df['page.title'].isin(selected_talks)]"
   ]
  },
  {
   "cell_type": "code",
   "execution_count": null,
   "id": "liquid-arbitration",
   "metadata": {},
   "outputs": [],
   "source": []
  },
  {
   "cell_type": "code",
   "execution_count": 16,
   "id": "other-extra",
   "metadata": {},
   "outputs": [],
   "source": [
    "df.columns = df.columns + '.Talk'"
   ]
  },
  {
   "cell_type": "code",
   "execution_count": 17,
   "id": "opponent-penalty",
   "metadata": {},
   "outputs": [],
   "source": [
    "df = df.rename(columns={'contributor.username.Talk':'contributor.username'})"
   ]
  },
  {
   "cell_type": "code",
   "execution_count": 18,
   "id": "hybrid-sessions",
   "metadata": {},
   "outputs": [],
   "source": [
    "df = df.groupby('contributor.username').sum()"
   ]
  },
  {
   "cell_type": "code",
   "execution_count": 19,
   "id": "shared-bracelet",
   "metadata": {},
   "outputs": [],
   "source": [
    "df.index.name = ''"
   ]
  },
  {
   "cell_type": "code",
   "execution_count": 20,
   "id": "rapid-decision",
   "metadata": {},
   "outputs": [],
   "source": [
    "df = df.T"
   ]
  },
  {
   "cell_type": "code",
   "execution_count": null,
   "id": "graduate-monitoring",
   "metadata": {},
   "outputs": [],
   "source": []
  },
  {
   "cell_type": "code",
   "execution_count": 22,
   "id": "built-willow",
   "metadata": {},
   "outputs": [],
   "source": [
    "df.to_parquet('result/later-info-all-data')"
   ]
  },
  {
   "cell_type": "code",
   "execution_count": null,
   "id": "acquired-probe",
   "metadata": {},
   "outputs": [],
   "source": []
  }
 ],
 "metadata": {
  "kernelspec": {
   "display_name": "Python 3",
   "language": "python",
   "name": "python3"
  },
  "language_info": {
   "codemirror_mode": {
    "name": "ipython",
    "version": 3
   },
   "file_extension": ".py",
   "mimetype": "text/x-python",
   "name": "python",
   "nbconvert_exporter": "python",
   "pygments_lexer": "ipython3",
   "version": "3.8.10"
  }
 },
 "nbformat": 4,
 "nbformat_minor": 5
}
