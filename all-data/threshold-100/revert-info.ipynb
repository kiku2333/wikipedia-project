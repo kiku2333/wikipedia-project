{
 "cells": [
  {
   "cell_type": "code",
   "execution_count": 1,
   "id": "automotive-insured",
   "metadata": {},
   "outputs": [
    {
     "name": "stderr",
     "output_type": "stream",
     "text": [
      "/home/ubuntu/.local/lib/python3.8/site-packages/dask/dataframe/utils.py:374: FutureWarning: pandas.Int64Index is deprecated and will be removed from pandas in a future version. Use pandas.Index with the appropriate dtype instead.\n",
      "  _numeric_index_types = (pd.Int64Index, pd.Float64Index, pd.UInt64Index)\n",
      "/home/ubuntu/.local/lib/python3.8/site-packages/dask/dataframe/utils.py:374: FutureWarning: pandas.Float64Index is deprecated and will be removed from pandas in a future version. Use pandas.Index with the appropriate dtype instead.\n",
      "  _numeric_index_types = (pd.Int64Index, pd.Float64Index, pd.UInt64Index)\n",
      "/home/ubuntu/.local/lib/python3.8/site-packages/dask/dataframe/utils.py:374: FutureWarning: pandas.UInt64Index is deprecated and will be removed from pandas in a future version. Use pandas.Index with the appropriate dtype instead.\n",
      "  _numeric_index_types = (pd.Int64Index, pd.Float64Index, pd.UInt64Index)\n"
     ]
    }
   ],
   "source": [
    "import dask\n",
    "import dask.dataframe as ddf\n",
    "import os\n",
    "from glob import glob\n",
    "import pandas as pd\n",
    "import numpy as np\n",
    "import re\n",
    "import pickle"
   ]
  },
  {
   "cell_type": "code",
   "execution_count": 2,
   "id": "scientific-automation",
   "metadata": {},
   "outputs": [],
   "source": [
    "df = pd.read_parquet('../../../../intermediate-result-new-select-editors/editor-profile/revert-info/')"
   ]
  },
  {
   "cell_type": "code",
   "execution_count": 3,
   "id": "alternate-understanding",
   "metadata": {},
   "outputs": [],
   "source": [
    "with open('../../all-data-article-clustering/articles-100-threshold.pkl' ,'rb') as f:\n",
    "    selected_articles = pickle.load(f)"
   ]
  },
  {
   "cell_type": "code",
   "execution_count": 4,
   "id": "hollywood-landscape",
   "metadata": {},
   "outputs": [],
   "source": [
    "selected_talks = {'Talk:' + i for i in selected_articles}"
   ]
  },
  {
   "cell_type": "code",
   "execution_count": 5,
   "id": "altered-organizer",
   "metadata": {},
   "outputs": [],
   "source": [
    "selected_articles.update(selected_talks)"
   ]
  },
  {
   "cell_type": "code",
   "execution_count": 6,
   "id": "seventh-hearing",
   "metadata": {},
   "outputs": [],
   "source": [
    "df = df[df['page.title'].isin(selected_articles)]"
   ]
  },
  {
   "cell_type": "code",
   "execution_count": 7,
   "id": "hungry-wayne",
   "metadata": {},
   "outputs": [],
   "source": [
    "def page_type(title):\n",
    "    if title.startswith('Talk:'):\n",
    "        return 'Talk'\n",
    "    return 'Article'"
   ]
  },
  {
   "cell_type": "code",
   "execution_count": 8,
   "id": "bronze-anniversary",
   "metadata": {},
   "outputs": [],
   "source": [
    "df['page.type'] = df['page.title'].apply(page_type)"
   ]
  },
  {
   "cell_type": "code",
   "execution_count": null,
   "id": "constitutional-pipeline",
   "metadata": {},
   "outputs": [],
   "source": []
  },
  {
   "cell_type": "code",
   "execution_count": 9,
   "id": "rocky-baseball",
   "metadata": {},
   "outputs": [],
   "source": [
    "article = df[df['page.type'] == 'Article']"
   ]
  },
  {
   "cell_type": "code",
   "execution_count": 10,
   "id": "economic-sapphire",
   "metadata": {},
   "outputs": [],
   "source": [
    "article.columns = article.columns + '.Article'"
   ]
  },
  {
   "cell_type": "code",
   "execution_count": 11,
   "id": "graphic-apache",
   "metadata": {},
   "outputs": [],
   "source": [
    "article = article.rename(columns={'contributor.username.Article':'contributor.username'})"
   ]
  },
  {
   "cell_type": "code",
   "execution_count": 12,
   "id": "addressed-bangladesh",
   "metadata": {},
   "outputs": [],
   "source": [
    "article = article.groupby('contributor.username').sum()"
   ]
  },
  {
   "cell_type": "code",
   "execution_count": null,
   "id": "color-inspector",
   "metadata": {},
   "outputs": [],
   "source": []
  },
  {
   "cell_type": "code",
   "execution_count": 13,
   "id": "gorgeous-princess",
   "metadata": {},
   "outputs": [],
   "source": [
    "talk = df[df['page.type'] == 'Talk']"
   ]
  },
  {
   "cell_type": "code",
   "execution_count": 14,
   "id": "injured-budget",
   "metadata": {},
   "outputs": [],
   "source": [
    "talk.columns = talk.columns + '.Talk'"
   ]
  },
  {
   "cell_type": "code",
   "execution_count": 15,
   "id": "proof-valve",
   "metadata": {},
   "outputs": [],
   "source": [
    "talk = talk.rename(columns={'contributor.username.Talk':'contributor.username'})"
   ]
  },
  {
   "cell_type": "code",
   "execution_count": 16,
   "id": "super-population",
   "metadata": {},
   "outputs": [],
   "source": [
    "talk = talk.groupby('contributor.username').sum()"
   ]
  },
  {
   "cell_type": "code",
   "execution_count": null,
   "id": "featured-disclaimer",
   "metadata": {},
   "outputs": [],
   "source": []
  },
  {
   "cell_type": "code",
   "execution_count": 17,
   "id": "strong-timeline",
   "metadata": {},
   "outputs": [],
   "source": [
    "article.index.name = ''"
   ]
  },
  {
   "cell_type": "code",
   "execution_count": 18,
   "id": "valuable-mercury",
   "metadata": {},
   "outputs": [],
   "source": [
    "talk.index.name = ''"
   ]
  },
  {
   "cell_type": "code",
   "execution_count": 19,
   "id": "capital-amendment",
   "metadata": {},
   "outputs": [],
   "source": [
    "article = article.T"
   ]
  },
  {
   "cell_type": "code",
   "execution_count": 20,
   "id": "legal-vampire",
   "metadata": {},
   "outputs": [],
   "source": [
    "talk = talk.T"
   ]
  },
  {
   "cell_type": "code",
   "execution_count": 21,
   "id": "annoying-letters",
   "metadata": {},
   "outputs": [],
   "source": [
    "res = pd.concat([article,talk]).fillna(0)"
   ]
  },
  {
   "cell_type": "code",
   "execution_count": null,
   "id": "divided-welcome",
   "metadata": {},
   "outputs": [],
   "source": []
  },
  {
   "cell_type": "code",
   "execution_count": 23,
   "id": "outer-accordance",
   "metadata": {},
   "outputs": [],
   "source": [
    "res.to_parquet('result/revert-info-all-data')"
   ]
  },
  {
   "cell_type": "code",
   "execution_count": null,
   "id": "suspended-grain",
   "metadata": {},
   "outputs": [],
   "source": []
  }
 ],
 "metadata": {
  "kernelspec": {
   "display_name": "Python 3",
   "language": "python",
   "name": "python3"
  },
  "language_info": {
   "codemirror_mode": {
    "name": "ipython",
    "version": 3
   },
   "file_extension": ".py",
   "mimetype": "text/x-python",
   "name": "python",
   "nbconvert_exporter": "python",
   "pygments_lexer": "ipython3",
   "version": "3.8.10"
  }
 },
 "nbformat": 4,
 "nbformat_minor": 5
}
