{
 "cells": [
  {
   "cell_type": "code",
   "execution_count": 1,
   "id": "supported-samuel",
   "metadata": {},
   "outputs": [
    {
     "name": "stderr",
     "output_type": "stream",
     "text": [
      "/home/ubuntu/.local/lib/python3.8/site-packages/dask/dataframe/utils.py:374: FutureWarning: pandas.Int64Index is deprecated and will be removed from pandas in a future version. Use pandas.Index with the appropriate dtype instead.\n",
      "  _numeric_index_types = (pd.Int64Index, pd.Float64Index, pd.UInt64Index)\n",
      "/home/ubuntu/.local/lib/python3.8/site-packages/dask/dataframe/utils.py:374: FutureWarning: pandas.Float64Index is deprecated and will be removed from pandas in a future version. Use pandas.Index with the appropriate dtype instead.\n",
      "  _numeric_index_types = (pd.Int64Index, pd.Float64Index, pd.UInt64Index)\n",
      "/home/ubuntu/.local/lib/python3.8/site-packages/dask/dataframe/utils.py:374: FutureWarning: pandas.UInt64Index is deprecated and will be removed from pandas in a future version. Use pandas.Index with the appropriate dtype instead.\n",
      "  _numeric_index_types = (pd.Int64Index, pd.Float64Index, pd.UInt64Index)\n"
     ]
    }
   ],
   "source": [
    "import numpy as np\n",
    "import pandas as pd\n",
    "import dask.dataframe as ddf"
   ]
  },
  {
   "cell_type": "code",
   "execution_count": 2,
   "id": "jewish-stations",
   "metadata": {},
   "outputs": [],
   "source": [
    "c = pd.read_parquet('/home/ubuntu/scratch/xinrui/intermediate-result/user_c_score')"
   ]
  },
  {
   "cell_type": "code",
   "execution_count": 3,
   "id": "ultimate-establishment",
   "metadata": {},
   "outputs": [],
   "source": [
    "selected_editors = pd.read_parquet('/home/ubuntu/scratch/xinrui/mount-files/selected-editors-based-on-cc').index"
   ]
  },
  {
   "cell_type": "code",
   "execution_count": 4,
   "id": "consecutive-display",
   "metadata": {},
   "outputs": [],
   "source": [
    "c = c.groupby(c.index).sum()"
   ]
  },
  {
   "cell_type": "code",
   "execution_count": 5,
   "id": "foster-reverse",
   "metadata": {},
   "outputs": [],
   "source": [
    "c = c[c.index.isin(selected_editors)]"
   ]
  },
  {
   "cell_type": "code",
   "execution_count": 7,
   "id": "satellite-quick",
   "metadata": {},
   "outputs": [],
   "source": [
    "c.to_parquet('result/c-score')"
   ]
  },
  {
   "cell_type": "code",
   "execution_count": null,
   "id": "possible-circus",
   "metadata": {},
   "outputs": [],
   "source": []
  }
 ],
 "metadata": {
  "kernelspec": {
   "display_name": "Python 3",
   "language": "python",
   "name": "python3"
  },
  "language_info": {
   "codemirror_mode": {
    "name": "ipython",
    "version": 3
   },
   "file_extension": ".py",
   "mimetype": "text/x-python",
   "name": "python",
   "nbconvert_exporter": "python",
   "pygments_lexer": "ipython3",
   "version": "3.8.10"
  }
 },
 "nbformat": 4,
 "nbformat_minor": 5
}
