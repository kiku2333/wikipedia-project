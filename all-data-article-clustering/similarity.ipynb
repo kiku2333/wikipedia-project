{
 "cells": [
  {
   "cell_type": "code",
   "execution_count": 1,
   "metadata": {},
   "outputs": [],
   "source": [
    "import dask\n",
    "import dask.dataframe as ddf\n",
    "import pandas as pd\n",
    "import numpy as np\n",
    "import ast\n",
    "import collections\n",
    "import math\n",
    "from glob import glob\n",
    "import pickle\n",
    "import re"
   ]
  },
  {
   "cell_type": "code",
   "execution_count": 2,
   "metadata": {},
   "outputs": [],
   "source": [
    "path = '/home/ubuntu/intermediate-result-new-select-editors/article-clustering/article-links/'"
   ]
  },
  {
   "cell_type": "code",
   "execution_count": 3,
   "metadata": {},
   "outputs": [],
   "source": [
    "all_files = glob(path + '*')"
   ]
  },
  {
   "cell_type": "code",
   "execution_count": 4,
   "metadata": {},
   "outputs": [],
   "source": [
    "page_wlinkcounts = {}\n",
    "for i in all_files:\n",
    "    with open(i, 'rb') as f:\n",
    "        loaded_dict = pickle.load(f) \n",
    "        page_wlinkcounts.update(loaded_dict)"
   ]
  },
  {
   "cell_type": "code",
   "execution_count": 5,
   "metadata": {},
   "outputs": [
    {
     "data": {
      "text/plain": [
       "6000"
      ]
     },
     "execution_count": 5,
     "metadata": {},
     "output_type": "execute_result"
    }
   ],
   "source": [
    "len(page_wlinkcounts)"
   ]
  },
  {
   "cell_type": "code",
   "execution_count": null,
   "metadata": {},
   "outputs": [],
   "source": []
  },
  {
   "cell_type": "code",
   "execution_count": 6,
   "metadata": {},
   "outputs": [],
   "source": [
    "month = ['january','february','march','april','may','june','july','august','september','october','november','december']"
   ]
  },
  {
   "cell_type": "code",
   "execution_count": 7,
   "metadata": {},
   "outputs": [],
   "source": [
    "def filter_links(counter):\n",
    "    removed_keys = [i for i in counter if re.match(r'^([\\s\\d]+)$', i) or any(xs in i for xs in month) or re.match('\\d{4}[-/]\\d{2}[-/]\\d{2}',i)]\n",
    "    for i in removed_keys:\n",
    "        del counter[i]\n",
    "    return counter"
   ]
  },
  {
   "cell_type": "code",
   "execution_count": 8,
   "metadata": {},
   "outputs": [],
   "source": [
    "for k,v in page_wlinkcounts.items():\n",
    "    filter_links(v)"
   ]
  },
  {
   "cell_type": "code",
   "execution_count": null,
   "metadata": {
    "scrolled": true
   },
   "outputs": [],
   "source": []
  },
  {
   "cell_type": "code",
   "execution_count": 9,
   "metadata": {},
   "outputs": [],
   "source": [
    "def cosine_similarity(counter1,counter2):\n",
    "    c1squared= sum([a*a for a in counter1.values()])\n",
    "    c2squared= sum([a*a for a in counter2.values()])\n",
    "    c1c2=sum([counter1[k]*counter2[k]  for k in counter1.keys() if k in counter2])\n",
    "    return c1c2/(math.sqrt(c1squared*c2squared))"
   ]
  },
  {
   "cell_type": "code",
   "execution_count": 10,
   "metadata": {},
   "outputs": [
    {
     "name": "stdout",
     "output_type": "stream",
     "text": [
      "CPU times: user 2h 2min 21s, sys: 21.8 s, total: 2h 2min 43s\n",
      "Wall time: 2h 2min 43s\n"
     ]
    }
   ],
   "source": [
    "%%time\n",
    "page_wlink_similarities={\n",
    "    key1:{\n",
    "        k:v for k,v in {\n",
    "            key2: cosine_similarity(page_wlinkcounts[key1],page_wlinkcounts[key2]) \n",
    "            for key2 in page_wlinkcounts.keys() \n",
    "            if not key1.startswith('Talk:') and not key2.startswith('Talk:') \n",
    "                 and page_wlinkcounts[key1] and page_wlinkcounts[key2]\n",
    "            }.items() if 1>v>0.02\n",
    "        } for key1 in page_wlinkcounts.keys()}"
   ]
  },
  {
   "cell_type": "code",
   "execution_count": 11,
   "metadata": {},
   "outputs": [],
   "source": [
    "with open('result/article-similarity.pkl', 'wb') as f:\n",
    "    pickle.dump(page_wlink_similarities, f)"
   ]
  },
  {
   "cell_type": "code",
   "execution_count": 12,
   "metadata": {},
   "outputs": [],
   "source": [
    "df = pd.DataFrame.from_dict(page_wlink_similarities,orient='index')"
   ]
  },
  {
   "cell_type": "code",
   "execution_count": 13,
   "metadata": {},
   "outputs": [],
   "source": [
    "df = df.fillna(0)"
   ]
  },
  {
   "cell_type": "code",
   "execution_count": 14,
   "metadata": {},
   "outputs": [],
   "source": [
    "df = df[df.index.to_list()]"
   ]
  },
  {
   "cell_type": "code",
   "execution_count": 15,
   "metadata": {},
   "outputs": [],
   "source": [
    "df.to_csv(\"result/article-similarity-matrix.csv\", sep=\"\\t\",encoding='utf-16')"
   ]
  },
  {
   "cell_type": "code",
   "execution_count": 16,
   "metadata": {},
   "outputs": [],
   "source": [
    "df.to_parquet('result/article-similarity-matrix')"
   ]
  },
  {
   "cell_type": "code",
   "execution_count": null,
   "metadata": {},
   "outputs": [],
   "source": []
  },
  {
   "cell_type": "code",
   "execution_count": null,
   "metadata": {},
   "outputs": [],
   "source": []
  },
  {
   "cell_type": "code",
   "execution_count": null,
   "metadata": {},
   "outputs": [],
   "source": []
  },
  {
   "cell_type": "code",
   "execution_count": null,
   "metadata": {},
   "outputs": [],
   "source": []
  },
  {
   "cell_type": "code",
   "execution_count": null,
   "metadata": {},
   "outputs": [],
   "source": []
  },
  {
   "cell_type": "code",
   "execution_count": null,
   "metadata": {},
   "outputs": [],
   "source": []
  }
 ],
 "metadata": {
  "kernelspec": {
   "display_name": "Python 3",
   "language": "python",
   "name": "python3"
  },
  "language_info": {
   "codemirror_mode": {
    "name": "ipython",
    "version": 3
   },
   "file_extension": ".py",
   "mimetype": "text/x-python",
   "name": "python",
   "nbconvert_exporter": "python",
   "pygments_lexer": "ipython3",
   "version": "3.8.10"
  }
 },
 "nbformat": 4,
 "nbformat_minor": 5
}
