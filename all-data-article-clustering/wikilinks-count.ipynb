{
 "cells": [
  {
   "cell_type": "code",
   "execution_count": 1,
   "id": "horizontal-establishment",
   "metadata": {},
   "outputs": [],
   "source": [
    "import dask\n",
    "import dask.dataframe as ddf\n",
    "import pandas as pd\n",
    "import numpy as np\n",
    "import ast\n",
    "import collections\n",
    "import math\n",
    "from glob import glob\n",
    "import pickle\n",
    "import re"
   ]
  },
  {
   "cell_type": "code",
   "execution_count": 2,
   "id": "intensive-arlington",
   "metadata": {},
   "outputs": [],
   "source": [
    "path = '/home/ubuntu/intermediate-result-new-select-editors/article-clustering/article-links/'"
   ]
  },
  {
   "cell_type": "code",
   "execution_count": 3,
   "id": "interracial-timer",
   "metadata": {},
   "outputs": [],
   "source": [
    "all_files = glob(path + '*')"
   ]
  },
  {
   "cell_type": "code",
   "execution_count": 4,
   "id": "wrong-thanksgiving",
   "metadata": {},
   "outputs": [],
   "source": [
    "page_wlinkcounts = {}\n",
    "for i in all_files:\n",
    "    with open(i, 'rb') as f:\n",
    "        loaded_dict = pickle.load(f) \n",
    "        page_wlinkcounts.update(loaded_dict)"
   ]
  },
  {
   "cell_type": "code",
   "execution_count": 5,
   "id": "authorized-strain",
   "metadata": {},
   "outputs": [],
   "source": [
    "# x = sum({k:v for k,v in page_wlinkcounts.items()}.values(),collections.Counter()).most_common(10000)"
   ]
  },
  {
   "cell_type": "code",
   "execution_count": 6,
   "id": "dated-harvest",
   "metadata": {},
   "outputs": [],
   "source": [
    "month = ['january','february','march','april','may','june','july','august','september','october','november','december']"
   ]
  },
  {
   "cell_type": "code",
   "execution_count": 7,
   "id": "known-slave",
   "metadata": {},
   "outputs": [],
   "source": [
    "def filter_links(counter):\n",
    "    removed_keys = [i for i in counter if re.match(r'^([\\s\\d]+)$', i) or any(xs in i for xs in month) or re.match('\\d{4}[-/]\\d{2}[-/]\\d{2}',i)]\n",
    "    for i in removed_keys:\n",
    "        del counter[i]\n",
    "    return counter"
   ]
  },
  {
   "cell_type": "code",
   "execution_count": 8,
   "id": "artistic-metro",
   "metadata": {},
   "outputs": [],
   "source": [
    "for k,v in page_wlinkcounts.items():\n",
    "    filter_links(v)"
   ]
  },
  {
   "cell_type": "code",
   "execution_count": 9,
   "id": "stupid-bonus",
   "metadata": {},
   "outputs": [],
   "source": [
    "x = sum({k:v for k,v in page_wlinkcounts.items()}.values(),collections.Counter()).most_common(10000)"
   ]
  },
  {
   "cell_type": "code",
   "execution_count": 10,
   "id": "rocky-recommendation",
   "metadata": {},
   "outputs": [],
   "source": [
    "df = pd.DataFrame(x, columns =['wikilink','times occur'])"
   ]
  },
  {
   "cell_type": "code",
   "execution_count": 11,
   "id": "similar-crazy",
   "metadata": {},
   "outputs": [],
   "source": [
    "df = df.set_index('wikilink')"
   ]
  },
  {
   "cell_type": "code",
   "execution_count": 12,
   "id": "genetic-matthew",
   "metadata": {},
   "outputs": [],
   "source": [
    "df.to_parquet('result/wikilink-count')"
   ]
  },
  {
   "cell_type": "code",
   "execution_count": 13,
   "id": "broke-portrait",
   "metadata": {},
   "outputs": [],
   "source": [
    "df.to_csv(\"result/wikilink-count.csv\", sep=\"\\t\",encoding='utf-16')"
   ]
  },
  {
   "cell_type": "code",
   "execution_count": null,
   "id": "corresponding-humor",
   "metadata": {},
   "outputs": [],
   "source": []
  },
  {
   "cell_type": "code",
   "execution_count": null,
   "id": "familiar-following",
   "metadata": {},
   "outputs": [],
   "source": []
  },
  {
   "cell_type": "code",
   "execution_count": null,
   "id": "hollow-unemployment",
   "metadata": {},
   "outputs": [],
   "source": []
  }
 ],
 "metadata": {
  "kernelspec": {
   "display_name": "Python 3",
   "language": "python",
   "name": "python3"
  },
  "language_info": {
   "codemirror_mode": {
    "name": "ipython",
    "version": 3
   },
   "file_extension": ".py",
   "mimetype": "text/x-python",
   "name": "python",
   "nbconvert_exporter": "python",
   "pygments_lexer": "ipython3",
   "version": "3.8.10"
  }
 },
 "nbformat": 4,
 "nbformat_minor": 5
}
