{
 "cells": [
  {
   "cell_type": "code",
   "execution_count": 1,
   "metadata": {},
   "outputs": [
    {
     "name": "stderr",
     "output_type": "stream",
     "text": [
      "/usr/lib/python3/dist-packages/dask/dataframe/utils.py:14: FutureWarning: pandas.util.testing is deprecated. Use the functions in the public API at pandas.testing instead.\n",
      "  import pandas.util.testing as tm\n"
     ]
    }
   ],
   "source": [
    "import dask.dataframe as ddf\n",
    "import pandas as pd\n",
    "import json\n",
    "import os\n",
    "import numpy as np"
   ]
  },
  {
   "cell_type": "code",
   "execution_count": 3,
   "metadata": {},
   "outputs": [],
   "source": [
    "parquetdir = '../../tcm-columns-add-main'"
   ]
  },
  {
   "cell_type": "code",
   "execution_count": 4,
   "metadata": {},
   "outputs": [],
   "source": [
    "page_info = ddf.read_parquet(os.path.join(parquetdir,'page.id')).compute()"
   ]
  },
  {
   "cell_type": "code",
   "execution_count": 5,
   "metadata": {},
   "outputs": [],
   "source": [
    "contributor = ddf.read_parquet(os.path.join(parquetdir,'contributor.username')).compute()"
   ]
  },
  {
   "cell_type": "code",
   "execution_count": 6,
   "metadata": {},
   "outputs": [],
   "source": [
    "page_info = page_info.drop(columns={'dir0'})"
   ]
  },
  {
   "cell_type": "code",
   "execution_count": 7,
   "metadata": {},
   "outputs": [],
   "source": [
    "page_user_info = contributor.join(page_info)"
   ]
  },
  {
   "cell_type": "code",
   "execution_count": 8,
   "metadata": {},
   "outputs": [],
   "source": [
    "top_users = pd.read_parquet('../../intermediate-result/TCM/editors-with-sig-contrib-at-least-10')"
   ]
  },
  {
   "cell_type": "code",
   "execution_count": 9,
   "metadata": {},
   "outputs": [],
   "source": [
    "selected_users = top_users.index.tolist()"
   ]
  },
  {
   "cell_type": "code",
   "execution_count": 10,
   "metadata": {},
   "outputs": [],
   "source": [
    "page_user_info = page_user_info[page_user_info['contributor.username'].isin(selected_users)]"
   ]
  },
  {
   "cell_type": "code",
   "execution_count": 11,
   "metadata": {},
   "outputs": [],
   "source": [
    "user_page = page_user_info.groupby(['contributor.username','page.id']).agg({'page.id': 'count'}).rename(columns={'page.id':'total_edits'})"
   ]
  },
  {
   "cell_type": "code",
   "execution_count": 12,
   "metadata": {},
   "outputs": [],
   "source": [
    "user_page_pairs = user_page.index.to_list()"
   ]
  },
  {
   "cell_type": "code",
   "execution_count": 13,
   "metadata": {},
   "outputs": [],
   "source": [
    "user_page_dict = {level: user_page.xs(level).to_dict('index') for level in user_page.index.levels[0]}"
   ]
  },
  {
   "cell_type": "code",
   "execution_count": 14,
   "metadata": {},
   "outputs": [],
   "source": [
    "# matrix 1: number of co-involvement\n",
    "# matrix 2: if editors A and B have made n and m substantial contributions respectively to an article, \n",
    "#          this article will increase their weighted co-involvement score by min(n, m)"
   ]
  },
  {
   "cell_type": "code",
   "execution_count": 15,
   "metadata": {},
   "outputs": [],
   "source": [
    "n = len(selected_users)"
   ]
  },
  {
   "cell_type": "code",
   "execution_count": 16,
   "metadata": {},
   "outputs": [],
   "source": [
    "co_involvement = np.empty((n,n))"
   ]
  },
  {
   "cell_type": "code",
   "execution_count": 17,
   "metadata": {},
   "outputs": [],
   "source": [
    "weighted_co_involvement = np.empty((n,n))"
   ]
  },
  {
   "cell_type": "code",
   "execution_count": 18,
   "metadata": {},
   "outputs": [],
   "source": [
    "np.fill_diagonal(co_involvement,np.nan)\n",
    "np.fill_diagonal(weighted_co_involvement,np.nan)"
   ]
  },
  {
   "cell_type": "code",
   "execution_count": 19,
   "metadata": {},
   "outputs": [],
   "source": [
    "for i in range (len(selected_users) - 1):\n",
    "    for j in range (i+1,len(selected_users)):\n",
    "        userid_1 = selected_users[i]\n",
    "        userid_2 = selected_users[j]\n",
    "        edit_1 = user_page_dict[userid_1]\n",
    "        edit_2 = user_page_dict[userid_2]\n",
    "        s1 = set(edit_1)\n",
    "        s2 = set(edit_2)\n",
    "        common = s1.intersection(s2)\n",
    "        co_involvement[i][j] = len(common)\n",
    "        co_involvement[j][i] = len(common)\n",
    "        #weighted\n",
    "        weighted_count = 0\n",
    "        for page_id in common:\n",
    "            user1_edits = edit_1[page_id]['total_edits']\n",
    "            user2_edits = edit_2[page_id]['total_edits']\n",
    "            min_edits = min(user1_edits,user2_edits)\n",
    "            weighted_count += min_edits\n",
    "        weighted_co_involvement[i][j] = weighted_count\n",
    "        weighted_co_involvement[j][i] = weighted_count\n",
    "        "
   ]
  },
  {
   "cell_type": "code",
   "execution_count": 20,
   "metadata": {},
   "outputs": [],
   "source": [
    "matrix = pd.DataFrame(co_involvement,index=selected_users,columns=selected_users)"
   ]
  },
  {
   "cell_type": "code",
   "execution_count": 22,
   "metadata": {},
   "outputs": [],
   "source": [
    "weighted_matrix = pd.DataFrame(weighted_co_involvement,index=selected_users,columns=selected_users)"
   ]
  },
  {
   "cell_type": "code",
   "execution_count": 26,
   "metadata": {},
   "outputs": [],
   "source": [
    "matrix.to_parquet('../../result/TCM/co-involvement.parquet')"
   ]
  },
  {
   "cell_type": "code",
   "execution_count": 27,
   "metadata": {},
   "outputs": [],
   "source": [
    "weighted_matrix.to_parquet('../../result/TCM/weighted-co-involvement.parquet')"
   ]
  },
  {
   "cell_type": "code",
   "execution_count": 28,
   "metadata": {},
   "outputs": [],
   "source": [
    "matrix = matrix.loc[~(matrix==0).all(axis=1)]\n",
    "matrix = matrix.loc[:, ~(matrix == 0).all(axis=0)]"
   ]
  },
  {
   "cell_type": "code",
   "execution_count": 29,
   "metadata": {},
   "outputs": [],
   "source": [
    "weighted_matrix = weighted_matrix.loc[~(weighted_matrix==0).all(axis=1)]\n",
    "weighted_matrix = weighted_matrix.loc[:, ~(weighted_matrix == 0).all(axis=0)]"
   ]
  },
  {
   "cell_type": "code",
   "execution_count": 31,
   "metadata": {},
   "outputs": [],
   "source": [
    "matrix.to_csv(\"../../result/TCM/co-involvement.tsv\", sep=\"\\t\",encoding='utf-16')"
   ]
  },
  {
   "cell_type": "code",
   "execution_count": 32,
   "metadata": {},
   "outputs": [],
   "source": [
    "weighted_matrix.to_csv(\"../../result/TCM/weighted-co-involvement.tsv\", sep=\"\\t\",encoding='utf-16')"
   ]
  },
  {
   "cell_type": "code",
   "execution_count": null,
   "metadata": {},
   "outputs": [],
   "source": []
  }
 ],
 "metadata": {
  "kernelspec": {
   "display_name": "Python 3",
   "language": "python",
   "name": "python3"
  },
  "language_info": {
   "codemirror_mode": {
    "name": "ipython",
    "version": 3
   },
   "file_extension": ".py",
   "mimetype": "text/x-python",
   "name": "python",
   "nbconvert_exporter": "python",
   "pygments_lexer": "ipython3",
   "version": "3.8.10"
  }
 },
 "nbformat": 4,
 "nbformat_minor": 4
}
