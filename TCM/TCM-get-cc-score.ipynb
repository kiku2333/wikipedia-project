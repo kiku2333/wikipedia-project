{
 "cells": [
  {
   "cell_type": "code",
   "execution_count": 1,
   "metadata": {},
   "outputs": [
    {
     "name": "stderr",
     "output_type": "stream",
     "text": [
      "/usr/lib/python3/dist-packages/dask/dataframe/utils.py:14: FutureWarning: pandas.util.testing is deprecated. Use the functions in the public API at pandas.testing instead.\n",
      "  import pandas.util.testing as tm\n"
     ]
    }
   ],
   "source": [
    "import dask\n",
    "import dask.dataframe as ddf\n",
    "import os\n",
    "from glob import glob\n",
    "import re\n",
    "import pandas as pd\n",
    "import numpy as np\n",
    "import time\n",
    "import mwparserfromhell\n",
    "import string\n",
    "import lda\n",
    "from sklearn.feature_extraction.text import CountVectorizer\n",
    "from numpy import savetxt\n",
    "import pickle\n",
    "from sklearn.metrics.pairwise import cosine_similarity\n",
    "from itertools import combinations, product, combinations_with_replacement\n",
    "import functools"
   ]
  },
  {
   "cell_type": "code",
   "execution_count": 2,
   "metadata": {},
   "outputs": [],
   "source": [
    "parquetdir = '../../tcm-columns-add-main/'"
   ]
  },
  {
   "cell_type": "code",
   "execution_count": 3,
   "metadata": {},
   "outputs": [],
   "source": [
    "page_title = ddf.read_parquet(os.path.join(parquetdir,'page.title')).compute().drop(columns={'dir0'})\n",
    "# for each article, get the most recent content\n",
    "revision_text = ddf.read_parquet(os.path.join(parquetdir,'revision.text')).compute().drop(columns={'dir0'})\n",
    "timestamp = ddf.read_parquet(os.path.join(parquetdir,'revision.timestamp')).compute().drop(columns={'dir0'})\n",
    "page_info = page_title.join(revision_text).join(timestamp)"
   ]
  },
  {
   "cell_type": "markdown",
   "metadata": {},
   "source": [
    "# Get and process the most curent content for each page"
   ]
  },
  {
   "cell_type": "code",
   "execution_count": 4,
   "metadata": {},
   "outputs": [],
   "source": [
    "max_index = page_info.groupby('page.title').agg({'revision.timestamp':'max'})"
   ]
  },
  {
   "cell_type": "code",
   "execution_count": 5,
   "metadata": {},
   "outputs": [],
   "source": [
    "current_page = page_info.merge(max_index.reset_index(),on=['page.title','revision.timestamp'])"
   ]
  },
  {
   "cell_type": "code",
   "execution_count": 6,
   "metadata": {},
   "outputs": [],
   "source": [
    "current_page = current_page.drop(columns={'revision.timestamp'})"
   ]
  },
  {
   "cell_type": "code",
   "execution_count": 7,
   "metadata": {},
   "outputs": [],
   "source": [
    "def is_talk(text):\n",
    "    return re.search('Talk:', text) != None\n",
    "\n",
    "current_page['is_talk'] = current_page['page.title'].apply(is_talk)"
   ]
  },
  {
   "cell_type": "code",
   "execution_count": 8,
   "metadata": {},
   "outputs": [],
   "source": [
    "current_articles = current_page[current_page['is_talk'] == False]\n",
    "current_articles = current_articles.drop(columns={'is_talk'})"
   ]
  },
  {
   "cell_type": "code",
   "execution_count": 9,
   "metadata": {},
   "outputs": [],
   "source": [
    "def get_content(text):\n",
    "    parsed_wikicode = mwparserfromhell.parse(text)\n",
    "    text = parsed_wikicode.strip_code()\n",
    "    # replace hyphen with space\n",
    "    text = text.replace('-',' ') \n",
    "    text = [t for t in text if t not in string.punctuation]\n",
    "    return ''.join([i for i in text if not i.isdigit()])"
   ]
  },
  {
   "cell_type": "code",
   "execution_count": 10,
   "metadata": {},
   "outputs": [],
   "source": [
    "current_articles['processed_text'] = current_articles['revision.text'].map(get_content)"
   ]
  },
  {
   "cell_type": "markdown",
   "metadata": {},
   "source": [
    "# create lda model"
   ]
  },
  {
   "cell_type": "code",
   "execution_count": 12,
   "metadata": {},
   "outputs": [],
   "source": [
    "n_topics = 100\n",
    "model = lda.LDA(n_topics=n_topics, n_iter=100,alpha=50/n_topics,eta=0.1)"
   ]
  },
  {
   "cell_type": "code",
   "execution_count": 13,
   "metadata": {},
   "outputs": [],
   "source": [
    "def my_tokenizer(text):\n",
    "    text = text.replace('\\n','')\n",
    "    text = re.split(r'([a-zA-Z1-9]+)', text)\n",
    "    # remove words whose length is less than 3\n",
    "    text = [t.strip() for t in text if len(t.strip()) > 2]\n",
    "    return text"
   ]
  },
  {
   "cell_type": "code",
   "execution_count": 14,
   "metadata": {},
   "outputs": [],
   "source": [
    "vectorizer = CountVectorizer(min_df=5/len(current_articles),stop_words='english',tokenizer=lambda text: my_tokenizer(text))"
   ]
  },
  {
   "cell_type": "code",
   "execution_count": 15,
   "metadata": {},
   "outputs": [],
   "source": [
    "content = current_articles['processed_text'].to_list()"
   ]
  },
  {
   "cell_type": "code",
   "execution_count": 16,
   "metadata": {},
   "outputs": [],
   "source": [
    "X = vectorizer.fit_transform(content)"
   ]
  },
  {
   "cell_type": "code",
   "execution_count": 17,
   "metadata": {},
   "outputs": [
    {
     "name": "stderr",
     "output_type": "stream",
     "text": [
      "/home/ubuntu/.local/lib/python3.8/site-packages/sklearn/utils/deprecation.py:87: FutureWarning: Function get_feature_names is deprecated; get_feature_names is deprecated in 1.0 and will be removed in 1.2. Please use get_feature_names_out instead.\n",
      "  warnings.warn(msg, category=FutureWarning)\n"
     ]
    }
   ],
   "source": [
    "vocab = vectorizer.get_feature_names()"
   ]
  },
  {
   "cell_type": "code",
   "execution_count": 18,
   "metadata": {},
   "outputs": [
    {
     "name": "stderr",
     "output_type": "stream",
     "text": [
      "INFO:lda:n_documents: 459\n",
      "INFO:lda:vocab_size: 6709\n",
      "INFO:lda:n_words: 234114\n",
      "INFO:lda:n_topics: 100\n",
      "INFO:lda:n_iter: 100\n",
      "WARNING:lda:all zero row in document-term matrix found\n",
      "INFO:lda:<0> log likelihood: -3152707\n",
      "INFO:lda:<10> log likelihood: -2176113\n",
      "INFO:lda:<20> log likelihood: -2094866\n",
      "INFO:lda:<30> log likelihood: -2072047\n",
      "INFO:lda:<40> log likelihood: -2059507\n",
      "INFO:lda:<50> log likelihood: -2052623\n",
      "INFO:lda:<60> log likelihood: -2046361\n",
      "INFO:lda:<70> log likelihood: -2044037\n",
      "INFO:lda:<80> log likelihood: -2041060\n",
      "INFO:lda:<90> log likelihood: -2036966\n",
      "INFO:lda:<99> log likelihood: -2034937\n"
     ]
    },
    {
     "data": {
      "text/plain": [
       "<lda.lda.LDA at 0x7f7e20fa1580>"
      ]
     },
     "execution_count": 18,
     "metadata": {},
     "output_type": "execute_result"
    }
   ],
   "source": [
    "model.fit(X)"
   ]
  },
  {
   "cell_type": "code",
   "execution_count": 19,
   "metadata": {},
   "outputs": [],
   "source": [
    "topic_word = model.topic_word_"
   ]
  },
  {
   "cell_type": "code",
   "execution_count": 20,
   "metadata": {},
   "outputs": [],
   "source": [
    "n_top_words = 10"
   ]
  },
  {
   "cell_type": "code",
   "execution_count": 21,
   "metadata": {},
   "outputs": [
    {
     "name": "stdout",
     "output_type": "stream",
     "text": [
      "Topic 0: zhang wang day journal sichuan having district myths county given\n",
      "Topic 1: legs water group company brand cooling singapore ken wen product\n",
      "Topic 2: tea sinensis leaves small chinese assam leaf camellia caffeine teas\n",
      "Topic 3: cultivation says practice zhuan teachings universe human body science ownby\n",
      "Topic 4: ginkgo trees tree short years fossil shoots slow living environments\n",
      "Topic 5: skin powder pearl blister beetles preparations beetle book aphrodisiac treat\n",
      "Topic 6: acupuncture medicine oriental certification commission national state nccaom professional program\n",
      "Topic 7: deer penis velvet spray new thought annually consumed athletes banned\n",
      "Topic 8: seeds crop seed bean lotus cultivated india nepal foods various\n",
      "Topic 9: falun gong china practitioners chinese communist practice qigong persecution rights\n",
      "Topic 10: goji snake products united traditional barbarum food chinese china fda\n",
      "Topic 11: vine honeysuckle silver alternative glycosides herb significantly slightly continuing life\n",
      "Topic 12: medicine chinese university traditional research science established china master health\n",
      "Topic 13: stone bian stones heated references medicine right generally unusual tool\n",
      "Topic 14: tai chi day world event healing global people held city\n",
      "Topic 15: yunnan plaster gao radix skin area years efficacy dog protection\n",
      "Topic 16: bears bile bear china farms animals wild company chinese animal\n",
      "Topic 17: shark soup fin hong kong dish consumption asian real cancer\n",
      "Topic 18: film references adult just died sister van episode tale ghost\n",
      "Topic 19: roses hybrid garden old include tea modern teas new class\n",
      "Topic 20: leaves rot root disease diseases leaf stem virus insects spot\n",
      "Topic 21: fruit oil tree used fruits trees bark jujube acid dried\n",
      "Topic 22: processing october alternative subsequent involves hide references whorls applied english\n",
      "Topic 23: feng shui journal magnetic liu landscape kong environment structures design\n",
      "Topic 24: decoction wan huang gui wei zhong chinese zhi pill pills\n",
      "Topic 25: balls hand pulse animal exercise used second position monkey finger\n",
      "Topic 26: state government new international july party june april campaign national\n",
      "Topic 27: exist college external raise type helps mid represents pressed establish\n",
      "Topic 28: ephedra ephedrine supplements containing products alkaloids fda dietary accessed published\n",
      "Topic 29: community profile australian america shen primary typically open instance survey\n",
      "Topic 30: jian sword used blade stance horn japanese weapons bow handle\n",
      "Topic 31: called used leaves ginger eaten cooked cuisine dried known fried\n",
      "Topic 32: cannabis thc sativa drug marijuana psychoactive use indica female strains\n",
      "Topic 33: daoist university han life immortality like elixir texts dynasty says\n",
      "Topic 34: chinese medicine herbs herbal used traditional tcm medicines ingredients common\n",
      "Topic 35: astragalus gray var species list hook world section american minor\n",
      "Topic 36: body corpses worms corpse days shin sanshi day upper heart\n",
      "Topic 37: herbal tong jelly turtle kong hong products shops tin tang\n",
      "Topic 38: shen spirit chinese radical characters character phonetic dictionary meaning japanese\n",
      "Topic 39: chinese china traditional different history western time early medicine modern\n",
      "Topic 40: medicine kidney organ chinese yin organs heart yang intestine spleen\n",
      "Topic 41: food grains grain eat eating foods people cereals dietary diet\n",
      "Topic 42: shanxi categorytraditional associations irritability type shanghai pan bisexual studying ends\n",
      "Topic 43: neijing text dynasty medical suwen yellow huangdi book canon edition\n",
      "Topic 44: hua tuo cao literally guan physician han medical used surgery\n",
      "Topic 45: red rice pepper sichuan cinnabar mercury hot prescription structure culture\n",
      "Topic 46: cinnamon cassia sha gua ceylon vietnam health sold sticks paul\n",
      "Topic 47: japan present usage local asiacategoryplants subject ayurvedic richard upper mainly\n",
      "Topic 48: silk silkworm egg domestic eggs xiao larvae case mulberry wild\n",
      "Topic 49: medica liquorice materia compendium shizhen herbs sweet information herbal root\n",
      "Topic 50: zhong zhang lesser organisation human based master skull greater levels\n",
      "Topic 51: chinese beijing republic published peoples lee group shanghai fang shandong\n",
      "Topic 52: yin yang taiji supreme symbol ultimate philosophy taijitu zhou earth\n",
      "Topic 53: leaves long seeds chinese china traditional grows flowers medicine seed\n",
      "Topic 54: hemp industrial fiber seed use paper products production used seeds\n",
      "Topic 55: retrieved november seed hay usda seeds crop organic october california\n",
      "Topic 56: acupuncture treatment pain review evidence needles points cupping skin trials\n",
      "Topic 57: yin yang chinese sun south moon north principles principle bright\n",
      "Topic 58: qigong practice health medicine medical traditional training scientific self exercises\n",
      "Topic 59: ear sound depression frequency sounds small outside help human function\n",
      "Topic 60: meditation buddhist practices practice techniques meditative self thought yoga buddhism\n",
      "Topic 61: plates selected northeast tubers rays plate trade sell impact alsochinese\n",
      "Topic 62: food production water high used produced large grown known produce\n",
      "Topic 63: journal effects medicine chinese extract anti activity china traditional effect\n",
      "Topic 64: cancer consumption levels weight risk trials green coffee evidence young\n",
      "Topic 65: health pressure sub level cholesterol study chronic stress conditions mass\n",
      "Topic 66: chinese species giant wild china population conservation habitat endangered breeding\n",
      "Topic 67: flowers species plant plants leaves used flower white grown native\n",
      "Topic 68: species rhododendron subgenus section sections subgenera hybrids state genus society\n",
      "Topic 69: sinensis fungus painting tibet tibetan fungal nepal fruiting plateau grass\n",
      "Topic 70: red color blue yellow dye new used colors ancient pigment\n",
      "Topic 71: used plant species traditional plants known genus chinese family described\n",
      "Topic 72: energy body taoist martial chi internal jing tai arts breathing\n",
      "Topic 73: iris china long wide leaves purple blue stem flora perennial\n",
      "Topic 74: sexual sex believed loss semen culture ejaculation corresponds disorder tongue\n",
      "Topic 75: rose roses rosa red flower species white syn pink symbol\n",
      "Topic 76: plant united states soil root plants control north used weed\n",
      "Topic 77: god heaven deity gods great temple deities goddess dragon mother\n",
      "Topic 78: artemisinin malaria drug drugs annua antimalarial treatment artemisia project compound\n",
      "Topic 79: crude drugs drug case substances evaluation study morphological size method\n",
      "Topic 80: museum respiratory historically named active set paintings burial incorporated showing\n",
      "Topic 81: cardamom india spice tibetan indian nepal tibet century black sri\n",
      "Topic 82: central california south black europe species mexico nuts north new\n",
      "Topic 83: magnolia china var species vietnam yunnan colombia genus tree names\n",
      "Topic 84: zhi mushrooms mushroom plants numinous kinds wood illustrations fungus shaped\n",
      "Topic 85: incense resin spirits gum bamboo hui hallucinogenic lin wood flowers\n",
      "Topic 86: dry needling needle pain technique shiatsu points therapy tissue physical\n",
      "Topic 87: martial arts training styles forms shaolin techniques art wushu known\n",
      "Topic 88: ginseng root chinese medicine china panax dried toxic chinensis sinensis\n",
      "Topic 89: medicine traditional tcm medical body blood women diagnosis female disease\n",
      "Topic 90: chi chen style tai yang form hands family taijiquan forms\n",
      "Topic 91: human drugs bencao hair drug bone luo gangmu blood disease\n",
      "Topic 92: heat symptoms yang cold yin tongue fever cause body disease\n",
      "Topic 93: known listed upper somewhat essential redirect praying xia simply pharmacology\n",
      "Topic 94: powder drug cold food minerals ingredients drugs mineral taking effects\n",
      "Topic 95: yang points point ren meridians channel acupuncture foot kan gate\n",
      "Topic 96: tiger wine tigers parts bones animal bone china sold asia\n",
      "Topic 97: use used effects states include drug evidence including associated studies\n",
      "Topic 98: chapters inner gold baopuzi ware hong outer davis god pao\n",
      "Topic 99: plant plants light grow flowering growing cannabis growers hours seeds\n"
     ]
    }
   ],
   "source": [
    "for i, topic_dist in enumerate(topic_word):\n",
    "    topic_words = np.array(vocab)[np.argsort(topic_dist)][:-(n_top_words+1):-1]\n",
    "    print('Topic {}: {}'.format(i, ' '.join(topic_words)))"
   ]
  },
  {
   "cell_type": "code",
   "execution_count": 22,
   "metadata": {},
   "outputs": [],
   "source": [
    "doc_topic = model.doc_topic_"
   ]
  },
  {
   "cell_type": "code",
   "execution_count": 23,
   "metadata": {},
   "outputs": [],
   "source": [
    "savetxt('../../intermediate-result/TCM/topic_distribution.csv', doc_topic, delimiter=',')"
   ]
  },
  {
   "cell_type": "code",
   "execution_count": 24,
   "metadata": {},
   "outputs": [],
   "source": [
    "titles = current_articles['page.title'].to_list()"
   ]
  },
  {
   "cell_type": "code",
   "execution_count": 25,
   "metadata": {},
   "outputs": [],
   "source": [
    "with open(\"../../intermediate-result/TCM/titles.txt\", \"wb\") as fp:\n",
    "    pickle.dump(titles, fp)"
   ]
  },
  {
   "cell_type": "markdown",
   "metadata": {},
   "source": [
    "# get cc score"
   ]
  },
  {
   "cell_type": "code",
   "execution_count": 27,
   "metadata": {},
   "outputs": [],
   "source": [
    "c = pd.read_parquet('../../result/TCM/TCM-CScore-article.parquet')['estimated_crc'].to_dict()\n",
    "c_n = pd.read_parquet('../../result/TCM/TCM-normalized-CScore-article.parquet')['estimated_crc_normalized'].to_dict()"
   ]
  },
  {
   "cell_type": "code",
   "execution_count": 28,
   "metadata": {},
   "outputs": [],
   "source": [
    "article_info = pd.read_parquet('../../intermediate-result/TCM/TCM-article-info.parquet')\n",
    "revision_count = article_info['revision.count'].to_dict()"
   ]
  },
  {
   "cell_type": "code",
   "execution_count": 29,
   "metadata": {},
   "outputs": [],
   "source": [
    "# use sig contributions"
   ]
  },
  {
   "cell_type": "code",
   "execution_count": 30,
   "metadata": {},
   "outputs": [],
   "source": [
    "n = len(titles)\n",
    "page_similarity = np.zeros([n,n])\n",
    "for i in range(len(doc_topic)):\n",
    "    topic = doc_topic[i]\n",
    "    page_similarity[i,:] = cosine_similarity([topic],doc_topic)[0]"
   ]
  },
  {
   "cell_type": "code",
   "execution_count": 31,
   "metadata": {},
   "outputs": [],
   "source": [
    "page_similarity_df = pd.DataFrame(page_similarity,index=titles,columns=titles)"
   ]
  },
  {
   "cell_type": "code",
   "execution_count": 32,
   "metadata": {},
   "outputs": [],
   "source": [
    "user_contribution = pd.read_parquet('../../intermediate-result/TCM/sig-contrib-info')"
   ]
  },
  {
   "cell_type": "code",
   "execution_count": 33,
   "metadata": {},
   "outputs": [],
   "source": [
    "def is_talk(text):\n",
    "    return re.search('Talk:', text) != None"
   ]
  },
  {
   "cell_type": "code",
   "execution_count": 34,
   "metadata": {},
   "outputs": [],
   "source": [
    "user_contribution = user_contribution[~user_contribution['page.title'].apply(is_talk)]"
   ]
  },
  {
   "cell_type": "code",
   "execution_count": 35,
   "metadata": {},
   "outputs": [],
   "source": [
    "user_contribution = user_contribution.set_index(['contributor.username','page.title'])"
   ]
  },
  {
   "cell_type": "code",
   "execution_count": 36,
   "metadata": {},
   "outputs": [],
   "source": [
    "user_contribution = user_contribution.groupby(level=0).apply(lambda df: df.xs(df.name).to_dict()['sig.contributions']).to_dict()"
   ]
  },
  {
   "cell_type": "code",
   "execution_count": 37,
   "metadata": {},
   "outputs": [],
   "source": [
    "l = pd.DataFrame(user_contribution).fillna(0).T\n",
    "ln = pd.DataFrame(user_contribution).fillna(0).T"
   ]
  },
  {
   "cell_type": "code",
   "execution_count": 38,
   "metadata": {},
   "outputs": [],
   "source": [
    "for title in l.columns:\n",
    "    l[title] = l[title] / revision_count[title] * c[title]\n",
    "    ln[title] = ln[title] / revision_count[title] * c_n[title]"
   ]
  },
  {
   "cell_type": "code",
   "execution_count": 39,
   "metadata": {},
   "outputs": [],
   "source": [
    "clust_n = {}\n",
    "clust_d = {}\n",
    "clust_n_norm = {}\n",
    "clust_d_norm = {}\n",
    "def compute_clust(t_pairs,title,user):        \n",
    "    n = l[t_pairs[0]][user] * l[t_pairs[1]][user] * page_similarity_df[title][t_pairs[0]] \\\n",
    "        * page_similarity_df[title][t_pairs[1]] * page_similarity_df[t_pairs[0]][t_pairs[1]]\n",
    "    d = l[t_pairs[0]][user] * l[t_pairs[1]][user] * page_similarity_df[title][t_pairs[0]] \\\n",
    "        * page_similarity_df[title][t_pairs[1]]\n",
    "    \n",
    "    n_norm = ln[t_pairs[0]][user] * ln[t_pairs[1]][user] * page_similarity_df[title][t_pairs[0]] \\\n",
    "        * page_similarity_df[title][t_pairs[1]] * page_similarity_df[t_pairs[0]][t_pairs[1]]\n",
    "    d_norm = ln[t_pairs[0]][user] * ln[t_pairs[1]][user] * page_similarity_df[title][t_pairs[0]] \\\n",
    "        * page_similarity_df[title][t_pairs[1]]\n",
    "    if title not in clust_n:\n",
    "        clust_n[title] = n\n",
    "        clust_d[title] = d\n",
    "        clust_n_norm[title] = n_norm\n",
    "        clust_d_norm[title] = d_norm\n",
    "    else:\n",
    "        clust_n[title] += n\n",
    "        clust_d[title] += d\n",
    "        \n",
    "        clust_n_norm[title] += n_norm\n",
    "        clust_d_norm[title] += d_norm"
   ]
  },
  {
   "cell_type": "code",
   "execution_count": 40,
   "metadata": {},
   "outputs": [],
   "source": [
    "selected_editors = pd.read_parquet('../../intermediate-result/TCM/editors-with-sig-contrib-at-least-10').index"
   ]
  },
  {
   "cell_type": "code",
   "execution_count": 41,
   "metadata": {},
   "outputs": [],
   "source": [
    "cc_score = {}\n",
    "cc_score_norm = {}\n",
    "for user in selected_editors:\n",
    "    # user does not contribute to page\n",
    "    if user not in user_contribution:\n",
    "        cc_score[user] = 0\n",
    "        cc_score_norm[user] = 0\n",
    "        continue\n",
    "    titles_of_user = l.loc[user]\n",
    "    # only look at titles with l greater than 0, since if l is 0, then product is also 0\n",
    "    # so it does not affect the cc score of current user\n",
    "    titles_of_user = titles_of_user[titles_of_user > 0]\n",
    "\n",
    "    # get all possible pairs of articles\n",
    "    all_possible_combinations  = [p for p in product(titles_of_user.index, repeat=2)]\n",
    "    for title in titles_of_user.index:     \n",
    "        compute_title = functools.partial(compute_clust,title = title,user = user)\n",
    "        list(map(compute_title,all_possible_combinations))\n",
    "\n",
    "        \n",
    "    clust = {k: float(clust_n[k])/clust_d[k] for k in clust_n}\n",
    "\n",
    "\n",
    "    clust_df = pd.DataFrame(clust.items(),columns=['title','clust']).set_index('title')\n",
    "    clust_df['cc'] = clust_df['clust'] * l.loc[user][clust_df.index]\n",
    "    cc_score[user] = clust_df['cc'].sum()\n",
    "\n",
    "    clust_n = {}\n",
    "    clust_d = {}\n",
    "    \n",
    "    \n",
    "    \n",
    "    clust_norm = {k: float(clust_n_norm[k])/clust_d_norm[k] for k in clust_n_norm}\n",
    "\n",
    "\n",
    "    clust_norm_df = pd.DataFrame(clust_norm.items(),columns=['title','clust']).set_index('title')\n",
    "    clust_norm_df['cc_norm'] = clust_norm_df['clust'] * ln.loc[user][clust_df.index]\n",
    "    cc_score_norm[user] = clust_norm_df['cc_norm'].sum()\n",
    "    \n",
    "    clust_n_norm = {}\n",
    "    clust_d_norm = {}\n"
   ]
  },
  {
   "cell_type": "code",
   "execution_count": 42,
   "metadata": {},
   "outputs": [],
   "source": [
    "cc_score_df = pd.DataFrame(cc_score.items(), columns=['contributor', 'cc_score']).set_index('contributor')\n",
    "cc_score_norm_df = pd.DataFrame(cc_score_norm.items(), columns=['contributor', 'cc_score_norm']).set_index('contributor')"
   ]
  },
  {
   "cell_type": "code",
   "execution_count": 44,
   "metadata": {},
   "outputs": [],
   "source": [
    "cc_score_df.to_csv(\"../../result/TCM/TCM-CCScore-user.tsv\", sep=\"\\t\",encoding='utf-16')"
   ]
  },
  {
   "cell_type": "code",
   "execution_count": 45,
   "metadata": {},
   "outputs": [],
   "source": [
    "cc_score_norm_df.to_csv(\"../../result/TCM/TCM-normalized-CCScore-user.tsv\", sep=\"\\t\",encoding='utf-16')"
   ]
  },
  {
   "cell_type": "code",
   "execution_count": 46,
   "metadata": {},
   "outputs": [],
   "source": [
    "cc_score_df.to_parquet('../../result/TCM/TCM-CC-Score')"
   ]
  },
  {
   "cell_type": "code",
   "execution_count": 47,
   "metadata": {},
   "outputs": [],
   "source": [
    "cc_score_norm_df.to_parquet('../../result/TCM/TCM-normalized-CC-Score')"
   ]
  },
  {
   "cell_type": "code",
   "execution_count": null,
   "metadata": {},
   "outputs": [],
   "source": []
  }
 ],
 "metadata": {
  "kernelspec": {
   "display_name": "Python 3",
   "language": "python",
   "name": "python3"
  },
  "language_info": {
   "codemirror_mode": {
    "name": "ipython",
    "version": 3
   },
   "file_extension": ".py",
   "mimetype": "text/x-python",
   "name": "python",
   "nbconvert_exporter": "python",
   "pygments_lexer": "ipython3",
   "version": "3.8.10"
  }
 },
 "nbformat": 4,
 "nbformat_minor": 4
}
