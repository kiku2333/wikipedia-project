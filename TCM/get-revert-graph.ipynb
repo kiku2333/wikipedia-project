{
 "cells": [
  {
   "cell_type": "code",
   "execution_count": 2,
   "metadata": {},
   "outputs": [],
   "source": [
    "import dask.dataframe as ddf\n",
    "import pandas as pd\n",
    "import json\n",
    "import os\n",
    "import numpy as np\n",
    "import hashlib\n",
    "import re\n",
    "from sklearn.metrics.pairwise import cosine_similarity\n",
    "from sklearn.cluster import AgglomerativeClustering"
   ]
  },
  {
   "cell_type": "code",
   "execution_count": 2,
   "metadata": {},
   "outputs": [],
   "source": [
    "parquetdir = '../../tcm-columns-add-main'"
   ]
  },
  {
   "cell_type": "code",
   "execution_count": 3,
   "metadata": {},
   "outputs": [],
   "source": [
    "usernames = ddf.read_parquet(os.path.join(parquetdir,'contributor.username')).compute()\n",
    "page_title = ddf.read_parquet(os.path.join(parquetdir,'page.title')).compute()\n",
    "parentids_df= ddf.read_parquet(os.path.join(parquetdir,'revision.parentid')).compute()"
   ]
  },
  {
   "cell_type": "code",
   "execution_count": 4,
   "metadata": {},
   "outputs": [],
   "source": [
    "revision_text = ddf.read_parquet(os.path.join(parquetdir,'revision.text')).compute()\n",
    "contributor = usernames.drop(columns={'dir0'})\n",
    "timestamp = ddf.read_parquet(os.path.join(parquetdir,'revision.timestamp')).compute()"
   ]
  },
  {
   "cell_type": "code",
   "execution_count": 5,
   "metadata": {},
   "outputs": [],
   "source": [
    "comment = ddf.read_parquet(os.path.join(parquetdir,'revision.comment')).compute()"
   ]
  },
  {
   "cell_type": "code",
   "execution_count": 6,
   "metadata": {},
   "outputs": [],
   "source": [
    "page_user_info = contributor.join(page_title)\n",
    "# remove duplicate index from different dir0\n",
    "page_user_info = page_user_info[~page_user_info.index.duplicated(keep='first')]\n",
    "page_user_info = page_user_info.drop(columns={'dir0'})"
   ]
  },
  {
   "cell_type": "code",
   "execution_count": 7,
   "metadata": {},
   "outputs": [],
   "source": [
    "def is_talk(text):\n",
    "    return re.search('Talk:', text) != None\n",
    "page_user_info['is_talk'] = page_user_info['page.title'].apply(is_talk)"
   ]
  },
  {
   "cell_type": "code",
   "execution_count": 8,
   "metadata": {},
   "outputs": [],
   "source": [
    "article_pages = page_user_info[page_user_info['is_talk'] == False]"
   ]
  },
  {
   "cell_type": "code",
   "execution_count": 9,
   "metadata": {},
   "outputs": [],
   "source": [
    "titles = article_pages['page.title'].unique()"
   ]
  },
  {
   "cell_type": "code",
   "execution_count": 10,
   "metadata": {},
   "outputs": [],
   "source": [
    "def compute_md5(text):\n",
    "    return hashlib.md5(text.encode('utf-8')).hexdigest()"
   ]
  },
  {
   "cell_type": "code",
   "execution_count": 11,
   "metadata": {},
   "outputs": [],
   "source": [
    "def reverts(text):\n",
    "    for word in text.split():\n",
    "        word = re.sub(r'[^a-zA-Z0-9 ]',r'',word).lower()\n",
    "        if word == 'reverted' or word == 'undid' or word == 'undo' or word == 'rv':\n",
    "            return True\n",
    "    return False"
   ]
  },
  {
   "cell_type": "code",
   "execution_count": 12,
   "metadata": {},
   "outputs": [],
   "source": [
    "class RevertGraph(object):\n",
    "    def __init__(self,title):\n",
    "        # need another way to read the info when not working with TCM\n",
    "#         self.curr_page_user_info = article_pages[article_pages['page.title']== title]\n",
    "        \n",
    "        # for all TCM articles\n",
    "        # only the one with same title may have same MD5\n",
    "        self.curr_page_user_info = article_pages\n",
    "        self.title = title\n",
    "        self.df = pd.DataFrame()\n",
    "        self.prev_hash = {}\n",
    "        self.all_users = list(self.curr_page_user_info['contributor.username'].unique())\n",
    "        self.revt_graph = np.zeros((len(self.all_users),len(self.all_users)))\n",
    "        self.matrix = pd.DataFrame()\n",
    "        self.selected_user = pd.read_parquet('../../intermediate-result/TCM/editors-with-sig-contrib-at-least-10').index\n",
    "    \n",
    "    def get_df(self):\n",
    "        self.df = self.curr_page_user_info.join(revision_text).drop(columns={'dir0'})\n",
    "        self.df = self.df.join(parentids_df).drop(columns={'dir0'})\n",
    "        self.df = self.df.join(timestamp).drop(columns={'dir0'})\n",
    "        self.df = self.df.join(comment).drop(columns={'dir0'})\n",
    "        self.df = self.df[self.df['contributor.username'].isin(self.selected_user)]\n",
    "        self.df = self.df[~self.df.index.duplicated(keep='first')]\n",
    "        self.df['MD5'] = self.df['revision.text'].apply(compute_md5)\n",
    "        self.df['is_revert'] = self.df['revision.comment'].apply(reverts)\n",
    "        self.df = self.df.sort_values(by=['revision.timestamp'])\n",
    "             \n",
    "    def get_reverted_user(self,d):\n",
    "        md5 = d['MD5']\n",
    "        if md5 in self.prev_hash:\n",
    "            parent_index = d['revision.parentid']\n",
    "            if (parent_index in self.df.index):\n",
    "                reverted_user = self.df.loc[parent_index]['contributor.username']\n",
    "                if d['contributor.username'] != reverted_user:\n",
    "                    return reverted_user \n",
    "        else:\n",
    "            self.prev_hash[md5] = d.name\n",
    "            if d['is_revert']:\n",
    "                parent_index = d['revision.parentid']\n",
    "                if (parent_index in self.df.index) and (md5 != self.df.loc[parent_index]['MD5']):\n",
    "                    reverted_user = self.df.loc[parent_index]['contributor.username']\n",
    "                    if d['contributor.username'] != reverted_user:\n",
    "                        return reverted_user \n",
    "        return ''\n",
    "\n",
    "    def create_revert_matrix(self,contributor,revt_user):\n",
    "        i = self.all_users.index(contributor)\n",
    "        j = self.all_users.index(revt_user)\n",
    "        self.revt_graph[i][j] += 1\n",
    "\n",
    "    def run(self):\n",
    "        self.get_df()\n",
    "        self.df['reverted_user'] = self.df.apply(self.get_reverted_user,axis=1)\n",
    "        self.df = self.df[self.df['reverted_user']!='']\n",
    "        if not self.df.empty:\n",
    "            self.df.apply(lambda d: self.create_revert_matrix(d['contributor.username'],d['reverted_user']),axis=1)\n",
    "            self.matrix = pd.DataFrame(self.revt_graph,index=self.all_users,columns=self.all_users)\n",
    "            self.matrix = self.matrix.loc[~(self.matrix==0).all(axis=1)]\n",
    "            self.matrix = self.matrix.loc[:, ~(self.matrix == 0).all(axis=0)]\n",
    "#             self.matrix.to_csv((os.path.join('revert_graphs','revert_graph.tsv')), sep=\"\\t\",encoding='utf-16')\n"
   ]
  },
  {
   "cell_type": "code",
   "execution_count": 13,
   "metadata": {},
   "outputs": [],
   "source": [
    "x = RevertGraph('')"
   ]
  },
  {
   "cell_type": "code",
   "execution_count": 14,
   "metadata": {},
   "outputs": [],
   "source": [
    "x.run()"
   ]
  },
  {
   "cell_type": "code",
   "execution_count": 15,
   "metadata": {},
   "outputs": [],
   "source": [
    "# rev1 revert rev2\n",
    "df = x.df[['revision.parentid','page.title']].reset_index().rename(columns={'index':'rev1','revision.parentid':'rev2'})"
   ]
  },
  {
   "cell_type": "code",
   "execution_count": 16,
   "metadata": {},
   "outputs": [],
   "source": [
    "df = x.df[['revision.parentid','page.title','contributor.username','reverted_user']].reset_index().rename(columns={'index':'rev1','revision.parentid':'rev2'\\\n",
    ",'contributor.username':'user1','reverted_user':'user2'})"
   ]
  },
  {
   "cell_type": "code",
   "execution_count": 17,
   "metadata": {},
   "outputs": [],
   "source": [
    "df.to_parquet('../../intermediate-result/TCM/TCM-revert-user-index-info')"
   ]
  },
  {
   "cell_type": "code",
   "execution_count": 18,
   "metadata": {},
   "outputs": [],
   "source": [
    "x.matrix.to_csv('../../result/TCM/TCM-global-revert-graph.csv',encoding=\"utf-16\",sep=\"\\t\")"
   ]
  },
  {
   "cell_type": "markdown",
   "metadata": {},
   "source": [
    "# revert similarity"
   ]
  },
  {
   "cell_type": "code",
   "execution_count": 20,
   "metadata": {},
   "outputs": [],
   "source": [
    "graph = x.matrix"
   ]
  },
  {
   "cell_type": "code",
   "execution_count": 21,
   "metadata": {},
   "outputs": [],
   "source": [
    "selected_editor = pd.read_parquet('../../intermediate-result/TCM/editors-with-sig-contrib-at-least-10').index"
   ]
  },
  {
   "cell_type": "code",
   "execution_count": 22,
   "metadata": {},
   "outputs": [],
   "source": [
    "all_users = list(set(graph.index.to_list() + graph.columns.to_list()))"
   ]
  },
  {
   "cell_type": "code",
   "execution_count": 23,
   "metadata": {},
   "outputs": [],
   "source": [
    "res = {}"
   ]
  },
  {
   "cell_type": "code",
   "execution_count": 24,
   "metadata": {},
   "outputs": [],
   "source": [
    "# create the list for comparsion, add up columns and rows for each user\n",
    "def revert_list(user):\n",
    "    col_len = len(graph)\n",
    "    cols = []\n",
    "    row_len = len(graph.columns)\n",
    "    rows = []\n",
    "    if user not in graph.index:\n",
    "        rows = [0.0] * row_len\n",
    "    else:\n",
    "        rows = graph.loc[user].to_list()\n",
    "    if user not in graph:\n",
    "        cols = [0.0] * col_len\n",
    "    else:\n",
    "        cols = graph[user].to_list()\n",
    "    res[user] = rows + cols"
   ]
  },
  {
   "cell_type": "code",
   "execution_count": 25,
   "metadata": {},
   "outputs": [],
   "source": [
    "result = [revert_list(i) for i in all_users]"
   ]
  },
  {
   "cell_type": "code",
   "execution_count": 26,
   "metadata": {},
   "outputs": [],
   "source": [
    "num_users = len(all_users)"
   ]
  },
  {
   "cell_type": "code",
   "execution_count": 27,
   "metadata": {},
   "outputs": [],
   "source": [
    "sim_matrix = np.empty((num_users,num_users))\n",
    "# np.fill_diagonal(sim_matrix,np.nan)\n",
    "np.fill_diagonal(sim_matrix,1)"
   ]
  },
  {
   "cell_type": "code",
   "execution_count": 28,
   "metadata": {},
   "outputs": [],
   "source": [
    "for i in range(num_users - 1):\n",
    "    for j in range(i + 1, num_users):\n",
    "        u1 = all_users[i]\n",
    "        u2 = all_users[j]\n",
    "        sim = cosine_similarity([res[u1]],[res[u2]])\n",
    "        sim_matrix[i][j] = sim\n",
    "        sim_matrix[j][i] = sim"
   ]
  },
  {
   "cell_type": "code",
   "execution_count": 29,
   "metadata": {},
   "outputs": [],
   "source": [
    "tcm_sim = pd.DataFrame(sim_matrix,index=all_users,columns=all_users)"
   ]
  },
  {
   "cell_type": "code",
   "execution_count": 30,
   "metadata": {},
   "outputs": [],
   "source": [
    "tcm_sim.to_parquet('../../intermediate-result/TCM/sim_matrix_selected_editor')"
   ]
  },
  {
   "cell_type": "code",
   "execution_count": 3,
   "metadata": {},
   "outputs": [],
   "source": [
    "# tcm_sim = pd.read_parquet('../../intermediate-result/TCM/sim_matrix_selected_editor')"
   ]
  },
  {
   "cell_type": "code",
   "execution_count": 5,
   "metadata": {},
   "outputs": [],
   "source": [
    "tcm_sim.to_csv('../../intermediate-result/TCM/TCM-editor-sim-matrix.csv',encoding=\"utf-16\",sep=\"\\t\")"
   ]
  },
  {
   "cell_type": "code",
   "execution_count": null,
   "metadata": {},
   "outputs": [],
   "source": []
  },
  {
   "cell_type": "code",
   "execution_count": null,
   "metadata": {},
   "outputs": [],
   "source": []
  },
  {
   "cell_type": "code",
   "execution_count": null,
   "metadata": {},
   "outputs": [],
   "source": []
  }
 ],
 "metadata": {
  "kernelspec": {
   "display_name": "Python 3",
   "language": "python",
   "name": "python3"
  },
  "language_info": {
   "codemirror_mode": {
    "name": "ipython",
    "version": 3
   },
   "file_extension": ".py",
   "mimetype": "text/x-python",
   "name": "python",
   "nbconvert_exporter": "python",
   "pygments_lexer": "ipython3",
   "version": "3.8.10"
  }
 },
 "nbformat": 4,
 "nbformat_minor": 4
}
