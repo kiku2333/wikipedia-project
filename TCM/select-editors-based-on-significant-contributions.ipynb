{
 "cells": [
  {
   "cell_type": "code",
   "execution_count": 1,
   "metadata": {},
   "outputs": [
    {
     "name": "stderr",
     "output_type": "stream",
     "text": [
      "/home/ubuntu/.local/lib/python3.8/site-packages/dask/dataframe/utils.py:374: FutureWarning: pandas.Int64Index is deprecated and will be removed from pandas in a future version. Use pandas.Index with the appropriate dtype instead.\n",
      "  _numeric_index_types = (pd.Int64Index, pd.Float64Index, pd.UInt64Index)\n",
      "/home/ubuntu/.local/lib/python3.8/site-packages/dask/dataframe/utils.py:374: FutureWarning: pandas.Float64Index is deprecated and will be removed from pandas in a future version. Use pandas.Index with the appropriate dtype instead.\n",
      "  _numeric_index_types = (pd.Int64Index, pd.Float64Index, pd.UInt64Index)\n",
      "/home/ubuntu/.local/lib/python3.8/site-packages/dask/dataframe/utils.py:374: FutureWarning: pandas.UInt64Index is deprecated and will be removed from pandas in a future version. Use pandas.Index with the appropriate dtype instead.\n",
      "  _numeric_index_types = (pd.Int64Index, pd.Float64Index, pd.UInt64Index)\n"
     ]
    }
   ],
   "source": [
    "import dask.dataframe as ddf\n",
    "import collections\n",
    "import pandas as pd\n",
    "import json\n",
    "import os\n",
    "import numpy as np\n",
    "import re\n",
    "import hashlib"
   ]
  },
  {
   "cell_type": "code",
   "execution_count": 2,
   "metadata": {},
   "outputs": [],
   "source": [
    "parquetdir = '../../tcm-columns-add-main/'"
   ]
  },
  {
   "cell_type": "code",
   "execution_count": 3,
   "metadata": {},
   "outputs": [],
   "source": [
    "usernames = ddf.read_parquet(os.path.join(parquetdir,'contributor.username')).compute()\n",
    "page_title = ddf.read_parquet(os.path.join(parquetdir,'page.title')).compute()"
   ]
  },
  {
   "cell_type": "code",
   "execution_count": 4,
   "metadata": {},
   "outputs": [],
   "source": [
    "comment = ddf.read_parquet(os.path.join(parquetdir,'revision.comment')).compute()\n",
    "revision_text = ddf.read_parquet(os.path.join(parquetdir,'revision.text')).compute()\n",
    "contributor = usernames.drop(columns={'dir0'})"
   ]
  },
  {
   "cell_type": "code",
   "execution_count": 5,
   "metadata": {},
   "outputs": [],
   "source": [
    "# filter out bots\n",
    "def is_bot(text):\n",
    "    text = text.split(' ')\n",
    "    for item in text:\n",
    "        if item.lower().endswith('bot'):\n",
    "            return True\n",
    "    return False"
   ]
  },
  {
   "cell_type": "code",
   "execution_count": 6,
   "metadata": {},
   "outputs": [],
   "source": [
    "contributor['is_bot'] = contributor['contributor.username'].apply(is_bot)"
   ]
  },
  {
   "cell_type": "code",
   "execution_count": 7,
   "metadata": {},
   "outputs": [],
   "source": [
    "contributor = contributor[~contributor['is_bot']]"
   ]
  },
  {
   "cell_type": "code",
   "execution_count": 8,
   "metadata": {},
   "outputs": [],
   "source": [
    "page_user_info = contributor.join(page_title).drop(columns={'dir0'})"
   ]
  },
  {
   "cell_type": "code",
   "execution_count": 9,
   "metadata": {},
   "outputs": [],
   "source": [
    "# # get total edits\n",
    "# total_edits = page_user_info.groupby(['contributor.username','page.title']).count().\\\n",
    "# rename(columns={'is_bot':'total.contributions'})"
   ]
  },
  {
   "cell_type": "code",
   "execution_count": 11,
   "metadata": {},
   "outputs": [],
   "source": [
    "# # former info\n",
    "# former = ddf.read_parquet('../../intermediate-result/TCM/TCM-former-info').compute()"
   ]
  },
  {
   "cell_type": "code",
   "execution_count": 12,
   "metadata": {},
   "outputs": [],
   "source": [
    "# sig info\n",
    "amr_info = ddf.read_parquet('../../intermediate-result/TCM/TCM-added-modified-removed').compute()"
   ]
  },
  {
   "cell_type": "code",
   "execution_count": 13,
   "metadata": {},
   "outputs": [],
   "source": [
    "added_text = amr_info[['new.text.added']]"
   ]
  },
  {
   "cell_type": "code",
   "execution_count": 14,
   "metadata": {},
   "outputs": [],
   "source": [
    "def get_len(l):\n",
    "    l = ' '.join(l)\n",
    "    return len(l.split(' '))"
   ]
  },
  {
   "cell_type": "code",
   "execution_count": 15,
   "metadata": {},
   "outputs": [
    {
     "name": "stderr",
     "output_type": "stream",
     "text": [
      "<ipython-input-15-af370a556aa9>:1: SettingWithCopyWarning: \n",
      "A value is trying to be set on a copy of a slice from a DataFrame.\n",
      "Try using .loc[row_indexer,col_indexer] = value instead\n",
      "\n",
      "See the caveats in the documentation: https://pandas.pydata.org/pandas-docs/stable/user_guide/indexing.html#returning-a-view-versus-a-copy\n",
      "  added_text['len'] = added_text['new.text.added'].apply(get_len)\n"
     ]
    }
   ],
   "source": [
    "added_text['len'] = added_text['new.text.added'].apply(get_len)"
   ]
  },
  {
   "cell_type": "code",
   "execution_count": 16,
   "metadata": {},
   "outputs": [],
   "source": [
    "added_text = added_text[added_text['len']>=20]"
   ]
  },
  {
   "cell_type": "code",
   "execution_count": 17,
   "metadata": {},
   "outputs": [],
   "source": [
    "sig_df = added_text.join(page_title).join(contributor)"
   ]
  },
  {
   "cell_type": "code",
   "execution_count": 18,
   "metadata": {},
   "outputs": [],
   "source": [
    "sig_df = sig_df.groupby(['contributor.username','page.title']).agg({'len':'count'}).\\\n",
    "rename(columns={'len':'sig.contributions'})"
   ]
  },
  {
   "cell_type": "code",
   "execution_count": 19,
   "metadata": {},
   "outputs": [],
   "source": [
    "sig_res = sig_df.reset_index()"
   ]
  },
  {
   "cell_type": "code",
   "execution_count": 20,
   "metadata": {},
   "outputs": [],
   "source": [
    "sig_res = ddf.from_pandas(sig_res,chunksize=10000)"
   ]
  },
  {
   "cell_type": "code",
   "execution_count": 21,
   "metadata": {},
   "outputs": [],
   "source": [
    "sig_res.to_parquet('../../intermediate-result/TCM/sig-contrib-info')"
   ]
  },
  {
   "cell_type": "code",
   "execution_count": 22,
   "metadata": {},
   "outputs": [],
   "source": [
    "editor_sig_contrib = sig_df.reset_index().groupby('contributor.username').agg({'sig.contributions':'sum'})"
   ]
  },
  {
   "cell_type": "code",
   "execution_count": 23,
   "metadata": {},
   "outputs": [],
   "source": [
    "editor_sig_contrib = editor_sig_contrib.sort_values('sig.contributions',ascending=False)"
   ]
  },
  {
   "cell_type": "code",
   "execution_count": 24,
   "metadata": {},
   "outputs": [],
   "source": [
    "# sig contribution stat - used to select editors based on sig contributions"
   ]
  },
  {
   "cell_type": "code",
   "execution_count": 25,
   "metadata": {},
   "outputs": [],
   "source": [
    "test = [100,50,10,9,8,7,6,5,4,3,2,1,0]"
   ]
  },
  {
   "cell_type": "code",
   "execution_count": 26,
   "metadata": {},
   "outputs": [
    {
     "name": "stdout",
     "output_type": "stream",
     "text": [
      "There are 22469 users in total\n",
      "There are 82 users with a total significant contribution greater than or equal to 100\n",
      "There are 158 users with a total significant contribution greater than or equal to 50\n",
      "There are 678 users with a total significant contribution greater than or equal to 10\n",
      "There are 751 users with a total significant contribution greater than or equal to 9\n",
      "There are 829 users with a total significant contribution greater than or equal to 8\n",
      "There are 945 users with a total significant contribution greater than or equal to 7\n",
      "There are 1119 users with a total significant contribution greater than or equal to 6\n",
      "There are 1328 users with a total significant contribution greater than or equal to 5\n",
      "There are 1655 users with a total significant contribution greater than or equal to 4\n",
      "There are 2240 users with a total significant contribution greater than or equal to 3\n",
      "There are 3627 users with a total significant contribution greater than or equal to 2\n",
      "There are 8896 users with a total significant contribution greater than or equal to 1\n",
      "There are 8896 users with a total significant contribution greater than or equal to 0\n"
     ]
    }
   ],
   "source": [
    "print('There are {0} users in total'.format(len(page_user_info['contributor.username'].unique())))\n",
    "for i in test:\n",
    "    tmp = editor_sig_contrib[editor_sig_contrib['sig.contributions']>=i]\n",
    "    print('There are {0} users with a total significant contribution greater than or equal to {1}'.format(len(tmp),i))"
   ]
  },
  {
   "cell_type": "code",
   "execution_count": 27,
   "metadata": {},
   "outputs": [],
   "source": [
    "# use 10 as the cutoff"
   ]
  },
  {
   "cell_type": "code",
   "execution_count": 28,
   "metadata": {},
   "outputs": [],
   "source": [
    "editor_sig_contrib = editor_sig_contrib[editor_sig_contrib['sig.contributions']>=10]"
   ]
  },
  {
   "cell_type": "code",
   "execution_count": 29,
   "metadata": {},
   "outputs": [],
   "source": [
    "editor_sig_contrib.to_parquet('../../intermediate-result/TCM/editors-with-sig-contrib-at-least-10')"
   ]
  },
  {
   "cell_type": "code",
   "execution_count": null,
   "metadata": {},
   "outputs": [],
   "source": []
  },
  {
   "cell_type": "code",
   "execution_count": null,
   "metadata": {},
   "outputs": [],
   "source": []
  },
  {
   "cell_type": "code",
   "execution_count": null,
   "metadata": {},
   "outputs": [],
   "source": []
  },
  {
   "cell_type": "code",
   "execution_count": null,
   "metadata": {},
   "outputs": [],
   "source": []
  }
 ],
 "metadata": {
  "kernelspec": {
   "display_name": "Python 3",
   "language": "python",
   "name": "python3"
  },
  "language_info": {
   "codemirror_mode": {
    "name": "ipython",
    "version": 3
   },
   "file_extension": ".py",
   "mimetype": "text/x-python",
   "name": "python",
   "nbconvert_exporter": "python",
   "pygments_lexer": "ipython3",
   "version": "3.8.10"
  }
 },
 "nbformat": 4,
 "nbformat_minor": 4
}
