{
 "cells": [
  {
   "cell_type": "code",
   "execution_count": 1,
   "metadata": {},
   "outputs": [
    {
     "name": "stderr",
     "output_type": "stream",
     "text": [
      "/home/ubuntu/.local/lib/python3.8/site-packages/dask/dataframe/utils.py:374: FutureWarning: pandas.Int64Index is deprecated and will be removed from pandas in a future version. Use pandas.Index with the appropriate dtype instead.\n",
      "  _numeric_index_types = (pd.Int64Index, pd.Float64Index, pd.UInt64Index)\n",
      "/home/ubuntu/.local/lib/python3.8/site-packages/dask/dataframe/utils.py:374: FutureWarning: pandas.Float64Index is deprecated and will be removed from pandas in a future version. Use pandas.Index with the appropriate dtype instead.\n",
      "  _numeric_index_types = (pd.Int64Index, pd.Float64Index, pd.UInt64Index)\n",
      "/home/ubuntu/.local/lib/python3.8/site-packages/dask/dataframe/utils.py:374: FutureWarning: pandas.UInt64Index is deprecated and will be removed from pandas in a future version. Use pandas.Index with the appropriate dtype instead.\n",
      "  _numeric_index_types = (pd.Int64Index, pd.Float64Index, pd.UInt64Index)\n"
     ]
    }
   ],
   "source": [
    "import dask.dataframe as ddf\n",
    "import collections\n",
    "import pandas as pd\n",
    "import json\n",
    "import os\n",
    "import numpy as np\n",
    "import re\n",
    "import hashlib"
   ]
  },
  {
   "cell_type": "code",
   "execution_count": 2,
   "metadata": {},
   "outputs": [],
   "source": [
    "parquetdir = '../../tcm-columns-add-main/'"
   ]
  },
  {
   "cell_type": "code",
   "execution_count": 3,
   "metadata": {},
   "outputs": [],
   "source": [
    "usernames = ddf.read_parquet(os.path.join(parquetdir,'contributor.username')).compute()\n",
    "# page_id = ddf.read_parquet(os.path.join(parquetdir,'page.id')).compute()\n",
    "page_title = ddf.read_parquet(os.path.join(parquetdir,'page.title')).compute()"
   ]
  },
  {
   "cell_type": "code",
   "execution_count": 4,
   "metadata": {},
   "outputs": [],
   "source": [
    "comment = ddf.read_parquet(os.path.join(parquetdir,'revision.comment')).compute()"
   ]
  },
  {
   "cell_type": "code",
   "execution_count": 5,
   "metadata": {},
   "outputs": [],
   "source": [
    "revision_text = ddf.read_parquet(os.path.join(parquetdir,'revision.text')).compute()"
   ]
  },
  {
   "cell_type": "code",
   "execution_count": 6,
   "metadata": {},
   "outputs": [],
   "source": [
    "contributor = usernames.drop(columns={'dir0'})"
   ]
  },
  {
   "cell_type": "code",
   "execution_count": 7,
   "metadata": {},
   "outputs": [],
   "source": [
    "selected_editors = pd.read_parquet('../../intermediate-result/TCM/editors-with-sig-contrib-at-least-10').index"
   ]
  },
  {
   "cell_type": "code",
   "execution_count": 8,
   "metadata": {},
   "outputs": [],
   "source": [
    "contributor = contributor[contributor['contributor.username'].isin(selected_editors)]"
   ]
  },
  {
   "cell_type": "code",
   "execution_count": 9,
   "metadata": {},
   "outputs": [],
   "source": [
    "page_user_info = contributor.join(page_title)"
   ]
  },
  {
   "cell_type": "code",
   "execution_count": 10,
   "metadata": {},
   "outputs": [],
   "source": [
    "page_user_info = page_user_info.drop(columns={'dir0'})"
   ]
  },
  {
   "cell_type": "code",
   "execution_count": 11,
   "metadata": {},
   "outputs": [],
   "source": [
    "# get total edits\n",
    "total_edits = page_user_info.groupby(['contributor.username','page.title']).agg({'page.title':'count'}).rename(columns=\\\n",
    "                                                                                {'page.title':'total.contributions'})"
   ]
  },
  {
   "cell_type": "code",
   "execution_count": 12,
   "metadata": {},
   "outputs": [],
   "source": [
    "# former info\n",
    "former = ddf.read_parquet('../../intermediate-result/TCM/TCM-former-info').compute()"
   ]
  },
  {
   "cell_type": "code",
   "execution_count": 13,
   "metadata": {},
   "outputs": [],
   "source": [
    "# sig info\n",
    "sig_info = pd.read_parquet('../../intermediate-result/TCM/sig-contrib-info')"
   ]
  },
  {
   "cell_type": "code",
   "execution_count": 14,
   "metadata": {},
   "outputs": [],
   "source": [
    "editor_sig_contrib = sig_info.reset_index().groupby('contributor.username').agg({'sig.contributions':'sum'})"
   ]
  },
  {
   "cell_type": "code",
   "execution_count": 15,
   "metadata": {},
   "outputs": [],
   "source": [
    "editor_sig_contrib = editor_sig_contrib.sort_values('sig.contributions',ascending=False)"
   ]
  },
  {
   "cell_type": "code",
   "execution_count": 16,
   "metadata": {},
   "outputs": [],
   "source": [
    "# former per editor per article"
   ]
  },
  {
   "cell_type": "code",
   "execution_count": 17,
   "metadata": {},
   "outputs": [],
   "source": [
    "article_former = page_user_info.join(former).fillna(0)"
   ]
  },
  {
   "cell_type": "code",
   "execution_count": 18,
   "metadata": {},
   "outputs": [],
   "source": [
    "article_former = article_former.groupby(['contributor.username','page.title']).sum().astype('int')"
   ]
  },
  {
   "cell_type": "markdown",
   "metadata": {},
   "source": [
    "# revert"
   ]
  },
  {
   "cell_type": "code",
   "execution_count": 20,
   "metadata": {},
   "outputs": [],
   "source": [
    "# MD5"
   ]
  },
  {
   "cell_type": "code",
   "execution_count": 21,
   "metadata": {},
   "outputs": [],
   "source": [
    "def compute_md5(text):\n",
    "    return hashlib.md5(text.encode('utf-8')).hexdigest()"
   ]
  },
  {
   "cell_type": "code",
   "execution_count": 22,
   "metadata": {},
   "outputs": [],
   "source": [
    "def reverts(text):\n",
    "    for word in text.split():\n",
    "        word = re.sub(r'[^a-zA-Z0-9 ]',r'',word).lower()\n",
    "        if word == 'reverted' or word == 'undid' or word == 'undo' or word == 'rv':\n",
    "            return True\n",
    "    return False"
   ]
  },
  {
   "cell_type": "code",
   "execution_count": 23,
   "metadata": {},
   "outputs": [],
   "source": [
    "page_revert = page_user_info.join(comment).drop(columns={'dir0'})"
   ]
  },
  {
   "cell_type": "code",
   "execution_count": 24,
   "metadata": {},
   "outputs": [],
   "source": [
    "page_revert = page_revert.join(revision_text)"
   ]
  },
  {
   "cell_type": "code",
   "execution_count": 25,
   "metadata": {},
   "outputs": [],
   "source": [
    "page_revert = page_revert.drop(columns={'dir0'})"
   ]
  },
  {
   "cell_type": "code",
   "execution_count": 2,
   "metadata": {},
   "outputs": [],
   "source": [
    "page_revert['MD5'] = page_revert['revision.text'].apply(compute_md5)"
   ]
  },
  {
   "cell_type": "code",
   "execution_count": 27,
   "metadata": {},
   "outputs": [],
   "source": [
    "# for each md5, drop the first index, so if only one revision, then this will not be count\n",
    "def get_drop_index(df):\n",
    "    drop_list.append(df.index.values[0])"
   ]
  },
  {
   "cell_type": "code",
   "execution_count": 28,
   "metadata": {},
   "outputs": [],
   "source": [
    "drop_list = []"
   ]
  },
  {
   "cell_type": "code",
   "execution_count": 29,
   "metadata": {},
   "outputs": [],
   "source": [
    "x = page_revert.groupby('MD5').apply(get_drop_index)"
   ]
  },
  {
   "cell_type": "code",
   "execution_count": 30,
   "metadata": {},
   "outputs": [],
   "source": [
    "article_MD5_reverts = page_revert[~page_revert.index.isin(drop_list)]"
   ]
  },
  {
   "cell_type": "code",
   "execution_count": 31,
   "metadata": {},
   "outputs": [],
   "source": [
    "article_MD5_reverts = article_MD5_reverts.groupby(['contributor.username','page.title','MD5']).agg({'revision.text':'count'}).rename(columns={'revision.text':'reverts'})"
   ]
  },
  {
   "cell_type": "code",
   "execution_count": 32,
   "metadata": {},
   "outputs": [],
   "source": [
    "article_MD5_reverts = article_MD5_reverts.groupby(['contributor.username','page.title']).agg({'reverts':'sum'})"
   ]
  },
  {
   "cell_type": "code",
   "execution_count": 33,
   "metadata": {},
   "outputs": [],
   "source": [
    "# comment"
   ]
  },
  {
   "cell_type": "code",
   "execution_count": 34,
   "metadata": {},
   "outputs": [],
   "source": [
    "# remove all revisions with duplicate md5\n",
    "page_revert = page_revert[~page_revert.MD5.duplicated(keep=False)]"
   ]
  },
  {
   "cell_type": "code",
   "execution_count": 35,
   "metadata": {},
   "outputs": [],
   "source": [
    "page_revert['is_revert'] = page_revert['revision.comment'].apply(reverts)"
   ]
  },
  {
   "cell_type": "code",
   "execution_count": 36,
   "metadata": {},
   "outputs": [],
   "source": [
    "article_comment_reverts = page_revert.groupby(['contributor.username','page.title']).agg({'is_revert':'sum'}).rename(columns={'is_revert':'reverts'})"
   ]
  },
  {
   "cell_type": "code",
   "execution_count": 37,
   "metadata": {},
   "outputs": [],
   "source": [
    "final_article_revert = pd.concat([article_MD5_reverts,article_comment_reverts])"
   ]
  },
  {
   "cell_type": "code",
   "execution_count": 38,
   "metadata": {},
   "outputs": [],
   "source": [
    "final_article_revert = final_article_revert.reset_index().groupby(['contributor.username','page.title']).agg({'reverts':'sum'}).astype('int')"
   ]
  },
  {
   "cell_type": "code",
   "execution_count": 39,
   "metadata": {},
   "outputs": [],
   "source": [
    "article_info = article_former.join(final_article_revert)\n",
    "article_info = article_info.reset_index()"
   ]
  },
  {
   "cell_type": "code",
   "execution_count": 40,
   "metadata": {},
   "outputs": [],
   "source": [
    "# merge sig contrib and total contrib"
   ]
  },
  {
   "cell_type": "code",
   "execution_count": 41,
   "metadata": {},
   "outputs": [],
   "source": [
    "total_edits = total_edits.reset_index()"
   ]
  },
  {
   "cell_type": "code",
   "execution_count": 42,
   "metadata": {},
   "outputs": [],
   "source": [
    "article_fin_info = total_edits.merge(article_info,on=['contributor.username','page.title'])"
   ]
  },
  {
   "cell_type": "code",
   "execution_count": 43,
   "metadata": {},
   "outputs": [],
   "source": [
    "article_fin_info = article_fin_info.set_index(['contributor.username','page.title']).\\\n",
    "join(sig_info.set_index(['contributor.username','page.title'])).fillna(0).astype('int')"
   ]
  },
  {
   "cell_type": "markdown",
   "metadata": {},
   "source": [
    "# get later info"
   ]
  },
  {
   "cell_type": "code",
   "execution_count": 44,
   "metadata": {},
   "outputs": [],
   "source": [
    "# get later info - arbcom, bans, rules\n",
    "# only look at talk pages"
   ]
  },
  {
   "cell_type": "code",
   "execution_count": 45,
   "metadata": {},
   "outputs": [],
   "source": [
    "def is_talk(text):\n",
    "    return re.search('Talk:', text) != None\n",
    "page_user_info['is_talk'] = page_user_info['page.title'].apply(is_talk)"
   ]
  },
  {
   "cell_type": "code",
   "execution_count": 46,
   "metadata": {},
   "outputs": [],
   "source": [
    "talk_page = page_user_info[page_user_info['is_talk']]"
   ]
  },
  {
   "cell_type": "code",
   "execution_count": 47,
   "metadata": {},
   "outputs": [],
   "source": [
    "def rules(text):\n",
    "    if text:\n",
    "        return re.search('wp:',text.lower())\n",
    "    return None\n",
    "\n",
    "def arbcom(text):\n",
    "    if text:\n",
    "        return re.search('wp:(arbcom|ac|arb)',text.lower())\n",
    "    return None\n",
    "\n",
    "def ban(text):\n",
    "    if text:\n",
    "        return re.search('wp:(ban|banpol)',text.lower())\n",
    "    return None"
   ]
  },
  {
   "cell_type": "code",
   "execution_count": 48,
   "metadata": {},
   "outputs": [],
   "source": [
    "amr_info = ddf.read_parquet('../../intermediate-result/TCM/TCM-added-modified-removed').compute()"
   ]
  },
  {
   "cell_type": "code",
   "execution_count": 49,
   "metadata": {
    "scrolled": false
   },
   "outputs": [],
   "source": [
    "added_wikilinks = amr_info[['new.wikilinks.added']]"
   ]
  },
  {
   "cell_type": "code",
   "execution_count": 50,
   "metadata": {},
   "outputs": [],
   "source": [
    "talk_page = talk_page.join(added_wikilinks)"
   ]
  },
  {
   "cell_type": "code",
   "execution_count": 51,
   "metadata": {},
   "outputs": [],
   "source": [
    "talk_page['new.wikilinks.added'] = talk_page['new.wikilinks.added'].map(' \\t '.join)"
   ]
  },
  {
   "cell_type": "code",
   "execution_count": 52,
   "metadata": {},
   "outputs": [],
   "source": [
    "talk_page['rules'] = talk_page['new.wikilinks.added'].apply(rules).notnull()\n",
    "talk_page['arbcom'] = talk_page['new.wikilinks.added'].apply(arbcom).notnull()\n",
    "talk_page['ban'] = talk_page['new.wikilinks.added'].apply(ban).notnull()"
   ]
  },
  {
   "cell_type": "code",
   "execution_count": 53,
   "metadata": {},
   "outputs": [],
   "source": [
    "talk_page = talk_page.drop(columns={'is_talk','new.wikilinks.added'})"
   ]
  },
  {
   "cell_type": "code",
   "execution_count": 54,
   "metadata": {},
   "outputs": [],
   "source": [
    "later_info = talk_page.groupby(['contributor.username','page.title']).sum()"
   ]
  },
  {
   "cell_type": "code",
   "execution_count": 55,
   "metadata": {},
   "outputs": [],
   "source": [
    "article_fin_info = article_fin_info.join(later_info).fillna(0).astype('int')"
   ]
  },
  {
   "cell_type": "markdown",
   "metadata": {},
   "source": [
    "# add ref info"
   ]
  },
  {
   "cell_type": "code",
   "execution_count": 57,
   "metadata": {},
   "outputs": [],
   "source": [
    "ref_former = pd.read_parquet('../../intermediate-result/TCM/TCM-ref-former')"
   ]
  },
  {
   "cell_type": "code",
   "execution_count": 58,
   "metadata": {},
   "outputs": [],
   "source": [
    "ref_former = ref_former.rename(columns={'ref_added':'ref.added','ref_modified':'ref.modified','ref_removed':'ref.removed'})"
   ]
  },
  {
   "cell_type": "code",
   "execution_count": 59,
   "metadata": {},
   "outputs": [],
   "source": [
    "ref_former = ref_former.join(contributor).join(page_title)"
   ]
  },
  {
   "cell_type": "code",
   "execution_count": 60,
   "metadata": {},
   "outputs": [],
   "source": [
    "ref_former = ref_former.groupby(['contributor.username','page.title']).sum()"
   ]
  },
  {
   "cell_type": "code",
   "execution_count": 61,
   "metadata": {},
   "outputs": [],
   "source": [
    "article_fin_info = article_fin_info.join(ref_former)"
   ]
  },
  {
   "cell_type": "code",
   "execution_count": 62,
   "metadata": {},
   "outputs": [],
   "source": [
    "article_fin_info = article_fin_info.fillna(0)"
   ]
  },
  {
   "cell_type": "code",
   "execution_count": 63,
   "metadata": {},
   "outputs": [],
   "source": [
    "article_fin_info.to_parquet('../../result/TCM/editor-profile-before-change-format')"
   ]
  },
  {
   "cell_type": "markdown",
   "metadata": {},
   "source": [
    "# convert format"
   ]
  },
  {
   "cell_type": "code",
   "execution_count": 65,
   "metadata": {},
   "outputs": [],
   "source": [
    "def pivit_df(metric,df):\n",
    "    user_edits= df.pivot_table(index='page.title', columns='contributor.username',\n",
    "                         values=metric, aggfunc='first').fillna(0).astype('int')\n",
    "    user_edits.index = metric + '.' + user_edits.index\n",
    "    return user_edits"
   ]
  },
  {
   "cell_type": "code",
   "execution_count": 66,
   "metadata": {},
   "outputs": [],
   "source": [
    "metrics = ['text.added', 'text.modified', 'text.removed',\n",
    "       'wikilinks.added', 'wikilinks.modified', 'wikilinks.removed', 'url.added',\n",
    "       'url.modified', 'url.removed','total.contributions','reverts','sig.contributions','rules',\n",
    "          'arbcom','ban','ref.added','ref.modified','ref.removed']"
   ]
  },
  {
   "cell_type": "code",
   "execution_count": 67,
   "metadata": {},
   "outputs": [],
   "source": [
    "article_res = {}\n",
    "for item in metrics:\n",
    "    article_res[item] = pivit_df(item,article_fin_info)"
   ]
  },
  {
   "cell_type": "code",
   "execution_count": 68,
   "metadata": {},
   "outputs": [],
   "source": [
    "article_final = pd.concat(article_res).reset_index().set_index('page.title').drop(columns={'level_0'})"
   ]
  },
  {
   "cell_type": "code",
   "execution_count": null,
   "metadata": {},
   "outputs": [],
   "source": [
    "# article_final = article_final.loc[~(article_final==0).all(axis=1)]\n",
    "article_final = article_final.loc[:, ~(article_final == 0).all(axis=0)]"
   ]
  },
  {
   "cell_type": "code",
   "execution_count": 70,
   "metadata": {},
   "outputs": [],
   "source": [
    "# top_user_list = editor_sig_contrib.index.to_list()"
   ]
  },
  {
   "cell_type": "code",
   "execution_count": 71,
   "metadata": {},
   "outputs": [],
   "source": [
    "# article_final = article_final.reindex(columns=top_user_list)"
   ]
  },
  {
   "cell_type": "markdown",
   "metadata": {},
   "source": [
    "# add c and cc score"
   ]
  },
  {
   "cell_type": "code",
   "execution_count": 73,
   "metadata": {},
   "outputs": [],
   "source": [
    "user_c_score = pd.read_parquet('../../result/TCM/TCM-CScore-user.parquet')\n",
    "user_c_score_norm = pd.read_parquet('../../result/TCM/TCM-normalized-CScore-user.parquet')\n",
    "\n",
    "user_cc_score = pd.read_parquet('../../result/TCM/TCM-CC-Score')\n",
    "user_cc_score_norm = pd.read_parquet('../../result/TCM/TCM-normalized-CC-Score')"
   ]
  },
  {
   "cell_type": "code",
   "execution_count": 74,
   "metadata": {},
   "outputs": [],
   "source": [
    "user_cc_score_norm = user_cc_score_norm.rename(columns={'cc_score_norm':'cc_score_normalized'})"
   ]
  },
  {
   "cell_type": "code",
   "execution_count": 75,
   "metadata": {},
   "outputs": [],
   "source": [
    "user_c_score_T = user_c_score.T.fillna(0)\n",
    "user_c_score_norm_T = user_c_score_norm.T.fillna(0)\n",
    "\n",
    "user_cc_score_T = user_cc_score.T.fillna(0)\n",
    "user_cc_score_norm_T = user_cc_score_norm.T.fillna(0)"
   ]
  },
  {
   "cell_type": "code",
   "execution_count": 76,
   "metadata": {},
   "outputs": [],
   "source": [
    "article_final = pd.concat([article_final,user_c_score_T,user_c_score_norm_T,user_cc_score_T,user_cc_score_norm_T],sort=False)"
   ]
  },
  {
   "cell_type": "code",
   "execution_count": 77,
   "metadata": {},
   "outputs": [],
   "source": [
    "final_df = ddf.from_pandas(article_final,chunksize=1000)\n",
    "final_df.to_parquet('../../result/TCM/TCM-user-profile')"
   ]
  },
  {
   "cell_type": "code",
   "execution_count": 78,
   "metadata": {},
   "outputs": [],
   "source": [
    "article_final.to_csv(\"../../result/TCM/TCM-user-profile.tsv\", sep=\"\\t\",encoding='utf-16')"
   ]
  },
  {
   "cell_type": "markdown",
   "metadata": {},
   "source": [
    "# article profile"
   ]
  },
  {
   "cell_type": "code",
   "execution_count": 80,
   "metadata": {},
   "outputs": [],
   "source": [
    "def pivit_df2(metric,df):\n",
    "    user_edits= df.pivot_table(index='contributor.username', columns='page.title',\n",
    "                         values=metric, aggfunc='first').fillna(0).astype('int')\n",
    "    user_edits.index = metric + '.' + user_edits.index\n",
    "    return user_edits"
   ]
  },
  {
   "cell_type": "code",
   "execution_count": 81,
   "metadata": {},
   "outputs": [],
   "source": [
    "res = {}\n",
    "for item in metrics:\n",
    "    res[item] = pivit_df2(item,article_fin_info)"
   ]
  },
  {
   "cell_type": "code",
   "execution_count": 82,
   "metadata": {},
   "outputs": [],
   "source": [
    "fin_t = pd.concat(res).reset_index().set_index('contributor.username').drop(columns={'level_0'})"
   ]
  },
  {
   "cell_type": "code",
   "execution_count": 83,
   "metadata": {},
   "outputs": [],
   "source": [
    "fin_t = fin_t.loc[~(fin_t==0).all(axis=1)]\n",
    "fin_t = fin_t.loc[:, ~(fin_t == 0).all(axis=0)]"
   ]
  },
  {
   "cell_type": "code",
   "execution_count": 84,
   "metadata": {},
   "outputs": [],
   "source": [
    "# added article c score"
   ]
  },
  {
   "cell_type": "code",
   "execution_count": 85,
   "metadata": {},
   "outputs": [],
   "source": [
    "article_c_score = pd.read_parquet('../../result/TCM/TCM-CScore-article.parquet')"
   ]
  },
  {
   "cell_type": "code",
   "execution_count": 86,
   "metadata": {},
   "outputs": [],
   "source": [
    "article_list = fin_t.columns.to_list()"
   ]
  },
  {
   "cell_type": "code",
   "execution_count": 87,
   "metadata": {},
   "outputs": [],
   "source": [
    "c_score_article = pd.DataFrame({'page.title':article_list}).set_index('page.title').join(article_c_score)"
   ]
  },
  {
   "cell_type": "code",
   "execution_count": 88,
   "metadata": {},
   "outputs": [],
   "source": [
    "c_score_article = c_score_article.rename(columns={'estimated_crc':'article.c_score'})"
   ]
  },
  {
   "cell_type": "code",
   "execution_count": 89,
   "metadata": {},
   "outputs": [],
   "source": [
    "c_score_article_T = c_score_article.T"
   ]
  },
  {
   "cell_type": "code",
   "execution_count": 90,
   "metadata": {},
   "outputs": [],
   "source": [
    "fin_t = pd.concat([fin_t,c_score_article_T])"
   ]
  },
  {
   "cell_type": "code",
   "execution_count": 91,
   "metadata": {},
   "outputs": [],
   "source": [
    "fin_t.to_csv(\"../../result/TCM/TCM-article-profile.tsv\", sep=\"\\t\",encoding='utf-16')\n",
    "fin_t_df = ddf.from_pandas(fin_t,chunksize=1000)\n",
    "fin_t_df.to_parquet('../../result/TCM/TCM-article-profile')"
   ]
  },
  {
   "cell_type": "code",
   "execution_count": null,
   "metadata": {},
   "outputs": [],
   "source": []
  },
  {
   "cell_type": "code",
   "execution_count": null,
   "metadata": {},
   "outputs": [],
   "source": []
  },
  {
   "cell_type": "code",
   "execution_count": null,
   "metadata": {},
   "outputs": [],
   "source": []
  }
 ],
 "metadata": {
  "kernelspec": {
   "display_name": "Python 3",
   "language": "python",
   "name": "python3"
  },
  "language_info": {
   "codemirror_mode": {
    "name": "ipython",
    "version": 3
   },
   "file_extension": ".py",
   "mimetype": "text/x-python",
   "name": "python",
   "nbconvert_exporter": "python",
   "pygments_lexer": "ipython3",
   "version": "3.8.10"
  }
 },
 "nbformat": 4,
 "nbformat_minor": 4
}
