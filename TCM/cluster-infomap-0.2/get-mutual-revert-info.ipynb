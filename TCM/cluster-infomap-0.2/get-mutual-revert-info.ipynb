{
 "cells": [
  {
   "cell_type": "code",
   "execution_count": 1,
   "metadata": {},
   "outputs": [],
   "source": [
    "import dask.dataframe as ddf\n",
    "import pandas as pd\n",
    "import json\n",
    "import os\n",
    "import numpy as np\n",
    "import hashlib\n",
    "import re\n",
    "import pickle\n",
    "import itertools"
   ]
  },
  {
   "cell_type": "code",
   "execution_count": 2,
   "metadata": {},
   "outputs": [],
   "source": [
    "group_rv = pd.read_csv('result/TCM-group-revert-graph.csv', sep=\"\\t\",encoding='utf-16').set_index('Unnamed: 0')"
   ]
  },
  {
   "cell_type": "code",
   "execution_count": 3,
   "metadata": {},
   "outputs": [],
   "source": [
    "group_rv.columns = group_rv.columns.map(int)"
   ]
  },
  {
   "cell_type": "code",
   "execution_count": 4,
   "metadata": {},
   "outputs": [],
   "source": [
    "all_groups = list(set(list(group_rv.index) + list(group_rv.columns)))"
   ]
  },
  {
   "cell_type": "code",
   "execution_count": 5,
   "metadata": {},
   "outputs": [],
   "source": [
    "all_possible_pairs = list(itertools.combinations(all_groups,2))"
   ]
  },
  {
   "cell_type": "code",
   "execution_count": 6,
   "metadata": {},
   "outputs": [],
   "source": [
    "in_group = [(g,g) for g in all_groups]"
   ]
  },
  {
   "cell_type": "code",
   "execution_count": 7,
   "metadata": {},
   "outputs": [],
   "source": [
    "all_possible_pairs = all_possible_pairs + in_group"
   ]
  },
  {
   "cell_type": "code",
   "execution_count": 8,
   "metadata": {},
   "outputs": [],
   "source": [
    "df = pd.DataFrame(all_possible_pairs, columns =['group1', 'group2'])"
   ]
  },
  {
   "cell_type": "code",
   "execution_count": 9,
   "metadata": {},
   "outputs": [],
   "source": [
    "def find_mutual_revert(d):\n",
    "    g1 = d['group1']\n",
    "    g2 = d['group2']\n",
    "    r1 = 0\n",
    "    r2 = 0\n",
    "    if g1 in group_rv.index and g2 in group_rv.columns:\n",
    "        r1 = group_rv.loc[g1][g2]\n",
    "    if g1 in group_rv.columns and g2 in group_rv.index:\n",
    "        r2 = group_rv[g1][g2]\n",
    "    return r1 + r2"
   ]
  },
  {
   "cell_type": "code",
   "execution_count": 10,
   "metadata": {},
   "outputs": [],
   "source": [
    "df['mutual_revert'] =  df.apply(find_mutual_revert,axis=1)"
   ]
  },
  {
   "cell_type": "code",
   "execution_count": 11,
   "metadata": {},
   "outputs": [],
   "source": [
    "df = df.sort_values(['mutual_revert'],ascending=False)"
   ]
  },
  {
   "cell_type": "code",
   "execution_count": null,
   "metadata": {},
   "outputs": [],
   "source": []
  },
  {
   "cell_type": "code",
   "execution_count": 12,
   "metadata": {},
   "outputs": [],
   "source": [
    "def find_min_revert(d):\n",
    "    g1 = d['group1']\n",
    "    g2 = d['group2']\n",
    "    r1 = 0\n",
    "    r2 = 0\n",
    "    if g1 in group_rv.index and g2 in group_rv.columns:\n",
    "        r1 = group_rv.loc[g1][g2]\n",
    "    if g1 in group_rv.columns and g2 in group_rv.index:\n",
    "        r2 = group_rv[g1][g2]\n",
    "    return min(r1,r2)"
   ]
  },
  {
   "cell_type": "code",
   "execution_count": 13,
   "metadata": {},
   "outputs": [],
   "source": [
    "df['min_revert'] =  df.apply(find_min_revert,axis=1)"
   ]
  },
  {
   "cell_type": "code",
   "execution_count": 14,
   "metadata": {},
   "outputs": [],
   "source": [
    "df_greater_than_0 = df[df['min_revert']>0]"
   ]
  },
  {
   "cell_type": "code",
   "execution_count": 15,
   "metadata": {},
   "outputs": [],
   "source": [
    "df_greater_than_0 = df_greater_than_0.sort_values('min_revert',ascending = False)"
   ]
  },
  {
   "cell_type": "code",
   "execution_count": 16,
   "metadata": {},
   "outputs": [],
   "source": [
    "df_greater_than_0.to_csv('result/TCM-mutual-and-min-revert.csv', index=False,sep=\"\\t\",encoding='utf-16')"
   ]
  },
  {
   "cell_type": "code",
   "execution_count": null,
   "metadata": {},
   "outputs": [],
   "source": []
  },
  {
   "cell_type": "markdown",
   "metadata": {},
   "source": [
    "# mutual revert for ranked articles"
   ]
  },
  {
   "cell_type": "code",
   "execution_count": 18,
   "metadata": {},
   "outputs": [],
   "source": [
    "revert_info = pd.read_parquet('../../../intermediate-result/TCM/TCM-revert-user-index-info')"
   ]
  },
  {
   "cell_type": "code",
   "execution_count": 19,
   "metadata": {},
   "outputs": [],
   "source": [
    "user_group = pd.read_csv('result/cluster-result-original-distance-0.2.csv', sep=\"\\t\",encoding='utf-16').set_index('contributor.username')"
   ]
  },
  {
   "cell_type": "code",
   "execution_count": null,
   "metadata": {},
   "outputs": [],
   "source": []
  },
  {
   "cell_type": "code",
   "execution_count": 20,
   "metadata": {},
   "outputs": [],
   "source": [
    "revert_info = revert_info.merge(user_group,left_on='user1',right_index=True).rename(columns={'group':'group1'})"
   ]
  },
  {
   "cell_type": "code",
   "execution_count": 21,
   "metadata": {},
   "outputs": [],
   "source": [
    "revert_info = revert_info.merge(user_group,left_on='user2',right_index=True).rename(columns={'group':'group2'})"
   ]
  },
  {
   "cell_type": "code",
   "execution_count": null,
   "metadata": {},
   "outputs": [],
   "source": []
  },
  {
   "cell_type": "code",
   "execution_count": 22,
   "metadata": {},
   "outputs": [],
   "source": [
    "mutual_revert = df_greater_than_0"
   ]
  },
  {
   "cell_type": "code",
   "execution_count": 23,
   "metadata": {},
   "outputs": [],
   "source": [
    "mutual_revert_info = revert_info[['page.title','group1','group2']]"
   ]
  },
  {
   "cell_type": "code",
   "execution_count": 24,
   "metadata": {},
   "outputs": [],
   "source": [
    "# switch group1 and group2 if group1 is greater than group2\n",
    "def switch_group(d):\n",
    "    g1 = d['group1']\n",
    "    g2 = d['group2']\n",
    "    if g1 > g2:\n",
    "        tmp = g1\n",
    "        d['group1'] = g2\n",
    "        d['group2'] = tmp\n",
    "    return d"
   ]
  },
  {
   "cell_type": "code",
   "execution_count": 25,
   "metadata": {},
   "outputs": [],
   "source": [
    "mutual_revert_info = mutual_revert_info.apply(switch_group,axis=1)"
   ]
  },
  {
   "cell_type": "code",
   "execution_count": 26,
   "metadata": {},
   "outputs": [],
   "source": [
    "res = mutual_revert.merge(mutual_revert_info,on=['group1','group2'])"
   ]
  },
  {
   "cell_type": "code",
   "execution_count": 27,
   "metadata": {},
   "outputs": [],
   "source": [
    "fin = res.groupby(['group1','group2','page.title']).agg({'page.title':'count'}).rename(columns={'page.title':'mutual_revert'})"
   ]
  },
  {
   "cell_type": "code",
   "execution_count": 28,
   "metadata": {},
   "outputs": [],
   "source": [
    "fin.reset_index(inplace=True)"
   ]
  },
  {
   "cell_type": "code",
   "execution_count": 29,
   "metadata": {},
   "outputs": [],
   "source": [
    "fin.to_csv('result/TCM-group-pair-article-mutual-revert-info.csv', index=False,sep=\"\\t\",encoding='utf-16')"
   ]
  },
  {
   "cell_type": "code",
   "execution_count": null,
   "metadata": {},
   "outputs": [],
   "source": []
  },
  {
   "cell_type": "code",
   "execution_count": null,
   "metadata": {},
   "outputs": [],
   "source": []
  },
  {
   "cell_type": "code",
   "execution_count": null,
   "metadata": {},
   "outputs": [],
   "source": []
  }
 ],
 "metadata": {
  "kernelspec": {
   "display_name": "Python 3",
   "language": "python",
   "name": "python3"
  },
  "language_info": {
   "codemirror_mode": {
    "name": "ipython",
    "version": 3
   },
   "file_extension": ".py",
   "mimetype": "text/x-python",
   "name": "python",
   "nbconvert_exporter": "python",
   "pygments_lexer": "ipython3",
   "version": "3.8.10"
  }
 },
 "nbformat": 4,
 "nbformat_minor": 5
}
