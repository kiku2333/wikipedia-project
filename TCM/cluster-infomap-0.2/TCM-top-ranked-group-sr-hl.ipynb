{
 "cells": [
  {
   "cell_type": "code",
   "execution_count": 1,
   "metadata": {},
   "outputs": [],
   "source": [
    "import dask.dataframe as ddf\n",
    "import pandas as pd\n",
    "import numpy as np\n",
    "import re\n",
    "import os\n",
    "import time\n",
    "from glob import glob"
   ]
  },
  {
   "cell_type": "code",
   "execution_count": 2,
   "metadata": {},
   "outputs": [],
   "source": [
    "sr = pd.read_parquet('../../../result/TCM/TCM-sr')"
   ]
  },
  {
   "cell_type": "code",
   "execution_count": 3,
   "metadata": {},
   "outputs": [],
   "source": [
    "hl = pd.read_parquet('../../../result/TCM/TCM-hl-with-editor')"
   ]
  },
  {
   "cell_type": "code",
   "execution_count": 4,
   "metadata": {},
   "outputs": [],
   "source": [
    "group_pairs = pd.read_csv('result/TCM-mutual-and-min-revert.csv', sep=\"\\t\",encoding='utf-16')"
   ]
  },
  {
   "cell_type": "code",
   "execution_count": 5,
   "metadata": {},
   "outputs": [],
   "source": [
    "group_pairs = group_pairs.sort_values('min_revert',ascending=False)"
   ]
  },
  {
   "cell_type": "code",
   "execution_count": 6,
   "metadata": {},
   "outputs": [],
   "source": [
    "kept_group_pairs = group_pairs[group_pairs['min_revert']>=10]"
   ]
  },
  {
   "cell_type": "code",
   "execution_count": 7,
   "metadata": {},
   "outputs": [],
   "source": [
    "# kept_group_pairs = group_pairs[group_pairs['min_revert']>=14]"
   ]
  },
  {
   "cell_type": "code",
   "execution_count": 8,
   "metadata": {},
   "outputs": [],
   "source": [
    "kept_group_pairs = kept_group_pairs.drop(columns=['mutual_revert','min_revert'])"
   ]
  },
  {
   "cell_type": "code",
   "execution_count": 9,
   "metadata": {},
   "outputs": [],
   "source": [
    "df = pd.read_csv('result/TCM-group-pair-article-mutual-revert-info.csv', sep=\"\\t\",encoding='utf-16')"
   ]
  },
  {
   "cell_type": "code",
   "execution_count": 10,
   "metadata": {},
   "outputs": [],
   "source": [
    "df = kept_group_pairs.merge(df,on=['group1','group2'])"
   ]
  },
  {
   "cell_type": "code",
   "execution_count": 11,
   "metadata": {},
   "outputs": [],
   "source": [
    "user_group = pd.read_csv('result/cluster-result-original-distance-0.2.csv', sep=\"\\t\",encoding='utf-16').set_index('contributor.username')"
   ]
  },
  {
   "cell_type": "code",
   "execution_count": 12,
   "metadata": {},
   "outputs": [],
   "source": [
    "sr = sr.reset_index()"
   ]
  },
  {
   "cell_type": "code",
   "execution_count": 13,
   "metadata": {},
   "outputs": [],
   "source": [
    "sr = sr.merge(user_group,left_on='contributor.username',right_index=True)"
   ]
  },
  {
   "cell_type": "code",
   "execution_count": 14,
   "metadata": {},
   "outputs": [],
   "source": [
    "group_sr = sr.groupby(['group','page.title']).agg({'all_added_tokens':'sum','survived_tokens':'sum'})"
   ]
  },
  {
   "cell_type": "code",
   "execution_count": 15,
   "metadata": {},
   "outputs": [],
   "source": [
    "group_sr['sr'] = group_sr['survived_tokens'] / group_sr['all_added_tokens']"
   ]
  },
  {
   "cell_type": "code",
   "execution_count": 16,
   "metadata": {},
   "outputs": [],
   "source": [
    "group_sr = group_sr[['sr']]"
   ]
  },
  {
   "cell_type": "code",
   "execution_count": 17,
   "metadata": {},
   "outputs": [],
   "source": [
    "hl = hl.merge(user_group,left_on='contributor.username',right_index=True)"
   ]
  },
  {
   "cell_type": "code",
   "execution_count": 18,
   "metadata": {},
   "outputs": [],
   "source": [
    "group_hl = hl.groupby(['group','page.title']).agg({'hl':'mean'})"
   ]
  },
  {
   "cell_type": "code",
   "execution_count": 19,
   "metadata": {},
   "outputs": [],
   "source": [
    "df = df.merge(group_sr.reset_index(),left_on=['group1','page.title'],right_on=['group','page.title'],how='left').rename(columns={'sr':'sr_group1'})\n",
    "df = df.merge(group_sr.reset_index(),left_on=['group2','page.title'],right_on=['group','page.title'],how='left').rename(columns={'sr':'sr_group2'})"
   ]
  },
  {
   "cell_type": "code",
   "execution_count": 20,
   "metadata": {},
   "outputs": [],
   "source": [
    "df = df.drop(columns={'group_x','group_y'})"
   ]
  },
  {
   "cell_type": "code",
   "execution_count": 21,
   "metadata": {},
   "outputs": [],
   "source": [
    "df = df.merge(group_hl.reset_index(),left_on=['group1','page.title'],right_on=['group','page.title'],how='left').rename(columns={'hl':'hl_group1'})\n",
    "df = df.merge(group_hl.reset_index(),left_on=['group2','page.title'],right_on=['group','page.title'],how='left').rename(columns={'hl':'hl_group2'})"
   ]
  },
  {
   "cell_type": "code",
   "execution_count": 22,
   "metadata": {},
   "outputs": [],
   "source": [
    "df = df.drop(columns={'group_x','group_y'})"
   ]
  },
  {
   "cell_type": "code",
   "execution_count": 23,
   "metadata": {},
   "outputs": [],
   "source": [
    "df['sr_quotient'] = df[['sr_group1','sr_group2']][(~np.isnan(df['sr_group1'])) & (~np.isnan(df['sr_group2']))].\\\n",
    "min(axis=1) / df[['sr_group1','sr_group2']].max(axis=1) "
   ]
  },
  {
   "cell_type": "code",
   "execution_count": 24,
   "metadata": {},
   "outputs": [],
   "source": [
    "df['hl_quotient'] = df[['hl_group1','hl_group2']][(~np.isnan(df['hl_group1'])) & (~np.isnan(df['hl_group2']))].\\\n",
    "min(axis=1) / df[['hl_group1','hl_group2']].max(axis=1) "
   ]
  },
  {
   "cell_type": "code",
   "execution_count": 27,
   "metadata": {},
   "outputs": [],
   "source": [
    "df.to_csv('result/TCM-sr-hl-for-top-ranked-pairs-using-wikiwho-new.csv', index=False,sep=\"\\t\",encoding='utf-16')"
   ]
  },
  {
   "cell_type": "code",
   "execution_count": null,
   "metadata": {},
   "outputs": [],
   "source": []
  },
  {
   "cell_type": "code",
   "execution_count": null,
   "metadata": {},
   "outputs": [],
   "source": []
  }
 ],
 "metadata": {
  "kernelspec": {
   "display_name": "Python 3",
   "language": "python",
   "name": "python3"
  },
  "language_info": {
   "codemirror_mode": {
    "name": "ipython",
    "version": 3
   },
   "file_extension": ".py",
   "mimetype": "text/x-python",
   "name": "python",
   "nbconvert_exporter": "python",
   "pygments_lexer": "ipython3",
   "version": "3.8.10"
  }
 },
 "nbformat": 4,
 "nbformat_minor": 5
}
