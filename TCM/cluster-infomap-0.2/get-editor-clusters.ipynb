{
 "cells": [
  {
   "cell_type": "code",
   "execution_count": 1,
   "id": "engaging-sapphire",
   "metadata": {},
   "outputs": [],
   "source": [
    "import dask.dataframe as ddf\n",
    "import pandas as pd\n",
    "import numpy as np\n",
    "from infomap import Infomap"
   ]
  },
  {
   "cell_type": "code",
   "execution_count": 2,
   "id": "southeast-secretariat",
   "metadata": {},
   "outputs": [],
   "source": [
    "import networkx as nx"
   ]
  },
  {
   "cell_type": "code",
   "execution_count": 3,
   "id": "public-rubber",
   "metadata": {},
   "outputs": [],
   "source": [
    "sim_matrix = pd.read_csv('../../../intermediate-result/TCM/TCM-editor-sim-matrix.csv',sep='\\t',encoding='utf16')"
   ]
  },
  {
   "cell_type": "code",
   "execution_count": 4,
   "id": "bright-packing",
   "metadata": {},
   "outputs": [],
   "source": [
    "sim_matrix = sim_matrix.rename(columns={'Unnamed: 0':'index'}).set_index('index')"
   ]
  },
  {
   "cell_type": "code",
   "execution_count": 5,
   "id": "threaded-paper",
   "metadata": {},
   "outputs": [],
   "source": [
    "# remove the editors where its similarity is all 0\n",
    "x = pd.DataFrame(sim_matrix.reset_index().melt('index').loc[lambda x : x['value']> 0].groupby('variable')['value'].apply(list))"
   ]
  },
  {
   "cell_type": "code",
   "execution_count": 6,
   "id": "wicked-issue",
   "metadata": {},
   "outputs": [],
   "source": [
    "x['len'] = x['value'].apply(len)"
   ]
  },
  {
   "cell_type": "code",
   "execution_count": 7,
   "id": "coordinate-leone",
   "metadata": {},
   "outputs": [],
   "source": [
    "x = x[x['len']!=1]"
   ]
  },
  {
   "cell_type": "code",
   "execution_count": 8,
   "id": "velvet-soccer",
   "metadata": {},
   "outputs": [],
   "source": [
    "sim_matrix = sim_matrix[sim_matrix.index.isin(x.index)]"
   ]
  },
  {
   "cell_type": "code",
   "execution_count": 9,
   "id": "distinguished-gabriel",
   "metadata": {},
   "outputs": [
    {
     "name": "stderr",
     "output_type": "stream",
     "text": [
      "<ipython-input-9-7c2d0f32e313>:1: FutureWarning: Index.__and__ operating as a set operation is deprecated, in the future this will be a logical operation matching Series.__and__.  Use index.intersection(other) instead\n",
      "  sim_matrix = sim_matrix[sim_matrix.columns & x.index]\n"
     ]
    }
   ],
   "source": [
    "sim_matrix = sim_matrix[sim_matrix.columns & x.index]"
   ]
  },
  {
   "cell_type": "code",
   "execution_count": null,
   "id": "selective-hygiene",
   "metadata": {},
   "outputs": [],
   "source": []
  },
  {
   "cell_type": "code",
   "execution_count": 10,
   "id": "architectural-webmaster",
   "metadata": {},
   "outputs": [],
   "source": [
    "sim = sim_matrix.values"
   ]
  },
  {
   "cell_type": "code",
   "execution_count": 11,
   "id": "miniature-frederick",
   "metadata": {},
   "outputs": [],
   "source": [
    "# minus 0.01 to avoid remove editors with a similarity of 1. \n",
    "# distance matrix is 1 - similarity matrix. If simiarity matrix is 1, then distance matrix is 0. \n",
    "# so using networrkx to create graph will not include those edges. \n",
    "# minus 0.01, so the distance matrix is 0.01 instead of 0, and will be included as an edge in graph.\n",
    "sim = sim - 0.01"
   ]
  },
  {
   "cell_type": "code",
   "execution_count": null,
   "id": "preliminary-narrative",
   "metadata": {},
   "outputs": [],
   "source": []
  },
  {
   "cell_type": "code",
   "execution_count": 12,
   "id": "departmental-module",
   "metadata": {},
   "outputs": [],
   "source": [
    "editors = list(sim_matrix.index)"
   ]
  },
  {
   "cell_type": "code",
   "execution_count": 13,
   "id": "desirable-andrews",
   "metadata": {},
   "outputs": [],
   "source": [
    "editor_info = pd.DataFrame(editors).reset_index().rename(columns={'index':'name',0:'contributor.username'})"
   ]
  },
  {
   "cell_type": "code",
   "execution_count": null,
   "id": "thirty-validity",
   "metadata": {},
   "outputs": [],
   "source": []
  },
  {
   "cell_type": "code",
   "execution_count": 14,
   "id": "tropical-archives",
   "metadata": {},
   "outputs": [],
   "source": [
    "def param_test(threshold, method):\n",
    "    if method == 'sin':\n",
    "        dis = np.arccos(sim)/pi\n",
    "    else:\n",
    "        dis = 1 - sim\n",
    "    G = nx.from_numpy_matrix(dis) \n",
    "    edge_weights = nx.get_edge_attributes(G,'weight')\n",
    "    G.remove_edges_from((e for e, w in edge_weights.items() if w > threshold))\n",
    "    im = Infomap(silent=True, num_trials=10,include_self_links=False)   \n",
    "    mapping = im.add_networkx_graph(G)\n",
    "    im.run()\n",
    "    df = im.get_dataframe(columns=[\"name\",\"node_id\", \"module_id\"])\n",
    "    num_modules = len(df['module_id'].unique())\n",
    "    a = df.groupby('module_id').count()\n",
    "    num_singe_editor_groups = len(a[a['name'] == 1])\n",
    "    max_ = a['name'].max()\n",
    "    min_ = a['name'].min()\n",
    "    greater_than_50 = len(a[a['name']>50])\n",
    "    ans = 'threshold is {}, number of groups is {}, number of single editor groups is {}, '\n",
    "    ans += 'max group contains {} editors, {} groups contains more than 50 editors'\n",
    "    print(ans.format(threshold,num_modules,num_singe_editor_groups,max_,greater_than_50))\n",
    "    \n",
    "    fin = df.merge(editor_info,on='name')\n",
    "    fin = fin.rename(columns={'module_id':'group'}).set_index('contributor.username')[['group']]\n",
    "    return fin"
   ]
  },
  {
   "cell_type": "code",
   "execution_count": 15,
   "id": "twenty-network",
   "metadata": {},
   "outputs": [],
   "source": [
    "def save_result(threshold,method):\n",
    "    fin = param_test(threshold,method)\n",
    "    file_name = 'cluster-result-' + method + '-distance-' + str(threshold) + '.csv'\n",
    "    fin.to_csv('result/' + file_name,encoding='utf-16', sep=\"\\t\")"
   ]
  },
  {
   "cell_type": "code",
   "execution_count": 16,
   "id": "funded-optics",
   "metadata": {},
   "outputs": [
    {
     "name": "stdout",
     "output_type": "stream",
     "text": [
      "threshold is 0.2, number of groups is 336, number of single editor groups is 304, max group contains 7 editors, 0 groups contains more than 50 editors\n"
     ]
    }
   ],
   "source": [
    "save_result(0.2,'original')"
   ]
  },
  {
   "cell_type": "code",
   "execution_count": 17,
   "id": "valid-overall",
   "metadata": {},
   "outputs": [
    {
     "name": "stdout",
     "output_type": "stream",
     "text": [
      "threshold is 0.5, number of groups is 168, number of single editor groups is 119, max group contains 57 editors, 1 groups contains more than 50 editors\n"
     ]
    }
   ],
   "source": [
    "# save_result(0.5,'original')"
   ]
  },
  {
   "cell_type": "code",
   "execution_count": null,
   "id": "surrounded-august",
   "metadata": {},
   "outputs": [],
   "source": []
  },
  {
   "cell_type": "code",
   "execution_count": null,
   "id": "bridal-webmaster",
   "metadata": {},
   "outputs": [],
   "source": []
  },
  {
   "cell_type": "code",
   "execution_count": null,
   "id": "ecological-foundation",
   "metadata": {},
   "outputs": [],
   "source": []
  }
 ],
 "metadata": {
  "kernelspec": {
   "display_name": "Python 3",
   "language": "python",
   "name": "python3"
  },
  "language_info": {
   "codemirror_mode": {
    "name": "ipython",
    "version": 3
   },
   "file_extension": ".py",
   "mimetype": "text/x-python",
   "name": "python",
   "nbconvert_exporter": "python",
   "pygments_lexer": "ipython3",
   "version": "3.8.10"
  }
 },
 "nbformat": 4,
 "nbformat_minor": 5
}
