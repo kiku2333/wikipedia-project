{
 "cells": [
  {
   "cell_type": "code",
   "execution_count": 1,
   "id": "dedicated-process",
   "metadata": {},
   "outputs": [],
   "source": [
    "import dask.dataframe as ddf\n",
    "import pandas as pd\n",
    "import json\n",
    "import os\n",
    "import numpy as np\n",
    "import hashlib\n",
    "import re\n",
    "from sklearn.metrics.pairwise import cosine_similarity\n",
    "from sklearn.cluster import AgglomerativeClustering"
   ]
  },
  {
   "cell_type": "code",
   "execution_count": 2,
   "id": "hollow-worthy",
   "metadata": {},
   "outputs": [],
   "source": [
    "user_cluster_df = pd.read_csv('result/cluster-result-original-distance-0.2.csv',sep=\"\\t\",encoding='utf-16')"
   ]
  },
  {
   "cell_type": "code",
   "execution_count": 3,
   "id": "optional-kuwait",
   "metadata": {},
   "outputs": [],
   "source": [
    "user_cluster_df = user_cluster_df.set_index('contributor.username')"
   ]
  },
  {
   "cell_type": "markdown",
   "id": "dirty-separation",
   "metadata": {},
   "source": [
    "# group revert graph"
   ]
  },
  {
   "cell_type": "code",
   "execution_count": 5,
   "id": "taken-tunnel",
   "metadata": {},
   "outputs": [],
   "source": [
    "kept_editors = user_cluster_df.index.to_list()"
   ]
  },
  {
   "cell_type": "code",
   "execution_count": 6,
   "id": "flush-sweden",
   "metadata": {},
   "outputs": [],
   "source": [
    "graph = pd.read_csv('../../../result/TCM/TCM-global-revert-graph.csv',encoding=\"utf-16\",sep=\"\\t\")"
   ]
  },
  {
   "cell_type": "code",
   "execution_count": 7,
   "id": "russian-consultancy",
   "metadata": {},
   "outputs": [],
   "source": [
    "graph = graph.rename(columns={'Unnamed: 0':'index'}).set_index('index')"
   ]
  },
  {
   "cell_type": "code",
   "execution_count": 8,
   "id": "regional-brazilian",
   "metadata": {},
   "outputs": [],
   "source": [
    "graph = graph[graph.index.isin(kept_editors)]"
   ]
  },
  {
   "cell_type": "code",
   "execution_count": 9,
   "id": "passing-coach",
   "metadata": {},
   "outputs": [],
   "source": [
    "graph = graph[[c for c in graph.columns if c in kept_editors]]"
   ]
  },
  {
   "cell_type": "code",
   "execution_count": 10,
   "id": "operational-medicaid",
   "metadata": {},
   "outputs": [],
   "source": [
    "n_groups = len(user_cluster_df['group'].unique())"
   ]
  },
  {
   "cell_type": "code",
   "execution_count": 11,
   "id": "dense-evans",
   "metadata": {},
   "outputs": [],
   "source": [
    "group_revert_graph = np.zeros((n_groups,n_groups))"
   ]
  },
  {
   "cell_type": "code",
   "execution_count": 12,
   "id": "located-roulette",
   "metadata": {},
   "outputs": [],
   "source": [
    "def get_group(user):\n",
    "    return user_cluster_df.loc[user]['group']"
   ]
  },
  {
   "cell_type": "code",
   "execution_count": 13,
   "id": "pleasant-picking",
   "metadata": {},
   "outputs": [],
   "source": [
    "for user in kept_editors:\n",
    "    user_g = get_group(user)\n",
    "    if user in graph.index:\n",
    "        x = graph.loc[user]\n",
    "        revert_users = x[x>0].index\n",
    "        for u in revert_users:\n",
    "            curr_group = get_group(u)\n",
    "            group_revert_graph[user_g - 1][curr_group - 1] += x[u]"
   ]
  },
  {
   "cell_type": "code",
   "execution_count": 14,
   "id": "usual-brush",
   "metadata": {},
   "outputs": [],
   "source": [
    "rv = pd.DataFrame(group_revert_graph)"
   ]
  },
  {
   "cell_type": "code",
   "execution_count": 15,
   "id": "civilian-julian",
   "metadata": {},
   "outputs": [],
   "source": [
    "rv.index = rv.index + 1"
   ]
  },
  {
   "cell_type": "code",
   "execution_count": 16,
   "id": "chief-reset",
   "metadata": {},
   "outputs": [],
   "source": [
    "rv.columns = rv.columns + 1"
   ]
  },
  {
   "cell_type": "code",
   "execution_count": 17,
   "id": "environmental-contents",
   "metadata": {},
   "outputs": [
    {
     "data": {
      "text/plain": [
       "1.0"
      ]
     },
     "execution_count": 17,
     "metadata": {},
     "output_type": "execute_result"
    }
   ],
   "source": [
    "# max self revert\n",
    "pd.Series(np.diag(rv), index=[rv.index, rv.columns]).max()"
   ]
  },
  {
   "cell_type": "code",
   "execution_count": 18,
   "id": "spoken-estate",
   "metadata": {},
   "outputs": [],
   "source": [
    "rv = rv.loc[~(rv==0).all(axis=1)]\n",
    "rv = rv.loc[:, ~(rv == 0).all(axis=0)]"
   ]
  },
  {
   "cell_type": "code",
   "execution_count": 19,
   "id": "medium-harris",
   "metadata": {},
   "outputs": [],
   "source": [
    "rv.to_csv('result/TCM-group-revert-graph.csv',encoding='utf-16', sep=\"\\t\")"
   ]
  },
  {
   "cell_type": "markdown",
   "id": "ready-return",
   "metadata": {},
   "source": [
    "# group similarity"
   ]
  },
  {
   "cell_type": "code",
   "execution_count": 21,
   "id": "soviet-glass",
   "metadata": {},
   "outputs": [],
   "source": [
    "all_groups = list(set(rv.index.to_list() + rv.columns.map(int).to_list()))"
   ]
  },
  {
   "cell_type": "code",
   "execution_count": 1,
   "id": "independent-farming",
   "metadata": {},
   "outputs": [],
   "source": [
    "res = {}"
   ]
  },
  {
   "cell_type": "code",
   "execution_count": 23,
   "id": "public-norwegian",
   "metadata": {},
   "outputs": [],
   "source": [
    "# create the list for comparsion, add up columns and rows for each user\n",
    "def revert_list(user):\n",
    "    col_len = len(rv)\n",
    "    cols = []\n",
    "    row_len = len(rv.columns)\n",
    "    rows = []\n",
    "    if user not in rv.index:\n",
    "        rows = [0.0] * row_len\n",
    "    else:\n",
    "        rows = rv.loc[user].to_list()\n",
    "    if user not in rv:\n",
    "        cols = [0.0] * col_len\n",
    "    else:\n",
    "        cols = rv[user].to_list()\n",
    "    res[user] = rows + cols"
   ]
  },
  {
   "cell_type": "code",
   "execution_count": 24,
   "id": "dedicated-upset",
   "metadata": {},
   "outputs": [],
   "source": [
    "result = [revert_list(i) for i in all_groups]"
   ]
  },
  {
   "cell_type": "code",
   "execution_count": 25,
   "id": "trained-update",
   "metadata": {},
   "outputs": [],
   "source": [
    "num_groups = len(all_groups)"
   ]
  },
  {
   "cell_type": "code",
   "execution_count": 26,
   "id": "strong-allah",
   "metadata": {},
   "outputs": [],
   "source": [
    "sim_matrix = np.empty((num_groups,num_groups))\n",
    "# np.fill_diagonal(sim_matrix,np.nan)\n",
    "np.fill_diagonal(sim_matrix,1)"
   ]
  },
  {
   "cell_type": "code",
   "execution_count": 27,
   "id": "selective-cloud",
   "metadata": {},
   "outputs": [],
   "source": [
    "for i in range(num_groups - 1):\n",
    "    for j in range(i + 1, num_groups):\n",
    "        u1 = all_groups[i]\n",
    "        u2 = all_groups[j]\n",
    "        sim = cosine_similarity([res[u1]],[res[u2]])\n",
    "        sim_matrix[i][j] = sim\n",
    "        sim_matrix[j][i] = sim"
   ]
  },
  {
   "cell_type": "code",
   "execution_count": 28,
   "id": "elect-mexican",
   "metadata": {},
   "outputs": [],
   "source": [
    "group_sim = pd.DataFrame(sim_matrix,index=all_groups,columns=all_groups)"
   ]
  },
  {
   "cell_type": "code",
   "execution_count": 2,
   "id": "authentic-timeline",
   "metadata": {},
   "outputs": [],
   "source": [
    "# # number of group similarity greater than 0.7\n",
    "# sum(group_sim[group_sim>0.7].count())"
   ]
  },
  {
   "cell_type": "code",
   "execution_count": 30,
   "id": "scheduled-delivery",
   "metadata": {},
   "outputs": [],
   "source": [
    "# must have string col names\n",
    "group_sim.columns = group_sim.columns.map(str)"
   ]
  },
  {
   "cell_type": "code",
   "execution_count": 31,
   "id": "voluntary-gallery",
   "metadata": {},
   "outputs": [],
   "source": [
    "group_sim.to_parquet('result/TCM-editor-group-similarity')"
   ]
  },
  {
   "cell_type": "code",
   "execution_count": 32,
   "id": "preceding-float",
   "metadata": {},
   "outputs": [],
   "source": [
    "group_sim.to_csv('result/user-group-similarity-matrix.csv',encoding='utf-16', sep=\"\\t\")"
   ]
  },
  {
   "cell_type": "code",
   "execution_count": null,
   "id": "latin-madison",
   "metadata": {},
   "outputs": [],
   "source": []
  },
  {
   "cell_type": "code",
   "execution_count": null,
   "id": "concrete-attitude",
   "metadata": {},
   "outputs": [],
   "source": []
  }
 ],
 "metadata": {
  "kernelspec": {
   "display_name": "Python 3",
   "language": "python",
   "name": "python3"
  },
  "language_info": {
   "codemirror_mode": {
    "name": "ipython",
    "version": 3
   },
   "file_extension": ".py",
   "mimetype": "text/x-python",
   "name": "python",
   "nbconvert_exporter": "python",
   "pygments_lexer": "ipython3",
   "version": "3.8.10"
  }
 },
 "nbformat": 4,
 "nbformat_minor": 5
}
