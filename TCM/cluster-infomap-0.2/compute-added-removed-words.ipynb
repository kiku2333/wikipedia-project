{
 "cells": [
  {
   "cell_type": "code",
   "execution_count": 1,
   "id": "promising-ranch",
   "metadata": {},
   "outputs": [
    {
     "name": "stderr",
     "output_type": "stream",
     "text": [
      "/home/ubuntu/.local/lib/python3.8/site-packages/dask/dataframe/utils.py:374: FutureWarning: pandas.Int64Index is deprecated and will be removed from pandas in a future version. Use pandas.Index with the appropriate dtype instead.\n",
      "  _numeric_index_types = (pd.Int64Index, pd.Float64Index, pd.UInt64Index)\n",
      "/home/ubuntu/.local/lib/python3.8/site-packages/dask/dataframe/utils.py:374: FutureWarning: pandas.Float64Index is deprecated and will be removed from pandas in a future version. Use pandas.Index with the appropriate dtype instead.\n",
      "  _numeric_index_types = (pd.Int64Index, pd.Float64Index, pd.UInt64Index)\n",
      "/home/ubuntu/.local/lib/python3.8/site-packages/dask/dataframe/utils.py:374: FutureWarning: pandas.UInt64Index is deprecated and will be removed from pandas in a future version. Use pandas.Index with the appropriate dtype instead.\n",
      "  _numeric_index_types = (pd.Int64Index, pd.Float64Index, pd.UInt64Index)\n"
     ]
    }
   ],
   "source": [
    "import dask\n",
    "import dask.dataframe as ddf\n",
    "import pandas as pd\n",
    "import numpy as np\n",
    "from string import punctuation\n",
    "import collections\n",
    "import re\n",
    "import mwparserfromhell\n",
    "from nltk.corpus import stopwords\n",
    "import codecs\n",
    "import os"
   ]
  },
  {
   "cell_type": "markdown",
   "id": "explicit-supervision",
   "metadata": {},
   "source": [
    "# TCM-words-removed-info by revert graph"
   ]
  },
  {
   "cell_type": "code",
   "execution_count": 2,
   "id": "lucky-panama",
   "metadata": {},
   "outputs": [],
   "source": [
    "revert_info = pd.read_parquet('../../../intermediate-result/TCM/TCM-revert-user-index-info')"
   ]
  },
  {
   "cell_type": "code",
   "execution_count": 3,
   "id": "tested-album",
   "metadata": {},
   "outputs": [],
   "source": [
    "add_removed = ddf.read_parquet('../../../intermediate-result/TCM/TCM-added-modified-removed').compute()"
   ]
  },
  {
   "cell_type": "code",
   "execution_count": 4,
   "id": "enabling-brunei",
   "metadata": {},
   "outputs": [],
   "source": [
    "add_removed = add_removed[['new.text.added','new.text.modified','new.text.removed']]"
   ]
  },
  {
   "cell_type": "code",
   "execution_count": 5,
   "id": "terminal-allocation",
   "metadata": {},
   "outputs": [],
   "source": [
    "x = revert_info.merge(add_removed,left_on='rev1',right_index=True)"
   ]
  },
  {
   "cell_type": "code",
   "execution_count": 6,
   "id": "wired-snapshot",
   "metadata": {},
   "outputs": [],
   "source": [
    "def cleanString(strval):\n",
    "    return \"\".join(\" \" if i in punctuation else i for i in strval.strip(punctuation))\n",
    "\n",
    "cachedStopWords = stopwords.words(\"english\")\n",
    "\n",
    "# extend the stopwords\n",
    "cachedStopWords.extend(['also','ref','name'])"
   ]
  },
  {
   "cell_type": "code",
   "execution_count": 7,
   "id": "labeled-commercial",
   "metadata": {},
   "outputs": [],
   "source": [
    "def process_text(t):\n",
    "    # deal with special characters\n",
    "    t = codecs.decode(t, 'unicode_escape')\n",
    "    t = cleanString(t).lower()\n",
    "    t = re.sub(' +', ' ', t).split()\n",
    "    t = [word for word in t if word not in cachedStopWords]\n",
    "    t = [i for i in t if not i.isdigit()]\n",
    "    return collections.Counter(t)"
   ]
  },
  {
   "cell_type": "code",
   "execution_count": 8,
   "id": "occasional-silence",
   "metadata": {},
   "outputs": [],
   "source": [
    "def get_added_removed_words(x):\n",
    "    added = x['new.text.added']\n",
    "    modified = x['new.text.modified']\n",
    "    removed = x['new.text.removed']\n",
    "    add = collections.Counter()\n",
    "    remove = collections.Counter()\n",
    "    # modified, check words difference\n",
    "    if len(modified)!= 0:\n",
    "        for items in modified:\n",
    "            # a: old, b: new\n",
    "            a = list(items.keys())[0]\n",
    "            b = list(items.values())[0]\n",
    "            a = process_text(a)\n",
    "            b = process_text(b)\n",
    "            add += (b - a)\n",
    "            remove += (a - b)\n",
    "    if len(added) != 0:\n",
    "        for sentence in added:\n",
    "            parsed_wikicode = mwparserfromhell.parse(sentence)\n",
    "            content = parsed_wikicode.strip_code()\n",
    "            content = process_text(content)\n",
    "            add += (content)\n",
    "    if len(removed) != 0:\n",
    "        for sentence in removed:\n",
    "            parsed_wikicode = mwparserfromhell.parse(sentence)\n",
    "            content = parsed_wikicode.strip_code()\n",
    "            content = process_text(content)\n",
    "            remove += (content)\n",
    "    return add,remove"
   ]
  },
  {
   "cell_type": "code",
   "execution_count": 9,
   "id": "adaptive-genre",
   "metadata": {},
   "outputs": [],
   "source": [
    "x[['added_words','removed_words']] = x.apply(get_added_removed_words,axis=1,result_type=\"expand\")"
   ]
  },
  {
   "cell_type": "code",
   "execution_count": 10,
   "id": "happy-compression",
   "metadata": {},
   "outputs": [],
   "source": [
    "x = x.drop(columns={'new.text.added','new.text.modified','new.text.removed'})"
   ]
  },
  {
   "cell_type": "code",
   "execution_count": 11,
   "id": "agricultural-nurse",
   "metadata": {},
   "outputs": [],
   "source": [
    "x.to_parquet('result/TCM-revert-user-index-info-with-words-added-removed')"
   ]
  },
  {
   "cell_type": "code",
   "execution_count": 12,
   "id": "sapphire-quantum",
   "metadata": {},
   "outputs": [],
   "source": [
    "x.to_csv('result/TCM-revert-user-index-info-with-words-added-removed.csv', index=False,sep=\"\\t\",encoding='utf-16')"
   ]
  },
  {
   "cell_type": "code",
   "execution_count": null,
   "id": "toxic-oklahoma",
   "metadata": {},
   "outputs": [],
   "source": []
  },
  {
   "cell_type": "code",
   "execution_count": 44,
   "id": "collectible-bacteria",
   "metadata": {},
   "outputs": [],
   "source": [
    "# compute diff"
   ]
  },
  {
   "cell_type": "code",
   "execution_count": 13,
   "id": "emotional-graphics",
   "metadata": {},
   "outputs": [],
   "source": [
    "user_group = pd.read_csv('result/cluster-result-original-distance-0.2.csv', sep=\"\\t\",encoding='utf-16')"
   ]
  },
  {
   "cell_type": "code",
   "execution_count": 14,
   "id": "lonely-composition",
   "metadata": {},
   "outputs": [],
   "source": [
    "user_group = user_group.set_index('contributor.username')"
   ]
  },
  {
   "cell_type": "code",
   "execution_count": 15,
   "id": "registered-framing",
   "metadata": {},
   "outputs": [],
   "source": [
    "group_revert_info = x.merge(user_group,left_on='user1',right_index=True)[['rev1','user1','added_words','removed_words','group','page.title']]"
   ]
  },
  {
   "cell_type": "code",
   "execution_count": 16,
   "id": "alike-november",
   "metadata": {},
   "outputs": [],
   "source": [
    "fin = group_revert_info.groupby(['group','page.title']).agg({'added_words':'sum','removed_words':'sum'})"
   ]
  },
  {
   "cell_type": "code",
   "execution_count": 17,
   "id": "missing-medline",
   "metadata": {},
   "outputs": [],
   "source": [
    "fin['add.removed'] = fin['added_words'] - fin['removed_words']"
   ]
  },
  {
   "cell_type": "code",
   "execution_count": 18,
   "id": "velvet-specific",
   "metadata": {},
   "outputs": [],
   "source": [
    "fin['removed.add'] = fin['removed_words'] - fin['added_words']"
   ]
  },
  {
   "cell_type": "code",
   "execution_count": 20,
   "id": "outdoor-incidence",
   "metadata": {},
   "outputs": [],
   "source": [
    "def to_negative(x):\n",
    "    for k,v in x.items():\n",
    "        x[k] = -v\n",
    "    return x"
   ]
  },
  {
   "cell_type": "code",
   "execution_count": 21,
   "id": "powered-embassy",
   "metadata": {},
   "outputs": [],
   "source": [
    "fin['removed.add'] = fin['removed.add'].apply(to_negative)"
   ]
  },
  {
   "cell_type": "code",
   "execution_count": 22,
   "id": "acting-update",
   "metadata": {},
   "outputs": [],
   "source": [
    "def find_diff(x):\n",
    "    a = x['add.removed']\n",
    "    b = x['removed.add']\n",
    "    return collections.Counter({x: a.get(x, 0) + b.get(x, 0) for x in set(a).union(b)})"
   ]
  },
  {
   "cell_type": "code",
   "execution_count": 23,
   "id": "allied-stomach",
   "metadata": {},
   "outputs": [],
   "source": [
    "fin['diff'] = fin.apply(find_diff,axis=1)"
   ]
  },
  {
   "cell_type": "code",
   "execution_count": 24,
   "id": "invisible-reaction",
   "metadata": {},
   "outputs": [],
   "source": [
    "fin = fin[['added_words','removed_words','diff']]"
   ]
  },
  {
   "cell_type": "code",
   "execution_count": 25,
   "id": "lightweight-access",
   "metadata": {},
   "outputs": [],
   "source": [
    "def sort_and_select_top_100(a):\n",
    "    d= {}\n",
    "    for k, v in sorted(a.items(), key=lambda x: abs(x[1]), reverse=True):\n",
    "        d[k] = v\n",
    "    return list(d.items())[:100]"
   ]
  },
  {
   "cell_type": "code",
   "execution_count": 26,
   "id": "incomplete-guarantee",
   "metadata": {},
   "outputs": [],
   "source": [
    "fin['diff'] = fin['diff'].apply(sort_and_select_top_100)"
   ]
  },
  {
   "cell_type": "code",
   "execution_count": 27,
   "id": "developing-office",
   "metadata": {},
   "outputs": [],
   "source": [
    "def sort_counter(c):\n",
    "    return c.most_common()[:100]"
   ]
  },
  {
   "cell_type": "code",
   "execution_count": 28,
   "id": "helpful-platinum",
   "metadata": {},
   "outputs": [],
   "source": [
    "fin['added_words'] = fin['added_words'].apply(sort_counter)"
   ]
  },
  {
   "cell_type": "code",
   "execution_count": 29,
   "id": "tight-myrtle",
   "metadata": {},
   "outputs": [],
   "source": [
    "fin['removed_words'] = fin['removed_words'].apply(sort_counter)"
   ]
  },
  {
   "cell_type": "code",
   "execution_count": 30,
   "id": "wired-jacob",
   "metadata": {},
   "outputs": [],
   "source": [
    "fin.to_csv('result/TCM-added-removed-words-per-group-per-article-based-on-revert.csv',sep='\\t',encoding='utf-16')"
   ]
  },
  {
   "cell_type": "code",
   "execution_count": 31,
   "id": "competitive-elements",
   "metadata": {},
   "outputs": [],
   "source": [
    "# per group"
   ]
  },
  {
   "cell_type": "code",
   "execution_count": 32,
   "id": "electrical-combination",
   "metadata": {},
   "outputs": [],
   "source": [
    "per_group = group_revert_info.groupby(['group']).agg({'added_words':'sum','removed_words':'sum'})"
   ]
  },
  {
   "cell_type": "code",
   "execution_count": 33,
   "id": "cardiovascular-huntington",
   "metadata": {},
   "outputs": [],
   "source": [
    "per_group['add.removed'] = per_group['added_words'] - per_group['removed_words']\n",
    "per_group['removed.add'] = per_group['removed_words'] - per_group['added_words']"
   ]
  },
  {
   "cell_type": "code",
   "execution_count": 34,
   "id": "elect-article",
   "metadata": {},
   "outputs": [],
   "source": [
    "per_group['removed.add'] = per_group['removed.add'].apply(to_negative)"
   ]
  },
  {
   "cell_type": "code",
   "execution_count": 35,
   "id": "useful-frontier",
   "metadata": {},
   "outputs": [],
   "source": [
    "per_group['diff'] = per_group.apply(find_diff,axis=1)"
   ]
  },
  {
   "cell_type": "code",
   "execution_count": 36,
   "id": "fresh-outline",
   "metadata": {},
   "outputs": [],
   "source": [
    "per_group = per_group[['added_words','removed_words','diff']]"
   ]
  },
  {
   "cell_type": "code",
   "execution_count": 37,
   "id": "outstanding-portuguese",
   "metadata": {},
   "outputs": [],
   "source": [
    "per_group['diff'] = per_group['diff'].apply(sort_and_select_top_100)"
   ]
  },
  {
   "cell_type": "code",
   "execution_count": 38,
   "id": "cordless-gibraltar",
   "metadata": {},
   "outputs": [],
   "source": [
    "per_group['added_words'] = per_group['added_words'].apply(sort_counter)"
   ]
  },
  {
   "cell_type": "code",
   "execution_count": 39,
   "id": "informational-penetration",
   "metadata": {},
   "outputs": [],
   "source": [
    "per_group['removed_words'] = per_group['removed_words'].apply(sort_counter)"
   ]
  },
  {
   "cell_type": "code",
   "execution_count": 40,
   "id": "assured-mountain",
   "metadata": {},
   "outputs": [],
   "source": [
    "per_group.to_csv('result/TCM-added-removed-words-per-group-based-on-revert.csv',sep='\\t',encoding='utf-16')"
   ]
  },
  {
   "cell_type": "code",
   "execution_count": null,
   "id": "earned-automation",
   "metadata": {},
   "outputs": [],
   "source": []
  },
  {
   "cell_type": "markdown",
   "id": "employed-applicant",
   "metadata": {},
   "source": [
    "# TCM-words-removed-info for all revision"
   ]
  },
  {
   "cell_type": "code",
   "execution_count": 42,
   "id": "occupational-junior",
   "metadata": {},
   "outputs": [],
   "source": [
    "parquetdir = '../../../tcm-columns-add-main'"
   ]
  },
  {
   "cell_type": "code",
   "execution_count": 43,
   "id": "single-absence",
   "metadata": {},
   "outputs": [],
   "source": [
    "usernames = ddf.read_parquet(os.path.join(parquetdir,'contributor.username')).compute().drop(columns={'dir0'})\n",
    "page_title = ddf.read_parquet(os.path.join(parquetdir,'page.title')).compute().drop(columns={'dir0'})"
   ]
  },
  {
   "cell_type": "code",
   "execution_count": 44,
   "id": "handy-hopkins",
   "metadata": {},
   "outputs": [],
   "source": [
    "df = page_title.join(usernames).join(add_removed)"
   ]
  },
  {
   "cell_type": "code",
   "execution_count": 45,
   "id": "substantial-friendly",
   "metadata": {},
   "outputs": [],
   "source": [
    "kept_editors = user_group.index.to_list()"
   ]
  },
  {
   "cell_type": "code",
   "execution_count": 46,
   "id": "skilled-maria",
   "metadata": {},
   "outputs": [],
   "source": [
    "df = df[df['contributor.username'].isin(kept_editors)]"
   ]
  },
  {
   "cell_type": "code",
   "execution_count": 47,
   "id": "welsh-ballet",
   "metadata": {},
   "outputs": [],
   "source": [
    "def is_talk(text):\n",
    "    return re.search('Talk:', text) != None"
   ]
  },
  {
   "cell_type": "code",
   "execution_count": 48,
   "id": "confirmed-isaac",
   "metadata": {},
   "outputs": [],
   "source": [
    "df['is_talk'] = df['page.title'].apply(is_talk)"
   ]
  },
  {
   "cell_type": "code",
   "execution_count": 49,
   "id": "cosmetic-hollywood",
   "metadata": {},
   "outputs": [],
   "source": [
    "df = df[~df['is_talk']]"
   ]
  },
  {
   "cell_type": "code",
   "execution_count": 50,
   "id": "cognitive-jurisdiction",
   "metadata": {},
   "outputs": [],
   "source": [
    "df = df.fillna('')"
   ]
  },
  {
   "cell_type": "code",
   "execution_count": 51,
   "id": "mental-value",
   "metadata": {},
   "outputs": [],
   "source": [
    "df[['added_words','removed_words']] = df.apply(get_added_removed_words,axis=1,result_type=\"expand\")"
   ]
  },
  {
   "cell_type": "code",
   "execution_count": 52,
   "id": "herbal-backup",
   "metadata": {},
   "outputs": [],
   "source": [
    "df = df.merge(user_group,left_on='contributor.username',right_index=True)"
   ]
  },
  {
   "cell_type": "code",
   "execution_count": 53,
   "id": "raised-judge",
   "metadata": {},
   "outputs": [],
   "source": [
    "x = df.groupby(['group','page.title']).agg({'new.text.modified':'count','added_words':'sum','removed_words':'sum'})"
   ]
  },
  {
   "cell_type": "code",
   "execution_count": 54,
   "id": "average-tattoo",
   "metadata": {},
   "outputs": [],
   "source": [
    "x = x[x['new.text.modified']>=100]"
   ]
  },
  {
   "cell_type": "code",
   "execution_count": 55,
   "id": "further-seafood",
   "metadata": {},
   "outputs": [],
   "source": [
    "fin = x.reset_index().groupby('group').agg({'added_words':'sum','removed_words':'sum'})"
   ]
  },
  {
   "cell_type": "code",
   "execution_count": 56,
   "id": "crude-colorado",
   "metadata": {},
   "outputs": [],
   "source": [
    "fin['add.removed'] = fin['added_words'] - fin['removed_words']\n",
    "fin['removed.add'] = fin['removed_words'] - fin['added_words']\n",
    "fin['removed.add'] = fin['removed.add'].apply(to_negative)"
   ]
  },
  {
   "cell_type": "code",
   "execution_count": 57,
   "id": "divine-observation",
   "metadata": {},
   "outputs": [],
   "source": [
    "fin['diff'] = fin.apply(find_diff,axis=1)"
   ]
  },
  {
   "cell_type": "code",
   "execution_count": 58,
   "id": "driven-morning",
   "metadata": {},
   "outputs": [],
   "source": [
    "fin = fin[['added_words','removed_words','diff']]"
   ]
  },
  {
   "cell_type": "code",
   "execution_count": 59,
   "id": "respected-plaintiff",
   "metadata": {},
   "outputs": [],
   "source": [
    "fin['diff'] = fin['diff'].apply(sort_and_select_top_100)"
   ]
  },
  {
   "cell_type": "code",
   "execution_count": 60,
   "id": "inner-problem",
   "metadata": {},
   "outputs": [],
   "source": [
    "fin['added_words'] = fin['added_words'].apply(sort_counter)"
   ]
  },
  {
   "cell_type": "code",
   "execution_count": 61,
   "id": "republican-wagon",
   "metadata": {},
   "outputs": [],
   "source": [
    "fin['removed_words'] = fin['removed_words'].apply(sort_counter)"
   ]
  },
  {
   "cell_type": "code",
   "execution_count": 62,
   "id": "detailed-immunology",
   "metadata": {},
   "outputs": [],
   "source": [
    "fin.to_csv('result/TCM-added-removed-words-per-group-all-revisions.csv',sep='\\t',encoding='utf-16')"
   ]
  },
  {
   "cell_type": "code",
   "execution_count": null,
   "id": "logical-concrete",
   "metadata": {},
   "outputs": [],
   "source": []
  },
  {
   "cell_type": "code",
   "execution_count": null,
   "id": "varying-johnson",
   "metadata": {},
   "outputs": [],
   "source": []
  }
 ],
 "metadata": {
  "kernelspec": {
   "display_name": "Python 3",
   "language": "python",
   "name": "python3"
  },
  "language_info": {
   "codemirror_mode": {
    "name": "ipython",
    "version": 3
   },
   "file_extension": ".py",
   "mimetype": "text/x-python",
   "name": "python",
   "nbconvert_exporter": "python",
   "pygments_lexer": "ipython3",
   "version": "3.8.10"
  }
 },
 "nbformat": 4,
 "nbformat_minor": 5
}
