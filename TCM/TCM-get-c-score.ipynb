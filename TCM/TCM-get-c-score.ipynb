{
 "cells": [
  {
   "cell_type": "code",
   "execution_count": 1,
   "metadata": {},
   "outputs": [
    {
     "name": "stderr",
     "output_type": "stream",
     "text": [
      "/usr/lib/python3/dist-packages/dask/dataframe/utils.py:14: FutureWarning: pandas.util.testing is deprecated. Use the functions in the public API at pandas.testing instead.\n",
      "  import pandas.util.testing as tm\n"
     ]
    }
   ],
   "source": [
    "import dask\n",
    "import dask.dataframe as ddf\n",
    "import os\n",
    "from glob import glob\n",
    "import re\n",
    "import pandas as pd\n",
    "import numpy as np\n",
    "import time\n",
    "import pickle\n",
    "import json\n",
    "from sklearn.svm import SVR\n",
    "from sklearn.model_selection import train_test_split\n",
    "import matplotlib.pyplot as plt\n",
    "from sklearn.pipeline import make_pipeline\n",
    "from sklearn.preprocessing import StandardScaler\n",
    "import _pickle as cPickle"
   ]
  },
  {
   "cell_type": "code",
   "execution_count": 2,
   "metadata": {},
   "outputs": [],
   "source": [
    "controversial_title_dir = '../../../mount-files/controversial_titles/'"
   ]
  },
  {
   "cell_type": "code",
   "execution_count": 3,
   "metadata": {},
   "outputs": [],
   "source": [
    "all_title_files = glob(controversial_title_dir + '*')"
   ]
  },
  {
   "cell_type": "code",
   "execution_count": 5,
   "metadata": {},
   "outputs": [],
   "source": [
    "metric_path = '../../../mount-files/all-data-extracted-page-info/'"
   ]
  },
  {
   "cell_type": "code",
   "execution_count": 6,
   "metadata": {},
   "outputs": [],
   "source": [
    "all_files = glob(metric_path + '*')"
   ]
  },
  {
   "cell_type": "markdown",
   "metadata": {},
   "source": [
    "# get all controversial articles info"
   ]
  },
  {
   "cell_type": "code",
   "execution_count": 8,
   "metadata": {},
   "outputs": [],
   "source": [
    "talks = []\n",
    "for i in all_title_files:\n",
    "    with open(i, 'rb') as f:\n",
    "        c_titles = pickle.load(f)\n",
    "        talks += c_titles"
   ]
  },
  {
   "cell_type": "code",
   "execution_count": 9,
   "metadata": {},
   "outputs": [],
   "source": [
    "# get corresponding article pages\n",
    "articles = list(map(lambda x: str(x).replace('Talk:', ''), talks))"
   ]
  },
  {
   "cell_type": "code",
   "execution_count": 10,
   "metadata": {},
   "outputs": [],
   "source": [
    "controversial_articles = articles + talks"
   ]
  },
  {
   "cell_type": "code",
   "execution_count": 13,
   "metadata": {},
   "outputs": [],
   "source": [
    "with open('../../result/' + 'controversial_articles.txt', \"wb\") as fp:   #Pickling\n",
    "    pickle.dump(controversial_articles, fp)"
   ]
  },
  {
   "cell_type": "code",
   "execution_count": null,
   "metadata": {},
   "outputs": [],
   "source": [
    "# read all folders\n",
    "# for controversial articles, get all metrics, and append it to a csv file"
   ]
  },
  {
   "cell_type": "code",
   "execution_count": 15,
   "metadata": {},
   "outputs": [],
   "source": [
    "for file in all_files:\n",
    "    test = ddf.read_parquet(os.path.join(file,'revision.count')).compute()\n",
    "    test = test.loc[test.index.isin(controversial_articles)]\n",
    "    if test.empty:\n",
    "        continue\n",
    "    test = test.join(ddf.read_parquet(os.path.join(file,'page.length')).compute())\n",
    "    test = test.join(ddf.read_parquet(os.path.join(file,'unique.editors')).compute())\n",
    "    test = test.join(ddf.read_parquet(os.path.join(file,'links.count')).compute())\n",
    "    test = test.join(ddf.read_parquet(os.path.join(file,'anon.edits')).compute())\n",
    "    test = test.join(ddf.read_parquet(os.path.join(file,'minor')).compute())\n",
    "    test = test.join(ddf.read_parquet(os.path.join(file,'reverts_new')).compute())\n",
    "    test = test.join(ddf.read_parquet(os.path.join(file,'crc')).compute())   \n",
    "    test.to_csv('../../intermediate-result/controversial_articles.csv', mode='a', header=False)"
   ]
  },
  {
   "cell_type": "code",
   "execution_count": null,
   "metadata": {},
   "outputs": [],
   "source": [
    "# convert the csv to pandas"
   ]
  },
  {
   "cell_type": "code",
   "execution_count": 16,
   "metadata": {},
   "outputs": [],
   "source": [
    "data = pd.read_csv('../../intermediate-result/controversial_articles.csv',names=['revision.count','page.length','unique.editors','links.count','anon.edits',\n",
    "                                                       'minor','reverts','crc'])"
   ]
  },
  {
   "cell_type": "code",
   "execution_count": 18,
   "metadata": {},
   "outputs": [],
   "source": [
    "# merge article and talk pages\n",
    "# rename metrics for talk pages (add prefix 'talk.')\n",
    "# remove the leading 'Talk:' for talk pages\n",
    "# then join talk and article pages to get all info for an article pagedata"
   ]
  },
  {
   "cell_type": "code",
   "execution_count": 19,
   "metadata": {},
   "outputs": [],
   "source": [
    "article = data[data['crc'].isnull()].drop(columns={'crc'})"
   ]
  },
  {
   "cell_type": "code",
   "execution_count": 20,
   "metadata": {},
   "outputs": [],
   "source": [
    "talk = data[data['crc'].notnull()]"
   ]
  },
  {
   "cell_type": "code",
   "execution_count": 21,
   "metadata": {},
   "outputs": [],
   "source": [
    "talk.index = talk.index.str.replace('Talk:','')"
   ]
  },
  {
   "cell_type": "code",
   "execution_count": 22,
   "metadata": {},
   "outputs": [],
   "source": [
    "talk.columns = ['talk.' + str(col) for col in talk.columns]"
   ]
  },
  {
   "cell_type": "code",
   "execution_count": 23,
   "metadata": {},
   "outputs": [],
   "source": [
    "final = article.join(talk).fillna(0).astype('int')"
   ]
  },
  {
   "cell_type": "code",
   "execution_count": 33,
   "metadata": {},
   "outputs": [],
   "source": [
    "final.to_csv('../../intermediate-result/final-data-for-training.csv',index=True)"
   ]
  },
  {
   "cell_type": "markdown",
   "metadata": {},
   "source": [
    "# create regression model"
   ]
  },
  {
   "cell_type": "code",
   "execution_count": 35,
   "metadata": {},
   "outputs": [],
   "source": [
    "X = final[['revision.count','page.length','unique.editors','links.count','anon.edits','minor','reverts','talk.revision.count',\n",
    "         'talk.page.length','talk.unique.editors','talk.links.count','talk.anon.edits','talk.minor']].values"
   ]
  },
  {
   "cell_type": "code",
   "execution_count": 36,
   "metadata": {},
   "outputs": [],
   "source": [
    "y = final['talk.crc'].values"
   ]
  },
  {
   "cell_type": "code",
   "execution_count": 68,
   "metadata": {},
   "outputs": [
    {
     "data": {
      "text/plain": [
       "Pipeline(steps=[('standardscaler', StandardScaler()),\n",
       "                ('svr', SVR(C=1000, epsilon=0.05, kernel='linear'))])"
      ]
     },
     "execution_count": 68,
     "metadata": {},
     "output_type": "execute_result"
    }
   ],
   "source": [
    "X_train, X_valid, y_train, y_valid = train_test_split(X,y,test_size=0.2)\n",
    "model = make_pipeline(StandardScaler(), SVR(C=1000, epsilon=0.05,kernel='linear'))\n",
    "model.fit(X_train,y_train)"
   ]
  },
  {
   "cell_type": "code",
   "execution_count": 69,
   "metadata": {},
   "outputs": [
    {
     "data": {
      "image/png": "[encoded data removed]",
      "text/plain": [
       "<Figure size 432x288 with 1 Axes>"
      ]
     },
     "metadata": {
      "needs_background": "light"
     },
     "output_type": "display_data"
    }
   ],
   "source": [
    "predicted = model.predict(X_valid)\n",
    "plt.plot(predicted, y_valid,'.')\n",
    "m, b = np.polyfit(predicted, y_valid, 1)\n",
    "plt.plot(predicted, predicted,'--',linewidth=1)\n",
    "plt.plot()\n",
    "plt.xlabel('Predicted controversial revisions')\n",
    "plt.ylabel('Actual controversial revisions')\n",
    "plt.ylim(ymin=0)\n",
    "plt.xlim(xmin=0)\n",
    "plt.savefig('../../result/model_performance.png')\n",
    "plt.show()"
   ]
  },
  {
   "cell_type": "code",
   "execution_count": 70,
   "metadata": {},
   "outputs": [
    {
     "name": "stdout",
     "output_type": "stream",
     "text": [
      "0.9015624948985629\n"
     ]
    }
   ],
   "source": [
    "score = model.score(X_valid,y_valid)\n",
    "print(score)"
   ]
  },
  {
   "cell_type": "code",
   "execution_count": 71,
   "metadata": {},
   "outputs": [],
   "source": [
    "with open('../../result/regression-model.pkl', 'wb') as fid:\n",
    "    cPickle.dump(model, fid)"
   ]
  },
  {
   "cell_type": "markdown",
   "metadata": {},
   "source": [
    "# get metrics for TCM"
   ]
  },
  {
   "cell_type": "code",
   "execution_count": 2,
   "metadata": {},
   "outputs": [],
   "source": [
    "parquetdir = '../../tcm-columns-add-main/'"
   ]
  },
  {
   "cell_type": "code",
   "execution_count": 11,
   "metadata": {},
   "outputs": [],
   "source": [
    "page_title = ddf.read_parquet(os.path.join(parquetdir,'page.title')).compute().drop(columns={'dir0'})"
   ]
  },
  {
   "cell_type": "code",
   "execution_count": 75,
   "metadata": {},
   "outputs": [],
   "source": [
    "x = page_title['page.title'].unique()"
   ]
  },
  {
   "cell_type": "code",
   "execution_count": null,
   "metadata": {},
   "outputs": [],
   "source": [
    "# get all TCM titles, and only read the folders contains the TCM articles"
   ]
  },
  {
   "cell_type": "code",
   "execution_count": 80,
   "metadata": {},
   "outputs": [],
   "source": [
    "with open('../../intermediate-result/title-look-up.pickle', 'rb') as handle:\n",
    "    title_lookup = pickle.load(handle)"
   ]
  },
  {
   "cell_type": "code",
   "execution_count": 82,
   "metadata": {},
   "outputs": [],
   "source": [
    "def update_folder_title_info(title,folder):\n",
    "    if folder in folder_title_info:\n",
    "        folder_title_info[folder].append(title)\n",
    "    else:\n",
    "        folder_title_info[folder] = [title]"
   ]
  },
  {
   "cell_type": "code",
   "execution_count": 84,
   "metadata": {},
   "outputs": [],
   "source": [
    "for title in x:\n",
    "    folder = title_lookup[title]\n",
    "    update_folder_title_info(title,folder)"
   ]
  },
  {
   "cell_type": "code",
   "execution_count": 85,
   "metadata": {},
   "outputs": [],
   "source": [
    "all_files = folder_title_info.keys()"
   ]
  },
  {
   "cell_type": "code",
   "execution_count": 87,
   "metadata": {},
   "outputs": [],
   "source": [
    "data = pd.DataFrame()"
   ]
  },
  {
   "cell_type": "code",
   "execution_count": 88,
   "metadata": {},
   "outputs": [],
   "source": [
    "for file in all_files:\n",
    "    test = ddf.read_parquet(os.path.join(metric_path,file,'minor')).compute()\n",
    "    test = test.loc[test.index.isin(x)]\n",
    "    if test.empty:\n",
    "        continue \n",
    "    test = test.join(ddf.read_parquet(os.path.join(metric_path,file,'revision.count')).compute())\n",
    "    test = test.join(ddf.read_parquet(os.path.join(metric_path,file,'page.length')).compute())\n",
    "    test = test.join(ddf.read_parquet(os.path.join(metric_path,file,'unique.editors')).compute())\n",
    "    test = test.join(ddf.read_parquet(os.path.join(metric_path,file,'links.count')).compute())\n",
    "    test = test.join(ddf.read_parquet(os.path.join(metric_path,file,'anon.edits')).compute())\n",
    "    test = test.join(ddf.read_parquet(os.path.join(metric_path,file,'reverts_new')).compute())\n",
    "    test.to_csv('../../intermediate-result/TCM/tcm_metrics.csv', mode='a', header=False)\n",
    "    data = pd.concat([data,test])"
   ]
  },
  {
   "cell_type": "markdown",
   "metadata": {},
   "source": [
    "# get c score for articles"
   ]
  },
  {
   "cell_type": "code",
   "execution_count": 3,
   "metadata": {},
   "outputs": [],
   "source": [
    "data = pd.read_csv('../../intermediate-result/TCM/tcm_metrics.csv',names=['minor','revision.count','page.length',\\\n",
    "                                'unique.editors','links.count','anon.edits','reverts'])"
   ]
  },
  {
   "cell_type": "code",
   "execution_count": null,
   "metadata": {},
   "outputs": [],
   "source": []
  },
  {
   "cell_type": "code",
   "execution_count": 4,
   "metadata": {},
   "outputs": [],
   "source": [
    "article = data.loc[~data.index.str.startswith('Talk:')]\n",
    "talk = data.loc[data.index.str.startswith('Talk:')]\n",
    "talk.index = talk.index.str.replace('Talk:','')\n",
    "talk.columns = ['talk.' + str(col) for col in talk.columns]\n",
    "final = article.join(talk)"
   ]
  },
  {
   "cell_type": "code",
   "execution_count": 5,
   "metadata": {},
   "outputs": [],
   "source": [
    "final = final.fillna(0).astype('int')"
   ]
  },
  {
   "cell_type": "code",
   "execution_count": 6,
   "metadata": {},
   "outputs": [],
   "source": [
    "with open('../../result/regression-model.pkl', 'rb') as fid:\n",
    "    model = cPickle.load(fid)\n",
    "def estimate_crc(input_data):\n",
    "    predict = model.predict(input_data)\n",
    "    predict = round(predict[0],2)\n",
    "    return 0 if predict < 0 else predict"
   ]
  },
  {
   "cell_type": "code",
   "execution_count": 7,
   "metadata": {},
   "outputs": [],
   "source": [
    "final['estimated_crc'] = final.apply(lambda df: estimate_crc([[df['revision.count'],df['page.length'],df['unique.editors'],\n",
    "        df['links.count'],df['anon.edits'],df['minor'],df['reverts'],df['talk.revision.count'],df['talk.page.length'],\n",
    "        df['talk.unique.editors'],df['talk.links.count'],df['talk.anon.edits'],df['talk.minor']]]),axis=1)"
   ]
  },
  {
   "cell_type": "code",
   "execution_count": 8,
   "metadata": {},
   "outputs": [],
   "source": [
    "final['estimated_crc_normalized'] = final['estimated_crc']/final['estimated_crc'].max()"
   ]
  },
  {
   "cell_type": "markdown",
   "metadata": {},
   "source": [
    "# get c score for editors"
   ]
  },
  {
   "cell_type": "code",
   "execution_count": 9,
   "metadata": {},
   "outputs": [],
   "source": [
    "crc_dict = final['estimated_crc'].to_dict()\n",
    "crc_dict_n = final['estimated_crc_normalized'].to_dict()"
   ]
  },
  {
   "cell_type": "code",
   "execution_count": null,
   "metadata": {},
   "outputs": [],
   "source": []
  },
  {
   "cell_type": "code",
   "execution_count": 12,
   "metadata": {},
   "outputs": [],
   "source": [
    "def is_talk(text):\n",
    "    return re.search('Talk:', text) != None"
   ]
  },
  {
   "cell_type": "code",
   "execution_count": 13,
   "metadata": {},
   "outputs": [],
   "source": [
    "revisions = final['revision.count'].to_dict()"
   ]
  },
  {
   "cell_type": "code",
   "execution_count": 14,
   "metadata": {},
   "outputs": [],
   "source": [
    "selected_editors = pd.read_parquet('../../intermediate-result/TCM/editors-with-sig-contrib-at-least-10').index"
   ]
  },
  {
   "cell_type": "code",
   "execution_count": 15,
   "metadata": {},
   "outputs": [],
   "source": [
    "user_contribution = pd.read_parquet('../../intermediate-result/TCM/sig-contrib-info')"
   ]
  },
  {
   "cell_type": "code",
   "execution_count": 19,
   "metadata": {},
   "outputs": [],
   "source": [
    "user_contribution = user_contribution[~user_contribution['page.title'].apply(is_talk)]"
   ]
  },
  {
   "cell_type": "code",
   "execution_count": 20,
   "metadata": {},
   "outputs": [],
   "source": [
    "user_contribution = user_contribution.groupby(['contributor.username','page.title']).sum()"
   ]
  },
  {
   "cell_type": "code",
   "execution_count": 21,
   "metadata": {},
   "outputs": [],
   "source": [
    "res = {}\n",
    "res_normalized ={}"
   ]
  },
  {
   "cell_type": "code",
   "execution_count": 22,
   "metadata": {},
   "outputs": [],
   "source": [
    "for user in selected_editors:\n",
    "    if user not in user_contribution.index.get_level_values(0):\n",
    "        res[user] = 0\n",
    "        continue\n",
    "    contributions = user_contribution.loc[user]\n",
    "    contributions = contributions.to_dict()['sig.contributions']\n",
    "    c = 0\n",
    "    c_n = 0\n",
    "    for key,val in contributions.items():\n",
    "        crc = crc_dict[key]\n",
    "        crc_n = crc_dict_n[key]\n",
    "        c += crc * val/revisions[key]\n",
    "        c_n += crc_n * val/revisions[key]\n",
    "    res[user] = c\n",
    "    res_normalized[user] = c_n"
   ]
  },
  {
   "cell_type": "code",
   "execution_count": 24,
   "metadata": {},
   "outputs": [],
   "source": [
    "res_df = pd.DataFrame(res.items(), columns=['contributor', 'c_score']).set_index('contributor')\n",
    "res_n_df = pd.DataFrame(res_normalized.items(), columns=['contributor', 'c_score_normalized']).set_index('contributor')"
   ]
  },
  {
   "cell_type": "code",
   "execution_count": 26,
   "metadata": {},
   "outputs": [],
   "source": [
    "res_df.to_csv(\"../../result/TCM/TCM-CScore-user.tsv\", sep=\"\\t\",encoding='utf-16')"
   ]
  },
  {
   "cell_type": "code",
   "execution_count": 27,
   "metadata": {},
   "outputs": [],
   "source": [
    "article_crc = final[['estimated_crc']]"
   ]
  },
  {
   "cell_type": "code",
   "execution_count": 28,
   "metadata": {},
   "outputs": [],
   "source": [
    "article_crc.to_csv(\"../../result/TCM/TCM-CScore-article.tsv\", sep=\"\\t\",encoding='utf-16')"
   ]
  },
  {
   "cell_type": "code",
   "execution_count": 29,
   "metadata": {},
   "outputs": [],
   "source": [
    "res_df.to_parquet('../../result/TCM/TCM-CScore-user.parquet')"
   ]
  },
  {
   "cell_type": "code",
   "execution_count": 30,
   "metadata": {},
   "outputs": [],
   "source": [
    "article_crc.to_parquet('../../result/TCM/TCM-CScore-article.parquet')"
   ]
  },
  {
   "cell_type": "code",
   "execution_count": 31,
   "metadata": {},
   "outputs": [],
   "source": [
    "final.to_parquet('../../intermediate-result/TCM/TCM-article-info.parquet')"
   ]
  },
  {
   "cell_type": "code",
   "execution_count": 33,
   "metadata": {},
   "outputs": [],
   "source": [
    "article_crc_norm = final[['estimated_crc_normalized']]"
   ]
  },
  {
   "cell_type": "code",
   "execution_count": 34,
   "metadata": {},
   "outputs": [],
   "source": [
    "article_crc_norm.to_parquet('../../result/TCM/TCM-normalized-CScore-article.parquet')"
   ]
  },
  {
   "cell_type": "code",
   "execution_count": 35,
   "metadata": {},
   "outputs": [],
   "source": [
    "res_n_df.to_parquet('../../result/TCM/TCM-normalized-CScore-user.parquet')"
   ]
  },
  {
   "cell_type": "code",
   "execution_count": null,
   "metadata": {},
   "outputs": [],
   "source": []
  }
 ],
 "metadata": {
  "kernelspec": {
   "display_name": "Python 3",
   "language": "python",
   "name": "python3"
  },
  "language_info": {
   "codemirror_mode": {
    "name": "ipython",
    "version": 3
   },
   "file_extension": ".py",
   "mimetype": "text/x-python",
   "name": "python",
   "nbconvert_exporter": "python",
   "pygments_lexer": "ipython3",
   "version": "3.8.10"
  }
 },
 "nbformat": 4,
 "nbformat_minor": 4
}
