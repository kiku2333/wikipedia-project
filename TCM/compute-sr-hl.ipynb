{
 "cells": [
  {
   "cell_type": "code",
   "execution_count": 1,
   "metadata": {},
   "outputs": [],
   "source": [
    "import dask.dataframe as ddf\n",
    "import pandas as pd\n",
    "import numpy as np\n",
    "import re\n",
    "import os\n",
    "import time\n",
    "from glob import glob\n",
    "from wikiwho_wrapper import WikiWho\n",
    "import mwparserfromhell\n",
    "import string\n",
    "import requests\n",
    "import math"
   ]
  },
  {
   "cell_type": "code",
   "execution_count": 2,
   "metadata": {},
   "outputs": [],
   "source": [
    "ww = WikiWho('wikiProject','Apple1234')"
   ]
  },
  {
   "cell_type": "code",
   "execution_count": 4,
   "metadata": {},
   "outputs": [],
   "source": [
    "parquetdir = '../../tcm-columns-add-main'"
   ]
  },
  {
   "cell_type": "code",
   "execution_count": 5,
   "metadata": {},
   "outputs": [],
   "source": [
    "page_title = ddf.read_parquet(os.path.join(parquetdir,'page.title')).compute()\n",
    "page_title = page_title.drop(columns={'dir0'})"
   ]
  },
  {
   "cell_type": "code",
   "execution_count": 6,
   "metadata": {},
   "outputs": [],
   "source": [
    "timestamp = ddf.read_parquet(os.path.join(parquetdir,'revision.timestamp')).compute()\n",
    "timestamp = timestamp.drop(columns={'dir0'})"
   ]
  },
  {
   "cell_type": "code",
   "execution_count": 7,
   "metadata": {},
   "outputs": [],
   "source": [
    "df = page_title.join(timestamp)\n",
    "df_max_time = df.groupby('page.title').agg({'revision.timestamp':'max'}).reset_index()\n",
    "x = df_max_time.merge(df.reset_index(),on=['page.title','revision.timestamp'])\n",
    "x = x.set_index('page.title')\n",
    "x = x[~x.index.duplicated(keep='first')]"
   ]
  },
  {
   "cell_type": "code",
   "execution_count": 8,
   "metadata": {},
   "outputs": [],
   "source": [
    "contributor = ddf.read_parquet(os.path.join(parquetdir,'contributor.username')).compute()\n",
    "contributor = contributor.drop(columns={'dir0'})"
   ]
  },
  {
   "cell_type": "code",
   "execution_count": 9,
   "metadata": {},
   "outputs": [],
   "source": [
    "contributor_id = ddf.read_parquet(os.path.join(parquetdir,'contributor.id')).compute()\n",
    "contributor_id = contributor_id.drop(columns={'dir0'})"
   ]
  },
  {
   "cell_type": "code",
   "execution_count": 10,
   "metadata": {},
   "outputs": [],
   "source": [
    "contributor = contributor.join(contributor_id)"
   ]
  },
  {
   "cell_type": "code",
   "execution_count": 11,
   "metadata": {},
   "outputs": [],
   "source": [
    "contributor_info = contributor[~contributor['contributor.username'].duplicated(keep='first')].set_index('contributor.id')"
   ]
  },
  {
   "cell_type": "code",
   "execution_count": 12,
   "metadata": {},
   "outputs": [],
   "source": [
    "contributor_info = contributor_info.to_dict()['contributor.username']"
   ]
  },
  {
   "cell_type": "code",
   "execution_count": 13,
   "metadata": {},
   "outputs": [],
   "source": [
    "kept_users = pd.read_parquet('../../intermediate-result/TCM/editors-with-sig-contrib-at-least-10')\n",
    "kept_users_list = kept_users.index"
   ]
  },
  {
   "cell_type": "code",
   "execution_count": 14,
   "metadata": {},
   "outputs": [],
   "source": [
    "fin_df = contributor.join(page_title)"
   ]
  },
  {
   "cell_type": "code",
   "execution_count": null,
   "metadata": {},
   "outputs": [],
   "source": []
  },
  {
   "cell_type": "code",
   "execution_count": 16,
   "metadata": {},
   "outputs": [],
   "source": [
    "sr = {}\n",
    "hl = {}"
   ]
  },
  {
   "cell_type": "code",
   "execution_count": 17,
   "metadata": {},
   "outputs": [],
   "source": [
    "# x.index remove talks\n",
    "all_titles = list(x.index)"
   ]
  },
  {
   "cell_type": "code",
   "execution_count": 18,
   "metadata": {},
   "outputs": [],
   "source": [
    "all_articles = [i for i in all_titles if not i.startswith('Talk:')]"
   ]
  },
  {
   "cell_type": "code",
   "execution_count": 19,
   "metadata": {},
   "outputs": [
    {
     "name": "stdout",
     "output_type": "stream",
     "text": [
      "Connection failed (attempt 1 of 2) \n",
      "Connection failed (attempt 2 of 2) \n",
      "400 Client Error: Bad Request for url: https://api.wikiwho.net/en/api/v1.0.0-beta/rev_content/Agriculture%20in%20Chinese%20mythology/503367746/?o_rev_id=true&editor=true&token_id=true&out=true&in=true\n",
      "Connection failed (attempt 1 of 2) \n",
      "Connection failed (attempt 2 of 2) \n",
      "400 Client Error: Bad Request for url: https://api.wikiwho.net/en/api/v1.0.0-beta/rev_content/Daoyin/228921533/?o_rev_id=true&editor=true&token_id=true&out=true&in=true\n",
      "Connection failed (attempt 1 of 2) \n",
      "Connection failed (attempt 2 of 2) \n",
      "400 Client Error: Bad Request for url: https://api.wikiwho.net/en/api/v1.0.0-beta/rev_content/Ephedra/902098178/?o_rev_id=true&editor=true&token_id=true&out=true&in=true\n",
      "Connection failed (attempt 1 of 2) \n",
      "Connection failed (attempt 2 of 2) \n",
      "400 Client Error: Bad Request for url: https://api.wikiwho.net/en/api/v1.0.0-beta/rev_content/Gallbladder%20(Chinese%20medicine)/683162880/?o_rev_id=true&editor=true&token_id=true&out=true&in=true\n",
      "Connection failed (attempt 1 of 2) \n",
      "Connection failed (attempt 2 of 2) \n",
      "400 Client Error: Bad Request for url: https://api.wikiwho.net/en/api/v1.0.0-beta/rev_content/Pseudolarix/912393055/?o_rev_id=true&editor=true&token_id=true&out=true&in=true\n",
      "Connection failed (attempt 1 of 2) \n",
      "Connection failed (attempt 2 of 2) \n",
      "400 Client Error: Bad Request for url: https://api.wikiwho.net/en/api/v1.0.0-beta/rev_content/Pseudolarix%20amabilis/818775087/?o_rev_id=true&editor=true&token_id=true&out=true&in=true\n",
      "Connection failed (attempt 1 of 2) \n",
      "Connection failed (attempt 2 of 2) \n",
      "400 Client Error: Bad Request for url: https://api.wikiwho.net/en/api/v1.0.0-beta/rev_content/Sundo/910047359/?o_rev_id=true&editor=true&token_id=true&out=true&in=true\n",
      "CPU times: user 19min 46s, sys: 6.93 s, total: 19min 53s\n",
      "Wall time: 50min 30s\n"
     ]
    }
   ],
   "source": [
    "%%time\n",
    "for title in all_articles:\n",
    "    # sr\n",
    "    # get content for most current content\n",
    "    max_rev = x.loc[title]['index']\n",
    "#     response = ww.api.specific_rev_content_by_rev_id(max_rev,title)\n",
    "    try:\n",
    "        response = ww.api.specific_rev_content_by_rev_id(max_rev,title)\n",
    "    except requests.exceptions.RequestException as e:\n",
    "        print(e)\n",
    "        continue\n",
    "    all_tokens = response['revisions'][0][max_rev]['tokens']\n",
    "    kept_editor_count = {}\n",
    "    for i,v in enumerate(d for d in all_tokens): \n",
    "        editor = v['editor']\n",
    "        if editor not in contributor_info:\n",
    "            continue\n",
    "        editor_name = contributor_info[editor]\n",
    "        if editor_name not in kept_users_list:\n",
    "            continue\n",
    "        if editor_name in kept_editor_count:\n",
    "            kept_editor_count[editor_name] += 1\n",
    "        else:\n",
    "            kept_editor_count[editor_name] = 1\n",
    "    \n",
    "    # get total number of token added for each editor\n",
    "    a = fin_df[fin_df['page.title'] == title]\n",
    "    all_indices = list(a.index)\n",
    "    \n",
    "#     response = ww.api.all_content(title)\n",
    "    try:\n",
    "        response = ww.api.all_content(title)\n",
    "    except requests.exceptions.RequestException as e:  # This is the correct syntax\n",
    "        print(e)\n",
    "        continue\n",
    "    all_tokens_added = {}\n",
    "    all_tokens = response['all_tokens']\n",
    "    for i in all_tokens: \n",
    "        # if the token was added after the most current content we have\n",
    "        # then do not count it\n",
    "        if str(i['o_rev_id']) not in all_indices:\n",
    "            continue\n",
    "        editor_id = i['editor']\n",
    "        if editor_id not in contributor_info:\n",
    "            continue\n",
    "        editor_name = contributor_info[editor_id]\n",
    "        if editor_name not in kept_users_list:\n",
    "            continue\n",
    "        if editor_name in all_tokens_added:\n",
    "            all_tokens_added[editor_name] += 1\n",
    "        else:\n",
    "            all_tokens_added[editor_name] = 1\n",
    "    \n",
    "#     res = {}\n",
    "#     for i,v in kept_editor_count.items():\n",
    "#         res[i] = v/all_tokens_added[i]\n",
    "#     sr[title] = res\n",
    "\n",
    "    sr[title] = {'all_added':all_tokens_added,'survived':kept_editor_count}\n",
    "    \n",
    "    \n",
    "    ########### end of sr ##################\n",
    "    \n",
    "    # hl\n",
    "    a = a.join(timestamp)\n",
    "    a = a[~a.index.duplicated(keep='first')]\n",
    "    a = a.sort_values('revision.timestamp')\n",
    "    a.insert(0, 'nth_revision', range(0, len(a)))\n",
    "    \n",
    "    \n",
    "    # res stores hl for each rev (per token)\n",
    "    res = {}\n",
    "\n",
    "    def add_to_res(ind,val):\n",
    "        if ind in res:\n",
    "            res[ind].append(val)\n",
    "        else:\n",
    "            res[ind] = [val]\n",
    "\n",
    "    max_n = a['nth_revision'].max()\n",
    "\n",
    "    for v in all_tokens:\n",
    "        if str(v['o_rev_id']) not in all_indices:\n",
    "            continue\n",
    "        editor_id = v['editor']\n",
    "        if editor_id not in contributor_info:\n",
    "            continue\n",
    "        editor_name = contributor_info[editor_id]\n",
    "\n",
    "        # check if editor is kept\n",
    "        if editor_name not in kept_users_list:\n",
    "            continue\n",
    "\n",
    "        # in and out only look at the revisions we have\n",
    "    #     ins = v['in']\n",
    "    #     ins = [i for i in ins if str(i) in all_indices]\n",
    "        outs = v['out']\n",
    "        outs = [i for i in outs if str(i) in all_indices]\n",
    "\n",
    "        o_rev = v['o_rev_id']\n",
    "\n",
    "        if len(outs) == 0:\n",
    "            age = max_n - a.loc[str(o_rev)]['nth_revision']\n",
    "            add_to_res(o_rev,age)\n",
    "            continue\n",
    "\n",
    "        deleted_n = a.loc[str(outs[-1])]['nth_revision']\n",
    "        curr_n = a.loc[str(o_rev)]['nth_revision']\n",
    "        add_to_res(o_rev,deleted_n - curr_n)\n",
    "\n",
    "    curr_hl = {}\n",
    "    for i,v in res.items():\n",
    "        v.sort()\n",
    "        mid = math.ceil(len(v)/2) - 1\n",
    "        curr_hl[str(i)] = v[mid]\n",
    "\n",
    "    hl[title] = curr_hl"
   ]
  },
  {
   "cell_type": "code",
   "execution_count": 20,
   "metadata": {},
   "outputs": [],
   "source": [
    "all_added_df = pd.concat({\n",
    "        k: pd.DataFrame.from_dict(v['all_added'], 'index') for k, v in sr.items()\n",
    "    }, \n",
    "    axis=0).reset_index().rename(columns={'level_0':'page.title','level_1':'contributor.username',0:'all_added_tokens'})"
   ]
  },
  {
   "cell_type": "code",
   "execution_count": 21,
   "metadata": {},
   "outputs": [],
   "source": [
    "survive_df = pd.concat({\n",
    "        k: pd.DataFrame.from_dict(v['survived'], 'index') for k, v in sr.items()\n",
    "    }, \n",
    "    axis=0).reset_index().rename(columns={'level_0':'page.title','level_1':'contributor.username',0:'survived_tokens'})"
   ]
  },
  {
   "cell_type": "code",
   "execution_count": 22,
   "metadata": {},
   "outputs": [],
   "source": [
    "all_added_df = all_added_df.set_index(['contributor.username','page.title'])"
   ]
  },
  {
   "cell_type": "code",
   "execution_count": 23,
   "metadata": {},
   "outputs": [],
   "source": [
    "survive_df = survive_df.set_index(['contributor.username','page.title'])"
   ]
  },
  {
   "cell_type": "code",
   "execution_count": 24,
   "metadata": {},
   "outputs": [],
   "source": [
    "res = all_added_df.join(survive_df).fillna(0)"
   ]
  },
  {
   "cell_type": "code",
   "execution_count": 26,
   "metadata": {},
   "outputs": [],
   "source": [
    "res.to_parquet('../../result/TCM/TCM-sr')"
   ]
  },
  {
   "cell_type": "code",
   "execution_count": 27,
   "metadata": {},
   "outputs": [],
   "source": [
    "fin_hl = pd.concat({\n",
    "        k: pd.DataFrame.from_dict(v, 'index') for k, v in hl.items()\n",
    "    }, \n",
    "    axis=0).reset_index().rename(columns={'level_0':'page.title','level_1':'index',0:'hl'}).set_index('index')"
   ]
  },
  {
   "cell_type": "code",
   "execution_count": 30,
   "metadata": {},
   "outputs": [],
   "source": [
    "fin_hl.to_parquet('../../result/TCM/TCM-hl')"
   ]
  },
  {
   "cell_type": "code",
   "execution_count": null,
   "metadata": {},
   "outputs": [],
   "source": []
  },
  {
   "cell_type": "code",
   "execution_count": 31,
   "metadata": {},
   "outputs": [],
   "source": [
    "# editor's hl"
   ]
  },
  {
   "cell_type": "code",
   "execution_count": null,
   "metadata": {},
   "outputs": [],
   "source": []
  },
  {
   "cell_type": "code",
   "execution_count": 32,
   "metadata": {},
   "outputs": [],
   "source": [
    "df = fin_hl.drop(columns={'page.title'}).join(fin_df)"
   ]
  },
  {
   "cell_type": "code",
   "execution_count": 33,
   "metadata": {},
   "outputs": [],
   "source": [
    "df = df.drop(columns={'contributor.id'})"
   ]
  },
  {
   "cell_type": "code",
   "execution_count": 35,
   "metadata": {},
   "outputs": [],
   "source": [
    "df.to_parquet('../../result/TCM/TCM-hl-with-editor')"
   ]
  },
  {
   "cell_type": "code",
   "execution_count": null,
   "metadata": {},
   "outputs": [],
   "source": []
  },
  {
   "cell_type": "code",
   "execution_count": null,
   "metadata": {},
   "outputs": [],
   "source": []
  },
  {
   "cell_type": "code",
   "execution_count": null,
   "metadata": {},
   "outputs": [],
   "source": []
  }
 ],
 "metadata": {
  "kernelspec": {
   "display_name": "Python 3",
   "language": "python",
   "name": "python3"
  },
  "language_info": {
   "codemirror_mode": {
    "name": "ipython",
    "version": 3
   },
   "file_extension": ".py",
   "mimetype": "text/x-python",
   "name": "python",
   "nbconvert_exporter": "python",
   "pygments_lexer": "ipython3",
   "version": "3.8.10"
  }
 },
 "nbformat": 4,
 "nbformat_minor": 4
}
